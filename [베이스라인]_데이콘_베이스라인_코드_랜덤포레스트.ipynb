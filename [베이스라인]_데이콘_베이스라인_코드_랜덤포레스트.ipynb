{
  "nbformat": 4,
  "nbformat_minor": 0,
  "metadata": {
    "colab": {
      "name": "[베이스라인]_데이콘 베이스라인 코드 - 랜덤포레스트.ipynb",
      "provenance": [],
      "collapsed_sections": [],
      "include_colab_link": true
    },
    "kernelspec": {
      "display_name": "eunil",
      "language": "python",
      "name": "eunil"
    },
    "language_info": {
      "codemirror_mode": {
        "name": "ipython",
        "version": 3
      },
      "file_extension": ".py",
      "mimetype": "text/x-python",
      "name": "python",
      "nbconvert_exporter": "python",
      "pygments_lexer": "ipython3",
      "version": "3.7.0"
    }
  },
  "cells": [
    {
      "cell_type": "markdown",
      "metadata": {
        "id": "view-in-github",
        "colab_type": "text"
      },
      "source": [
        "<a href=\"https://colab.research.google.com/github/workingoncoding/DACON_-/blob/main/%5B%EB%B2%A0%EC%9D%B4%EC%8A%A4%EB%9D%BC%EC%9D%B8%5D_%EB%8D%B0%EC%9D%B4%EC%BD%98_%EB%B2%A0%EC%9D%B4%EC%8A%A4%EB%9D%BC%EC%9D%B8_%EC%BD%94%EB%93%9C_%EB%9E%9C%EB%8D%A4%ED%8F%AC%EB%A0%88%EC%8A%A4%ED%8A%B8.ipynb\" target=\"_parent\"><img src=\"https://colab.research.google.com/assets/colab-badge.svg\" alt=\"Open In Colab\"/></a>"
      ]
    },
    {
      "cell_type": "markdown",
      "metadata": {
        "id": "uokb1MGDm4Rh"
      },
      "source": [
        "구글 드라이브 연결"
      ]
    },
    {
      "cell_type": "code",
      "metadata": {
        "colab": {
          "base_uri": "https://localhost:8080/"
        },
        "id": "SFo5ONuVYXH8",
        "outputId": "d6331cfa-6d00-485a-feb1-031d68b52501"
      },
      "source": [
        "from google.colab import drive\n",
        "drive.mount('/gdrive')"
      ],
      "execution_count": null,
      "outputs": [
        {
          "output_type": "stream",
          "text": [
            "Drive already mounted at /gdrive; to attempt to forcibly remount, call drive.mount(\"/gdrive\", force_remount=True).\n"
          ],
          "name": "stdout"
        }
      ]
    },
    {
      "cell_type": "markdown",
      "metadata": {
        "id": "xS4NqfXJnQht"
      },
      "source": [
        "작업폴더 경로 설정"
      ]
    },
    {
      "cell_type": "code",
      "metadata": {
        "id": "3s9q1stuYa0A"
      },
      "source": [
        "workspace_path = '/gdrive/My Drive/DACON/주차수요/parking_data'  # 과제 파일 업로드한 경로 반영"
      ],
      "execution_count": null,
      "outputs": []
    },
    {
      "cell_type": "markdown",
      "metadata": {
        "id": "E57azcSLX-kn"
      },
      "source": [
        "## 패키지"
      ]
    },
    {
      "cell_type": "code",
      "metadata": {
        "colab": {
          "base_uri": "https://localhost:8080/"
        },
        "id": "-YnntQViX-kq",
        "outputId": "3d6f319f-5b29-43c3-ae4a-188937ef8176"
      },
      "source": [
        "import pandas as pd\n",
        "import numpy as np\n",
        "import os\n",
        "import seaborn as sns\n",
        "import matplotlib\n",
        "import plotly.express as px\n",
        "\n",
        "import matplotlib.pyplot as plt \n",
        "from matplotlib import font_manager as fm\n",
        "from sklearn.model_selection import RepeatedKFold\n",
        "\n",
        "!apt-get update -qq\n",
        "!apt-get install fonts-nanum* -qq\n",
        "\n",
        "font_path = '/usr/share/fonts/truetype/nanum/NanumBarunGothic.ttf'\n",
        "font_name = fm.FontProperties(fname=font_path, size=10).get_name()\n",
        "print(font_name)\n",
        "plt.rc('font', family=font_name)\n",
        "\n",
        "fm._rebuild()\n",
        "matplotlib.rcParams['axes.unicode_minus'] = False\n",
        "\n",
        "from sklearn.model_selection import train_test_split\n",
        "from sklearn.model_selection import KFold \n",
        "from sklearn.model_selection import cross_val_score\n",
        "from sklearn.model_selection import GridSearchCV\n",
        "from sklearn.ensemble import RandomForestRegressor\n",
        "from sklearn.preprocessing import StandardScaler\n",
        "from sklearn.linear_model import LinearRegression\n",
        "from sklearn.metrics import mean_absolute_error\n",
        "from xgboost import XGBRegressor\n",
        "import lightgbm as LGB\n",
        "from sklearn.cross_decomposition import PLSRegression\n",
        "from sklearn.linear_model import Lasso,ElasticNet,Ridge\n",
        "from sklearn.svm import SVR\n",
        "from tqdm import tqdm"
      ],
      "execution_count": null,
      "outputs": [
        {
          "output_type": "stream",
          "text": [
            "NanumBarunGothic\n"
          ],
          "name": "stdout"
        }
      ]
    },
    {
      "cell_type": "markdown",
      "metadata": {
        "id": "EevNU35rX-kr"
      },
      "source": [
        "## 데이터"
      ]
    },
    {
      "cell_type": "code",
      "metadata": {
        "id": "RIL5aBNjX-ks"
      },
      "source": [
        "import pandas as pd\n",
        "import os\n",
        "\n",
        "#train 데이터\n",
        "train = pd.read_csv(os.path.join(workspace_path, 'train.csv'))\n",
        "\n",
        "#test 데이터\n",
        "test = pd.read_csv(os.path.join(workspace_path, 'test.csv'))\n",
        "\n",
        "#age gender 데이터\n",
        "age_gender = pd.read_csv(os.path.join(workspace_path, 'age_gender_info.csv'))\n",
        "\n",
        "#submission 데이터\n",
        "submission = pd.read_csv(os.path.join(workspace_path, 'sample_submission.csv'))"
      ],
      "execution_count": null,
      "outputs": []
    },
    {
      "cell_type": "code",
      "metadata": {
        "colab": {
          "base_uri": "https://localhost:8080/"
        },
        "id": "P7sF-J8YX-ks",
        "outputId": "468d099d-9eb2-47ec-b7e3-4a68f5c45f4e"
      },
      "source": [
        "train.shape, test.shape, age_gender.shape"
      ],
      "execution_count": null,
      "outputs": [
        {
          "output_type": "execute_result",
          "data": {
            "text/plain": [
              "((2952, 15), (1022, 14), (16, 23))"
            ]
          },
          "metadata": {
            "tags": []
          },
          "execution_count": 640
        }
      ]
    },
    {
      "cell_type": "code",
      "metadata": {
        "colab": {
          "base_uri": "https://localhost:8080/",
          "height": 302
        },
        "id": "rfxVcPqPX-kt",
        "outputId": "eec54011-4e48-4759-b0bb-6e3a3a6704f9"
      },
      "source": [
        "train.head()"
      ],
      "execution_count": null,
      "outputs": [
        {
          "output_type": "execute_result",
          "data": {
            "text/html": [
              "<div>\n",
              "<style scoped>\n",
              "    .dataframe tbody tr th:only-of-type {\n",
              "        vertical-align: middle;\n",
              "    }\n",
              "\n",
              "    .dataframe tbody tr th {\n",
              "        vertical-align: top;\n",
              "    }\n",
              "\n",
              "    .dataframe thead th {\n",
              "        text-align: right;\n",
              "    }\n",
              "</style>\n",
              "<table border=\"1\" class=\"dataframe\">\n",
              "  <thead>\n",
              "    <tr style=\"text-align: right;\">\n",
              "      <th></th>\n",
              "      <th>단지코드</th>\n",
              "      <th>총세대수</th>\n",
              "      <th>임대건물구분</th>\n",
              "      <th>지역</th>\n",
              "      <th>공급유형</th>\n",
              "      <th>전용면적</th>\n",
              "      <th>전용면적별세대수</th>\n",
              "      <th>공가수</th>\n",
              "      <th>자격유형</th>\n",
              "      <th>임대보증금</th>\n",
              "      <th>임대료</th>\n",
              "      <th>도보 10분거리 내 지하철역 수(환승노선 수 반영)</th>\n",
              "      <th>도보 10분거리 내 버스정류장 수</th>\n",
              "      <th>단지내주차면수</th>\n",
              "      <th>등록차량수</th>\n",
              "    </tr>\n",
              "  </thead>\n",
              "  <tbody>\n",
              "    <tr>\n",
              "      <th>0</th>\n",
              "      <td>C2483</td>\n",
              "      <td>900</td>\n",
              "      <td>아파트</td>\n",
              "      <td>경상북도</td>\n",
              "      <td>국민임대</td>\n",
              "      <td>39.72</td>\n",
              "      <td>134</td>\n",
              "      <td>38.0</td>\n",
              "      <td>A</td>\n",
              "      <td>15667000</td>\n",
              "      <td>103680</td>\n",
              "      <td>0.0</td>\n",
              "      <td>3.0</td>\n",
              "      <td>1425.0</td>\n",
              "      <td>1015.0</td>\n",
              "    </tr>\n",
              "    <tr>\n",
              "      <th>1</th>\n",
              "      <td>C2483</td>\n",
              "      <td>900</td>\n",
              "      <td>아파트</td>\n",
              "      <td>경상북도</td>\n",
              "      <td>국민임대</td>\n",
              "      <td>39.72</td>\n",
              "      <td>15</td>\n",
              "      <td>38.0</td>\n",
              "      <td>A</td>\n",
              "      <td>15667000</td>\n",
              "      <td>103680</td>\n",
              "      <td>0.0</td>\n",
              "      <td>3.0</td>\n",
              "      <td>1425.0</td>\n",
              "      <td>1015.0</td>\n",
              "    </tr>\n",
              "    <tr>\n",
              "      <th>2</th>\n",
              "      <td>C2483</td>\n",
              "      <td>900</td>\n",
              "      <td>아파트</td>\n",
              "      <td>경상북도</td>\n",
              "      <td>국민임대</td>\n",
              "      <td>51.93</td>\n",
              "      <td>385</td>\n",
              "      <td>38.0</td>\n",
              "      <td>A</td>\n",
              "      <td>27304000</td>\n",
              "      <td>184330</td>\n",
              "      <td>0.0</td>\n",
              "      <td>3.0</td>\n",
              "      <td>1425.0</td>\n",
              "      <td>1015.0</td>\n",
              "    </tr>\n",
              "    <tr>\n",
              "      <th>3</th>\n",
              "      <td>C2483</td>\n",
              "      <td>900</td>\n",
              "      <td>아파트</td>\n",
              "      <td>경상북도</td>\n",
              "      <td>국민임대</td>\n",
              "      <td>51.93</td>\n",
              "      <td>15</td>\n",
              "      <td>38.0</td>\n",
              "      <td>A</td>\n",
              "      <td>27304000</td>\n",
              "      <td>184330</td>\n",
              "      <td>0.0</td>\n",
              "      <td>3.0</td>\n",
              "      <td>1425.0</td>\n",
              "      <td>1015.0</td>\n",
              "    </tr>\n",
              "    <tr>\n",
              "      <th>4</th>\n",
              "      <td>C2483</td>\n",
              "      <td>900</td>\n",
              "      <td>아파트</td>\n",
              "      <td>경상북도</td>\n",
              "      <td>국민임대</td>\n",
              "      <td>51.93</td>\n",
              "      <td>41</td>\n",
              "      <td>38.0</td>\n",
              "      <td>A</td>\n",
              "      <td>27304000</td>\n",
              "      <td>184330</td>\n",
              "      <td>0.0</td>\n",
              "      <td>3.0</td>\n",
              "      <td>1425.0</td>\n",
              "      <td>1015.0</td>\n",
              "    </tr>\n",
              "  </tbody>\n",
              "</table>\n",
              "</div>"
            ],
            "text/plain": [
              "    단지코드  총세대수 임대건물구분  ... 도보 10분거리 내 버스정류장 수 단지내주차면수   등록차량수\n",
              "0  C2483   900    아파트  ...                3.0  1425.0  1015.0\n",
              "1  C2483   900    아파트  ...                3.0  1425.0  1015.0\n",
              "2  C2483   900    아파트  ...                3.0  1425.0  1015.0\n",
              "3  C2483   900    아파트  ...                3.0  1425.0  1015.0\n",
              "4  C2483   900    아파트  ...                3.0  1425.0  1015.0\n",
              "\n",
              "[5 rows x 15 columns]"
            ]
          },
          "metadata": {
            "tags": []
          },
          "execution_count": 641
        }
      ]
    },
    {
      "cell_type": "code",
      "metadata": {
        "colab": {
          "base_uri": "https://localhost:8080/",
          "height": 302
        },
        "id": "CaSkmqr3X-ku",
        "outputId": "dce1b0be-3711-4795-d82b-d38d337a65a3"
      },
      "source": [
        "test.head()"
      ],
      "execution_count": null,
      "outputs": [
        {
          "output_type": "execute_result",
          "data": {
            "text/html": [
              "<div>\n",
              "<style scoped>\n",
              "    .dataframe tbody tr th:only-of-type {\n",
              "        vertical-align: middle;\n",
              "    }\n",
              "\n",
              "    .dataframe tbody tr th {\n",
              "        vertical-align: top;\n",
              "    }\n",
              "\n",
              "    .dataframe thead th {\n",
              "        text-align: right;\n",
              "    }\n",
              "</style>\n",
              "<table border=\"1\" class=\"dataframe\">\n",
              "  <thead>\n",
              "    <tr style=\"text-align: right;\">\n",
              "      <th></th>\n",
              "      <th>단지코드</th>\n",
              "      <th>총세대수</th>\n",
              "      <th>임대건물구분</th>\n",
              "      <th>지역</th>\n",
              "      <th>공급유형</th>\n",
              "      <th>전용면적</th>\n",
              "      <th>전용면적별세대수</th>\n",
              "      <th>공가수</th>\n",
              "      <th>자격유형</th>\n",
              "      <th>임대보증금</th>\n",
              "      <th>임대료</th>\n",
              "      <th>도보 10분거리 내 지하철역 수(환승노선 수 반영)</th>\n",
              "      <th>도보 10분거리 내 버스정류장 수</th>\n",
              "      <th>단지내주차면수</th>\n",
              "    </tr>\n",
              "  </thead>\n",
              "  <tbody>\n",
              "    <tr>\n",
              "      <th>0</th>\n",
              "      <td>C1072</td>\n",
              "      <td>754</td>\n",
              "      <td>아파트</td>\n",
              "      <td>경기도</td>\n",
              "      <td>국민임대</td>\n",
              "      <td>39.79</td>\n",
              "      <td>116</td>\n",
              "      <td>14.0</td>\n",
              "      <td>H</td>\n",
              "      <td>22830000</td>\n",
              "      <td>189840</td>\n",
              "      <td>0.0</td>\n",
              "      <td>2.0</td>\n",
              "      <td>683.0</td>\n",
              "    </tr>\n",
              "    <tr>\n",
              "      <th>1</th>\n",
              "      <td>C1072</td>\n",
              "      <td>754</td>\n",
              "      <td>아파트</td>\n",
              "      <td>경기도</td>\n",
              "      <td>국민임대</td>\n",
              "      <td>46.81</td>\n",
              "      <td>30</td>\n",
              "      <td>14.0</td>\n",
              "      <td>A</td>\n",
              "      <td>36048000</td>\n",
              "      <td>249930</td>\n",
              "      <td>0.0</td>\n",
              "      <td>2.0</td>\n",
              "      <td>683.0</td>\n",
              "    </tr>\n",
              "    <tr>\n",
              "      <th>2</th>\n",
              "      <td>C1072</td>\n",
              "      <td>754</td>\n",
              "      <td>아파트</td>\n",
              "      <td>경기도</td>\n",
              "      <td>국민임대</td>\n",
              "      <td>46.90</td>\n",
              "      <td>112</td>\n",
              "      <td>14.0</td>\n",
              "      <td>H</td>\n",
              "      <td>36048000</td>\n",
              "      <td>249930</td>\n",
              "      <td>0.0</td>\n",
              "      <td>2.0</td>\n",
              "      <td>683.0</td>\n",
              "    </tr>\n",
              "    <tr>\n",
              "      <th>3</th>\n",
              "      <td>C1072</td>\n",
              "      <td>754</td>\n",
              "      <td>아파트</td>\n",
              "      <td>경기도</td>\n",
              "      <td>국민임대</td>\n",
              "      <td>46.90</td>\n",
              "      <td>120</td>\n",
              "      <td>14.0</td>\n",
              "      <td>H</td>\n",
              "      <td>36048000</td>\n",
              "      <td>249930</td>\n",
              "      <td>0.0</td>\n",
              "      <td>2.0</td>\n",
              "      <td>683.0</td>\n",
              "    </tr>\n",
              "    <tr>\n",
              "      <th>4</th>\n",
              "      <td>C1072</td>\n",
              "      <td>754</td>\n",
              "      <td>아파트</td>\n",
              "      <td>경기도</td>\n",
              "      <td>국민임대</td>\n",
              "      <td>51.46</td>\n",
              "      <td>60</td>\n",
              "      <td>14.0</td>\n",
              "      <td>H</td>\n",
              "      <td>43497000</td>\n",
              "      <td>296780</td>\n",
              "      <td>0.0</td>\n",
              "      <td>2.0</td>\n",
              "      <td>683.0</td>\n",
              "    </tr>\n",
              "  </tbody>\n",
              "</table>\n",
              "</div>"
            ],
            "text/plain": [
              "    단지코드  총세대수  ... 도보 10분거리 내 버스정류장 수 단지내주차면수\n",
              "0  C1072   754  ...                2.0   683.0\n",
              "1  C1072   754  ...                2.0   683.0\n",
              "2  C1072   754  ...                2.0   683.0\n",
              "3  C1072   754  ...                2.0   683.0\n",
              "4  C1072   754  ...                2.0   683.0\n",
              "\n",
              "[5 rows x 14 columns]"
            ]
          },
          "metadata": {
            "tags": []
          },
          "execution_count": 642
        }
      ]
    },
    {
      "cell_type": "code",
      "metadata": {
        "colab": {
          "base_uri": "https://localhost:8080/"
        },
        "id": "MP82e5iNBL7i",
        "outputId": "f6148bdc-82ec-46b8-aeb8-4bcc60b335c3"
      },
      "source": [
        "train.info()"
      ],
      "execution_count": null,
      "outputs": [
        {
          "output_type": "stream",
          "text": [
            "<class 'pandas.core.frame.DataFrame'>\n",
            "RangeIndex: 2952 entries, 0 to 2951\n",
            "Data columns (total 15 columns):\n",
            " #   Column                        Non-Null Count  Dtype  \n",
            "---  ------                        --------------  -----  \n",
            " 0   단지코드                          2952 non-null   object \n",
            " 1   총세대수                          2952 non-null   int64  \n",
            " 2   임대건물구분                        2952 non-null   object \n",
            " 3   지역                            2952 non-null   object \n",
            " 4   공급유형                          2952 non-null   object \n",
            " 5   전용면적                          2952 non-null   float64\n",
            " 6   전용면적별세대수                      2952 non-null   int64  \n",
            " 7   공가수                           2952 non-null   float64\n",
            " 8   자격유형                          2952 non-null   object \n",
            " 9   임대보증금                         2383 non-null   object \n",
            " 10  임대료                           2383 non-null   object \n",
            " 11  도보 10분거리 내 지하철역 수(환승노선 수 반영)  2741 non-null   float64\n",
            " 12  도보 10분거리 내 버스정류장 수            2948 non-null   float64\n",
            " 13  단지내주차면수                       2952 non-null   float64\n",
            " 14  등록차량수                         2952 non-null   float64\n",
            "dtypes: float64(6), int64(2), object(7)\n",
            "memory usage: 346.1+ KB\n"
          ],
          "name": "stdout"
        }
      ]
    },
    {
      "cell_type": "code",
      "metadata": {
        "colab": {
          "base_uri": "https://localhost:8080/"
        },
        "id": "4gkXT0f9BNtV",
        "outputId": "14b1d915-b3bc-475b-ca74-7e2e3e974614"
      },
      "source": [
        "test.info()"
      ],
      "execution_count": null,
      "outputs": [
        {
          "output_type": "stream",
          "text": [
            "<class 'pandas.core.frame.DataFrame'>\n",
            "RangeIndex: 1022 entries, 0 to 1021\n",
            "Data columns (total 14 columns):\n",
            " #   Column                        Non-Null Count  Dtype  \n",
            "---  ------                        --------------  -----  \n",
            " 0   단지코드                          1022 non-null   object \n",
            " 1   총세대수                          1022 non-null   int64  \n",
            " 2   임대건물구분                        1022 non-null   object \n",
            " 3   지역                            1022 non-null   object \n",
            " 4   공급유형                          1022 non-null   object \n",
            " 5   전용면적                          1022 non-null   float64\n",
            " 6   전용면적별세대수                      1022 non-null   int64  \n",
            " 7   공가수                           1022 non-null   float64\n",
            " 8   자격유형                          1020 non-null   object \n",
            " 9   임대보증금                         842 non-null    object \n",
            " 10  임대료                           842 non-null    object \n",
            " 11  도보 10분거리 내 지하철역 수(환승노선 수 반영)  980 non-null    float64\n",
            " 12  도보 10분거리 내 버스정류장 수            1022 non-null   float64\n",
            " 13  단지내주차면수                       1022 non-null   float64\n",
            "dtypes: float64(5), int64(2), object(7)\n",
            "memory usage: 111.9+ KB\n"
          ],
          "name": "stdout"
        }
      ]
    },
    {
      "cell_type": "markdown",
      "metadata": {
        "id": "pLXxg_msG5oW"
      },
      "source": [
        "age_gender info"
      ]
    },
    {
      "cell_type": "code",
      "metadata": {
        "id": "kb7UxhKnG9GL"
      },
      "source": [
        "ag = age_gender.set_index('지역')"
      ],
      "execution_count": null,
      "outputs": []
    },
    {
      "cell_type": "code",
      "metadata": {
        "id": "zyXxwsUqGnUv"
      },
      "source": [
        "age_gender.loc[:,'지역'] = age_gender.loc[:,'지역'].astype('category').cat.codes"
      ],
      "execution_count": null,
      "outputs": []
    },
    {
      "cell_type": "code",
      "metadata": {
        "colab": {
          "base_uri": "https://localhost:8080/",
          "height": 432
        },
        "id": "ydYJZL2mHIlX",
        "outputId": "d9786331-f772-470d-f606-030c26dbd847"
      },
      "source": [
        "fig = plt.figure(figsize = (18, 6))\n",
        "plt.plot(ag.T, marker ='o', linestyle = 'solid')\n",
        "plt.title('지역별 세대')\n",
        "plt.xticks(rotation=45)\n",
        "plt.ylim(top=0.13)\n",
        "plt.show()"
      ],
      "execution_count": null,
      "outputs": [
        {
          "output_type": "display_data",
          "data": {
            "image/png": "[encoded data removed]",
            "text/plain": [
              "<Figure size 1296x432 with 1 Axes>"
            ]
          },
          "metadata": {
            "tags": [],
            "needs_background": "light"
          }
        }
      ]
    },
    {
      "cell_type": "markdown",
      "metadata": {
        "id": "f1sFv91zHOm5"
      },
      "source": [
        "정규분포 모양\n",
        "성별에 따라 편차가 존재함\n",
        "남성보다는 여성이 높은 비율을 보이고 있음\n",
        "\n",
        "세종특별시는 다른 지역과 다르게 30대에서 높은 비중 보임\n",
        "\n",
        "서울, 부산 60대 여성, 70대 여성에서 peak"
      ]
    },
    {
      "cell_type": "code",
      "metadata": {
        "id": "qsIWKICnsnWG"
      },
      "source": [
        "age_gender = age_gender.drop(['10대미만(여자)'], axis =1)"
      ],
      "execution_count": null,
      "outputs": []
    },
    {
      "cell_type": "code",
      "metadata": {
        "id": "7FEQaBPyh5Kr"
      },
      "source": [
        "age_gender = age_gender.drop(['10대미만(남자)'], axis =1)"
      ],
      "execution_count": null,
      "outputs": []
    },
    {
      "cell_type": "code",
      "metadata": {
        "id": "y_8H8p-GkDDb"
      },
      "source": [
        "age_gender = age_gender.drop(['10대(여자)'], axis =1)"
      ],
      "execution_count": null,
      "outputs": []
    },
    {
      "cell_type": "code",
      "metadata": {
        "id": "mB54UFGkkE11"
      },
      "source": [
        "age_gender = age_gender.drop(['10대(남자)'], axis =1)"
      ],
      "execution_count": null,
      "outputs": []
    },
    {
      "cell_type": "code",
      "metadata": {
        "colab": {
          "base_uri": "https://localhost:8080/",
          "height": 577
        },
        "id": "AiSAsQSDh6LC",
        "outputId": "2289d1ef-a65c-41d6-e80c-7b24d68bc044"
      },
      "source": [
        "age_gender"
      ],
      "execution_count": null,
      "outputs": [
        {
          "output_type": "execute_result",
          "data": {
            "text/html": [
              "<div>\n",
              "<style scoped>\n",
              "    .dataframe tbody tr th:only-of-type {\n",
              "        vertical-align: middle;\n",
              "    }\n",
              "\n",
              "    .dataframe tbody tr th {\n",
              "        vertical-align: top;\n",
              "    }\n",
              "\n",
              "    .dataframe thead th {\n",
              "        text-align: right;\n",
              "    }\n",
              "</style>\n",
              "<table border=\"1\" class=\"dataframe\">\n",
              "  <thead>\n",
              "    <tr style=\"text-align: right;\">\n",
              "      <th></th>\n",
              "      <th>지역</th>\n",
              "      <th>20대(여자)</th>\n",
              "      <th>20대(남자)</th>\n",
              "      <th>30대(여자)</th>\n",
              "      <th>30대(남자)</th>\n",
              "      <th>40대(여자)</th>\n",
              "      <th>40대(남자)</th>\n",
              "      <th>50대(여자)</th>\n",
              "      <th>50대(남자)</th>\n",
              "      <th>60대(여자)</th>\n",
              "      <th>60대(남자)</th>\n",
              "      <th>70대(여자)</th>\n",
              "      <th>70대(남자)</th>\n",
              "      <th>80대(여자)</th>\n",
              "      <th>80대(남자)</th>\n",
              "      <th>90대(여자)</th>\n",
              "      <th>90대(남자)</th>\n",
              "      <th>100대(여자)</th>\n",
              "      <th>100대(남자)</th>\n",
              "    </tr>\n",
              "  </thead>\n",
              "  <tbody>\n",
              "    <tr>\n",
              "      <th>0</th>\n",
              "      <td>3</td>\n",
              "      <td>0.060096</td>\n",
              "      <td>0.067859</td>\n",
              "      <td>0.053433</td>\n",
              "      <td>0.049572</td>\n",
              "      <td>0.083660</td>\n",
              "      <td>0.072613</td>\n",
              "      <td>0.087149</td>\n",
              "      <td>0.072146</td>\n",
              "      <td>0.082684</td>\n",
              "      <td>0.063889</td>\n",
              "      <td>0.047717</td>\n",
              "      <td>0.030172</td>\n",
              "      <td>0.029361</td>\n",
              "      <td>0.011211</td>\n",
              "      <td>0.005578</td>\n",
              "      <td>0.001553</td>\n",
              "      <td>0.000234</td>\n",
              "      <td>0.000014</td>\n",
              "    </tr>\n",
              "    <tr>\n",
              "      <th>1</th>\n",
              "      <td>2</td>\n",
              "      <td>0.064920</td>\n",
              "      <td>0.070618</td>\n",
              "      <td>0.056414</td>\n",
              "      <td>0.057550</td>\n",
              "      <td>0.077092</td>\n",
              "      <td>0.067600</td>\n",
              "      <td>0.086873</td>\n",
              "      <td>0.072570</td>\n",
              "      <td>0.087201</td>\n",
              "      <td>0.069562</td>\n",
              "      <td>0.048357</td>\n",
              "      <td>0.033277</td>\n",
              "      <td>0.027361</td>\n",
              "      <td>0.011295</td>\n",
              "      <td>0.004910</td>\n",
              "      <td>0.001086</td>\n",
              "      <td>0.000179</td>\n",
              "      <td>0.000010</td>\n",
              "    </tr>\n",
              "    <tr>\n",
              "      <th>2</th>\n",
              "      <td>6</td>\n",
              "      <td>0.060834</td>\n",
              "      <td>0.064247</td>\n",
              "      <td>0.068654</td>\n",
              "      <td>0.066848</td>\n",
              "      <td>0.074667</td>\n",
              "      <td>0.067925</td>\n",
              "      <td>0.085751</td>\n",
              "      <td>0.068819</td>\n",
              "      <td>0.088468</td>\n",
              "      <td>0.070261</td>\n",
              "      <td>0.051010</td>\n",
              "      <td>0.037143</td>\n",
              "      <td>0.032455</td>\n",
              "      <td>0.013751</td>\n",
              "      <td>0.006494</td>\n",
              "      <td>0.001740</td>\n",
              "      <td>0.000298</td>\n",
              "      <td>0.000066</td>\n",
              "    </tr>\n",
              "    <tr>\n",
              "      <th>3</th>\n",
              "      <td>1</td>\n",
              "      <td>0.058484</td>\n",
              "      <td>0.059894</td>\n",
              "      <td>0.072331</td>\n",
              "      <td>0.068704</td>\n",
              "      <td>0.083208</td>\n",
              "      <td>0.078355</td>\n",
              "      <td>0.077345</td>\n",
              "      <td>0.064859</td>\n",
              "      <td>0.074237</td>\n",
              "      <td>0.058419</td>\n",
              "      <td>0.042422</td>\n",
              "      <td>0.032725</td>\n",
              "      <td>0.025136</td>\n",
              "      <td>0.012354</td>\n",
              "      <td>0.005390</td>\n",
              "      <td>0.001707</td>\n",
              "      <td>0.000290</td>\n",
              "      <td>0.000067</td>\n",
              "    </tr>\n",
              "    <tr>\n",
              "      <th>4</th>\n",
              "      <td>12</td>\n",
              "      <td>0.066262</td>\n",
              "      <td>0.070322</td>\n",
              "      <td>0.052027</td>\n",
              "      <td>0.046596</td>\n",
              "      <td>0.077005</td>\n",
              "      <td>0.066645</td>\n",
              "      <td>0.081408</td>\n",
              "      <td>0.074382</td>\n",
              "      <td>0.076636</td>\n",
              "      <td>0.068042</td>\n",
              "      <td>0.051025</td>\n",
              "      <td>0.035748</td>\n",
              "      <td>0.035049</td>\n",
              "      <td>0.012641</td>\n",
              "      <td>0.007223</td>\n",
              "      <td>0.001898</td>\n",
              "      <td>0.000158</td>\n",
              "      <td>0.000013</td>\n",
              "    </tr>\n",
              "    <tr>\n",
              "      <th>5</th>\n",
              "      <td>0</td>\n",
              "      <td>0.060374</td>\n",
              "      <td>0.063157</td>\n",
              "      <td>0.059821</td>\n",
              "      <td>0.054321</td>\n",
              "      <td>0.076201</td>\n",
              "      <td>0.068002</td>\n",
              "      <td>0.087266</td>\n",
              "      <td>0.072177</td>\n",
              "      <td>0.088423</td>\n",
              "      <td>0.070014</td>\n",
              "      <td>0.047732</td>\n",
              "      <td>0.032760</td>\n",
              "      <td>0.033515</td>\n",
              "      <td>0.013027</td>\n",
              "      <td>0.007628</td>\n",
              "      <td>0.001677</td>\n",
              "      <td>0.000319</td>\n",
              "      <td>0.000017</td>\n",
              "    </tr>\n",
              "    <tr>\n",
              "      <th>6</th>\n",
              "      <td>4</td>\n",
              "      <td>0.065084</td>\n",
              "      <td>0.066875</td>\n",
              "      <td>0.066888</td>\n",
              "      <td>0.064416</td>\n",
              "      <td>0.080028</td>\n",
              "      <td>0.079183</td>\n",
              "      <td>0.079902</td>\n",
              "      <td>0.067443</td>\n",
              "      <td>0.075930</td>\n",
              "      <td>0.059586</td>\n",
              "      <td>0.048552</td>\n",
              "      <td>0.031754</td>\n",
              "      <td>0.029749</td>\n",
              "      <td>0.010341</td>\n",
              "      <td>0.006343</td>\n",
              "      <td>0.000895</td>\n",
              "      <td>0.000353</td>\n",
              "      <td>0.000013</td>\n",
              "    </tr>\n",
              "    <tr>\n",
              "      <th>7</th>\n",
              "      <td>14</td>\n",
              "      <td>0.067975</td>\n",
              "      <td>0.072622</td>\n",
              "      <td>0.065095</td>\n",
              "      <td>0.067303</td>\n",
              "      <td>0.078860</td>\n",
              "      <td>0.073418</td>\n",
              "      <td>0.079299</td>\n",
              "      <td>0.069167</td>\n",
              "      <td>0.070278</td>\n",
              "      <td>0.057692</td>\n",
              "      <td>0.042296</td>\n",
              "      <td>0.028682</td>\n",
              "      <td>0.024514</td>\n",
              "      <td>0.010900</td>\n",
              "      <td>0.005429</td>\n",
              "      <td>0.001549</td>\n",
              "      <td>0.000219</td>\n",
              "      <td>0.000123</td>\n",
              "    </tr>\n",
              "    <tr>\n",
              "      <th>8</th>\n",
              "      <td>7</td>\n",
              "      <td>0.053796</td>\n",
              "      <td>0.057233</td>\n",
              "      <td>0.047049</td>\n",
              "      <td>0.048866</td>\n",
              "      <td>0.061952</td>\n",
              "      <td>0.060769</td>\n",
              "      <td>0.082899</td>\n",
              "      <td>0.068855</td>\n",
              "      <td>0.109297</td>\n",
              "      <td>0.085294</td>\n",
              "      <td>0.078743</td>\n",
              "      <td>0.053388</td>\n",
              "      <td>0.047908</td>\n",
              "      <td>0.020228</td>\n",
              "      <td>0.008043</td>\n",
              "      <td>0.002240</td>\n",
              "      <td>0.000268</td>\n",
              "      <td>0.000028</td>\n",
              "    </tr>\n",
              "    <tr>\n",
              "      <th>9</th>\n",
              "      <td>13</td>\n",
              "      <td>0.069135</td>\n",
              "      <td>0.069667</td>\n",
              "      <td>0.050808</td>\n",
              "      <td>0.048026</td>\n",
              "      <td>0.080548</td>\n",
              "      <td>0.072530</td>\n",
              "      <td>0.088403</td>\n",
              "      <td>0.068930</td>\n",
              "      <td>0.074248</td>\n",
              "      <td>0.055717</td>\n",
              "      <td>0.047944</td>\n",
              "      <td>0.033054</td>\n",
              "      <td>0.026836</td>\n",
              "      <td>0.011332</td>\n",
              "      <td>0.006832</td>\n",
              "      <td>0.000982</td>\n",
              "      <td>0.000368</td>\n",
              "      <td>0.000082</td>\n",
              "    </tr>\n",
              "    <tr>\n",
              "      <th>10</th>\n",
              "      <td>10</td>\n",
              "      <td>0.064240</td>\n",
              "      <td>0.074689</td>\n",
              "      <td>0.052830</td>\n",
              "      <td>0.052412</td>\n",
              "      <td>0.078450</td>\n",
              "      <td>0.062317</td>\n",
              "      <td>0.084845</td>\n",
              "      <td>0.067709</td>\n",
              "      <td>0.096422</td>\n",
              "      <td>0.069088</td>\n",
              "      <td>0.052913</td>\n",
              "      <td>0.039413</td>\n",
              "      <td>0.026540</td>\n",
              "      <td>0.011912</td>\n",
              "      <td>0.004221</td>\n",
              "      <td>0.001087</td>\n",
              "      <td>0.000084</td>\n",
              "      <td>0.000000</td>\n",
              "    </tr>\n",
              "    <tr>\n",
              "      <th>11</th>\n",
              "      <td>15</td>\n",
              "      <td>0.060824</td>\n",
              "      <td>0.064937</td>\n",
              "      <td>0.061069</td>\n",
              "      <td>0.056625</td>\n",
              "      <td>0.082318</td>\n",
              "      <td>0.072648</td>\n",
              "      <td>0.082747</td>\n",
              "      <td>0.074276</td>\n",
              "      <td>0.075390</td>\n",
              "      <td>0.062427</td>\n",
              "      <td>0.041814</td>\n",
              "      <td>0.027566</td>\n",
              "      <td>0.027762</td>\n",
              "      <td>0.011212</td>\n",
              "      <td>0.005386</td>\n",
              "      <td>0.001310</td>\n",
              "      <td>0.000257</td>\n",
              "      <td>0.000037</td>\n",
              "    </tr>\n",
              "    <tr>\n",
              "      <th>12</th>\n",
              "      <td>11</td>\n",
              "      <td>0.065517</td>\n",
              "      <td>0.070339</td>\n",
              "      <td>0.057977</td>\n",
              "      <td>0.053471</td>\n",
              "      <td>0.078358</td>\n",
              "      <td>0.075724</td>\n",
              "      <td>0.079966</td>\n",
              "      <td>0.077795</td>\n",
              "      <td>0.071465</td>\n",
              "      <td>0.062352</td>\n",
              "      <td>0.042535</td>\n",
              "      <td>0.030704</td>\n",
              "      <td>0.027340</td>\n",
              "      <td>0.009312</td>\n",
              "      <td>0.005965</td>\n",
              "      <td>0.001458</td>\n",
              "      <td>0.000149</td>\n",
              "      <td>0.000464</td>\n",
              "    </tr>\n",
              "    <tr>\n",
              "      <th>13</th>\n",
              "      <td>5</td>\n",
              "      <td>0.062559</td>\n",
              "      <td>0.068251</td>\n",
              "      <td>0.061825</td>\n",
              "      <td>0.071207</td>\n",
              "      <td>0.070090</td>\n",
              "      <td>0.067977</td>\n",
              "      <td>0.092891</td>\n",
              "      <td>0.072400</td>\n",
              "      <td>0.094511</td>\n",
              "      <td>0.073133</td>\n",
              "      <td>0.055914</td>\n",
              "      <td>0.036572</td>\n",
              "      <td>0.031887</td>\n",
              "      <td>0.012556</td>\n",
              "      <td>0.005364</td>\n",
              "      <td>0.001259</td>\n",
              "      <td>0.000219</td>\n",
              "      <td>0.000000</td>\n",
              "    </tr>\n",
              "    <tr>\n",
              "      <th>14</th>\n",
              "      <td>8</td>\n",
              "      <td>0.052712</td>\n",
              "      <td>0.056782</td>\n",
              "      <td>0.047655</td>\n",
              "      <td>0.051877</td>\n",
              "      <td>0.054216</td>\n",
              "      <td>0.068673</td>\n",
              "      <td>0.077163</td>\n",
              "      <td>0.064801</td>\n",
              "      <td>0.119639</td>\n",
              "      <td>0.078939</td>\n",
              "      <td>0.097543</td>\n",
              "      <td>0.061050</td>\n",
              "      <td>0.047853</td>\n",
              "      <td>0.023463</td>\n",
              "      <td>0.011344</td>\n",
              "      <td>0.003326</td>\n",
              "      <td>0.000532</td>\n",
              "      <td>0.000152</td>\n",
              "    </tr>\n",
              "    <tr>\n",
              "      <th>15</th>\n",
              "      <td>9</td>\n",
              "      <td>0.079284</td>\n",
              "      <td>0.064833</td>\n",
              "      <td>0.106121</td>\n",
              "      <td>0.104447</td>\n",
              "      <td>0.075155</td>\n",
              "      <td>0.074932</td>\n",
              "      <td>0.067065</td>\n",
              "      <td>0.056631</td>\n",
              "      <td>0.065279</td>\n",
              "      <td>0.051163</td>\n",
              "      <td>0.026056</td>\n",
              "      <td>0.026223</td>\n",
              "      <td>0.013893</td>\n",
              "      <td>0.007086</td>\n",
              "      <td>0.003459</td>\n",
              "      <td>0.001004</td>\n",
              "      <td>0.000279</td>\n",
              "      <td>0.000112</td>\n",
              "    </tr>\n",
              "  </tbody>\n",
              "</table>\n",
              "</div>"
            ],
            "text/plain": [
              "    지역   20대(여자)   20대(남자)   30대(여자)  ...   90대(여자)   90대(남자)  100대(여자)  100대(남자)\n",
              "0    3  0.060096  0.067859  0.053433  ...  0.005578  0.001553  0.000234  0.000014\n",
              "1    2  0.064920  0.070618  0.056414  ...  0.004910  0.001086  0.000179  0.000010\n",
              "2    6  0.060834  0.064247  0.068654  ...  0.006494  0.001740  0.000298  0.000066\n",
              "3    1  0.058484  0.059894  0.072331  ...  0.005390  0.001707  0.000290  0.000067\n",
              "4   12  0.066262  0.070322  0.052027  ...  0.007223  0.001898  0.000158  0.000013\n",
              "5    0  0.060374  0.063157  0.059821  ...  0.007628  0.001677  0.000319  0.000017\n",
              "6    4  0.065084  0.066875  0.066888  ...  0.006343  0.000895  0.000353  0.000013\n",
              "7   14  0.067975  0.072622  0.065095  ...  0.005429  0.001549  0.000219  0.000123\n",
              "8    7  0.053796  0.057233  0.047049  ...  0.008043  0.002240  0.000268  0.000028\n",
              "9   13  0.069135  0.069667  0.050808  ...  0.006832  0.000982  0.000368  0.000082\n",
              "10  10  0.064240  0.074689  0.052830  ...  0.004221  0.001087  0.000084  0.000000\n",
              "11  15  0.060824  0.064937  0.061069  ...  0.005386  0.001310  0.000257  0.000037\n",
              "12  11  0.065517  0.070339  0.057977  ...  0.005965  0.001458  0.000149  0.000464\n",
              "13   5  0.062559  0.068251  0.061825  ...  0.005364  0.001259  0.000219  0.000000\n",
              "14   8  0.052712  0.056782  0.047655  ...  0.011344  0.003326  0.000532  0.000152\n",
              "15   9  0.079284  0.064833  0.106121  ...  0.003459  0.001004  0.000279  0.000112\n",
              "\n",
              "[16 rows x 19 columns]"
            ]
          },
          "metadata": {
            "tags": []
          },
          "execution_count": 754
        }
      ]
    },
    {
      "cell_type": "markdown",
      "metadata": {
        "id": "OavR-baKWWbc"
      },
      "source": [
        "상관관계"
      ]
    },
    {
      "cell_type": "code",
      "metadata": {
        "id": "nGYZgtW0WfGl"
      },
      "source": [
        "df=train.append(test)"
      ],
      "execution_count": null,
      "outputs": []
    },
    {
      "cell_type": "code",
      "metadata": {
        "colab": {
          "base_uri": "https://localhost:8080/",
          "height": 1000
        },
        "id": "-VEQ3t2EWWG1",
        "outputId": "845a33a5-9c56-4b5d-a378-1d7109edc24d"
      },
      "source": [
        "corrmat = df.corr()\n",
        "plt.subplots(figsize=(20,20))\n",
        "sns.heatmap(corrmat, square=True)\n",
        "\n",
        "c = corrmat.abs()\n",
        "\n",
        "s = c.unstack()\n",
        "so = s.sort_values(ascending=True).drop_duplicates()"
      ],
      "execution_count": null,
      "outputs": [
        {
          "output_type": "display_data",
          "data": {
            "image/png": "[encoded data removed]",
            "text/plain": [
              "<Figure size 1440x1440 with 2 Axes>"
            ]
          },
          "metadata": {
            "tags": [],
            "needs_background": "light"
          }
        }
      ]
    },
    {
      "cell_type": "markdown",
      "metadata": {
        "id": "_JXotWwXX-ku"
      },
      "source": [
        "## 결측치 확인"
      ]
    },
    {
      "cell_type": "code",
      "metadata": {
        "colab": {
          "base_uri": "https://localhost:8080/"
        },
        "id": "VZq9dtXNX-kv",
        "outputId": "fa4a0aa3-7062-40da-cc18-6e747cc88561"
      },
      "source": [
        "train.isna().sum()"
      ],
      "execution_count": null,
      "outputs": [
        {
          "output_type": "execute_result",
          "data": {
            "text/plain": [
              "단지코드                              0\n",
              "총세대수                              0\n",
              "임대건물구분                            0\n",
              "지역                                0\n",
              "공급유형                              0\n",
              "전용면적                              0\n",
              "전용면적별세대수                          0\n",
              "공가수                               0\n",
              "자격유형                              0\n",
              "임대보증금                           569\n",
              "임대료                             569\n",
              "도보 10분거리 내 지하철역 수(환승노선 수 반영)    211\n",
              "도보 10분거리 내 버스정류장 수                4\n",
              "단지내주차면수                           0\n",
              "등록차량수                             0\n",
              "dtype: int64"
            ]
          },
          "metadata": {
            "tags": []
          },
          "execution_count": 654
        }
      ]
    },
    {
      "cell_type": "code",
      "metadata": {
        "colab": {
          "base_uri": "https://localhost:8080/"
        },
        "id": "bQLZNkE2X-kv",
        "outputId": "b9577ba4-6950-4ec7-b57c-a2a7eee0c828"
      },
      "source": [
        "test.isna().sum()"
      ],
      "execution_count": null,
      "outputs": [
        {
          "output_type": "execute_result",
          "data": {
            "text/plain": [
              "단지코드                              0\n",
              "총세대수                              0\n",
              "임대건물구분                            0\n",
              "지역                                0\n",
              "공급유형                              0\n",
              "전용면적                              0\n",
              "전용면적별세대수                          0\n",
              "공가수                               0\n",
              "자격유형                              2\n",
              "임대보증금                           180\n",
              "임대료                             180\n",
              "도보 10분거리 내 지하철역 수(환승노선 수 반영)     42\n",
              "도보 10분거리 내 버스정류장 수                0\n",
              "단지내주차면수                           0\n",
              "dtype: int64"
            ]
          },
          "metadata": {
            "tags": []
          },
          "execution_count": 655
        }
      ]
    },
    {
      "cell_type": "markdown",
      "metadata": {
        "id": "zBlv7Bncnyhk"
      },
      "source": [
        "데이터 설명\n",
        "\n",
        "train 데이터에서는 임대보증금, 임대료, 도보 10분거리 내 지하철역 수(환승노선 수 반영) 도보 10분거리 내 버스정류장 수에 NULL값 존재"
      ]
    },
    {
      "cell_type": "markdown",
      "metadata": {
        "id": "4NyNckjeoFw7"
      },
      "source": [
        "test 데이터에서는 자격유형, 임대보증금, 임대료, 도보 10분거리 내 지하철역 수(환승노선 수 반영)에 NULL값 존재"
      ]
    },
    {
      "cell_type": "markdown",
      "metadata": {
        "id": "DA6m9EQdj_cY"
      },
      "source": [
        "아파트인지 상가인지 구분해봄."
      ]
    },
    {
      "cell_type": "code",
      "metadata": {
        "id": "9y1zxtDtluYM"
      },
      "source": [
        "train_apart = train[['단지코드', '임대건물구분', '공급유형', '전용면적', '전용면적별세대수', '자격유형', '임대보증금', '임대료']].loc[train['임대건물구분'] == '아파트']"
      ],
      "execution_count": null,
      "outputs": []
    },
    {
      "cell_type": "code",
      "metadata": {
        "id": "0R9uXJ75l1OZ"
      },
      "source": [
        "train_shop = train[['단지코드', '임대건물구분', '공급유형', '전용면적', '전용면적별세대수', '자격유형']].loc[train['임대건물구분'] == '상가']"
      ],
      "execution_count": null,
      "outputs": []
    },
    {
      "cell_type": "code",
      "metadata": {
        "id": "coAPSQn4l5RS"
      },
      "source": [
        "train_danji = train[['단지코드', '총세대수', '지역', '공가수', '도보 10분거리 내 지하철역 수(환승노선 수 반영)', '도보 10분거리 내 버스정류장 수', '단지내주차면수', '등록차량수']].drop_duplicates()"
      ],
      "execution_count": null,
      "outputs": []
    },
    {
      "cell_type": "code",
      "metadata": {
        "colab": {
          "base_uri": "https://localhost:8080/"
        },
        "id": "lfxhQ46wl7NP",
        "outputId": "6b0b4726-1251-4f08-dd09-7e282087a754"
      },
      "source": [
        "train_apart.shape, train_shop.shape, train_danji.shape"
      ],
      "execution_count": null,
      "outputs": [
        {
          "output_type": "execute_result",
          "data": {
            "text/plain": [
              "((2390, 8), (562, 6), (423, 8))"
            ]
          },
          "metadata": {
            "tags": []
          },
          "execution_count": 659
        }
      ]
    },
    {
      "cell_type": "code",
      "metadata": {
        "id": "AQO76yXyIMdh"
      },
      "source": [
        "test_apart = test[['단지코드', '임대건물구분', '공급유형', '전용면적', '전용면적별세대수', '자격유형', '임대보증금', '임대료']].loc[test['임대건물구분'] == '아파트']"
      ],
      "execution_count": null,
      "outputs": []
    },
    {
      "cell_type": "code",
      "metadata": {
        "id": "I2Hx85-TIRTp"
      },
      "source": [
        "test_shop = test[['단지코드', '임대건물구분', '공급유형', '전용면적', '전용면적별세대수', '자격유형']].loc[test['임대건물구분'] == '상가']"
      ],
      "execution_count": null,
      "outputs": []
    },
    {
      "cell_type": "code",
      "metadata": {
        "id": "WS0q7hRlISwN"
      },
      "source": [
        "test_danji = test[['단지코드', '총세대수', '지역', '공가수', '도보 10분거리 내 지하철역 수(환승노선 수 반영)', '도보 10분거리 내 버스정류장 수', '단지내주차면수']].drop_duplicates()"
      ],
      "execution_count": null,
      "outputs": []
    },
    {
      "cell_type": "code",
      "metadata": {
        "colab": {
          "base_uri": "https://localhost:8080/"
        },
        "id": "OB3VVE7KIUmf",
        "outputId": "de1cfdc4-3b66-47a2-a71d-a657d994c73a"
      },
      "source": [
        "test_apart.shape, test_shop.shape, test_danji.shape"
      ],
      "execution_count": null,
      "outputs": [
        {
          "output_type": "execute_result",
          "data": {
            "text/plain": [
              "((845, 8), (177, 6), (150, 7))"
            ]
          },
          "metadata": {
            "tags": []
          },
          "execution_count": 663
        }
      ]
    },
    {
      "cell_type": "markdown",
      "metadata": {
        "id": "2mokZTt1pVCc"
      },
      "source": [
        "임대보증금, 임대료 '-'을 null로 바꾸고 float으로 타입 변경"
      ]
    },
    {
      "cell_type": "code",
      "metadata": {
        "colab": {
          "base_uri": "https://localhost:8080/"
        },
        "id": "ws0WiWcooUQj",
        "outputId": "9e9dc4fd-f1cc-4b33-c14a-9bf29d9d410e"
      },
      "source": [
        "train.loc[train.임대보증금 == '-', '임대보증금'] = np.nan\n",
        "test.loc[test.임대보증금 == '-', '임대보증금'] = np.nan\n",
        "train['임대보증금'] = train['임대보증금'].astype(float)\n",
        "test['임대보증금'] == test['임대보증금'].astype(float)\n",
        "\n",
        "train.loc[train.임대료 == '-', '임대료'] = np.nan\n",
        "test.loc[test.임대료 == '-', '임대료'] = np.nan\n",
        "train['임대료'] = train['임대료'].astype(float)\n",
        "test['임대료'] == test['임대료'].astype(float)"
      ],
      "execution_count": null,
      "outputs": [
        {
          "output_type": "execute_result",
          "data": {
            "text/plain": [
              "0       False\n",
              "1       False\n",
              "2       False\n",
              "3       False\n",
              "4       False\n",
              "        ...  \n",
              "1017    False\n",
              "1018    False\n",
              "1019    False\n",
              "1020    False\n",
              "1021    False\n",
              "Name: 임대료, Length: 1022, dtype: bool"
            ]
          },
          "metadata": {
            "tags": []
          },
          "execution_count": 664
        }
      ]
    },
    {
      "cell_type": "markdown",
      "metadata": {
        "id": "ViFKENjFn-Uk"
      },
      "source": [
        "NULL 값(임대보증금, 임대료) 탐색"
      ]
    },
    {
      "cell_type": "code",
      "metadata": {
        "colab": {
          "base_uri": "https://localhost:8080/"
        },
        "id": "2TILYA-FqIuR",
        "outputId": "e725fa03-f0ea-45fd-fa6d-1a1ba1fe6095"
      },
      "source": [
        "train[train.임대보증금.isnull()].공급유형.value_counts()"
      ],
      "execution_count": null,
      "outputs": [
        {
          "output_type": "execute_result",
          "data": {
            "text/plain": [
              "임대상가    562\n",
              "국민임대      8\n",
              "공공분양      7\n",
              "행복주택      4\n",
              "Name: 공급유형, dtype: int64"
            ]
          },
          "metadata": {
            "tags": []
          },
          "execution_count": 665
        }
      ]
    },
    {
      "cell_type": "code",
      "metadata": {
        "colab": {
          "base_uri": "https://localhost:8080/"
        },
        "id": "1ASuzcPKPsRk",
        "outputId": "dad18c13-5776-4c8d-814f-2cc191248170"
      },
      "source": [
        "test[test.임대보증금.isnull()].공급유형.value_counts()"
      ],
      "execution_count": null,
      "outputs": [
        {
          "output_type": "execute_result",
          "data": {
            "text/plain": [
              "임대상가    177\n",
              "영구임대      5\n",
              "행복주택      4\n",
              "Name: 공급유형, dtype: int64"
            ]
          },
          "metadata": {
            "tags": []
          },
          "execution_count": 666
        }
      ]
    },
    {
      "cell_type": "code",
      "metadata": {
        "colab": {
          "base_uri": "https://localhost:8080/"
        },
        "id": "QDjTNxnuTfBk",
        "outputId": "58d04eee-f012-41bf-d407-c2f39d90ea8e"
      },
      "source": [
        "train[train.임대료.isnull()].자격유형.value_counts()"
      ],
      "execution_count": null,
      "outputs": [
        {
          "output_type": "execute_result",
          "data": {
            "text/plain": [
              "D    569\n",
              "A      9\n",
              "H      8\n",
              "K      4\n",
              "Name: 자격유형, dtype: int64"
            ]
          },
          "metadata": {
            "tags": []
          },
          "execution_count": 667
        }
      ]
    },
    {
      "cell_type": "code",
      "metadata": {
        "colab": {
          "base_uri": "https://localhost:8080/"
        },
        "id": "9lbfH-4oThjW",
        "outputId": "e566f771-39c5-4393-dda1-7824b8a87e67"
      },
      "source": [
        "test[test.임대료.isnull()].자격유형.value_counts()"
      ],
      "execution_count": null,
      "outputs": [
        {
          "output_type": "execute_result",
          "data": {
            "text/plain": [
              "D    180\n",
              "L      4\n",
              "C      2\n",
              "Name: 자격유형, dtype: int64"
            ]
          },
          "metadata": {
            "tags": []
          },
          "execution_count": 668
        }
      ]
    },
    {
      "cell_type": "markdown",
      "metadata": {
        "id": "lca3md3OUdIN"
      },
      "source": [
        "NULL값 (도보 10분거리 내 지하철역 수, 도보 10분거리 내 버스정류장 수) 탐색"
      ]
    },
    {
      "cell_type": "code",
      "metadata": {
        "colab": {
          "base_uri": "https://localhost:8080/"
        },
        "id": "cj7Q-G1TUeKa",
        "outputId": "d23ae0a1-2df6-4298-aee0-c73713c64c66"
      },
      "source": [
        "train[train['도보 10분거리 내 지하철역 수(환승노선 수 반영)'].isnull()].단지코드.value_counts()"
      ],
      "execution_count": null,
      "outputs": [
        {
          "output_type": "execute_result",
          "data": {
            "text/plain": [
              "C1874    30\n",
              "C1875    22\n",
              "C1616    22\n",
              "C2258    20\n",
              "C1004    19\n",
              "C1704    17\n",
              "C1983    15\n",
              "C1350    13\n",
              "C2583    11\n",
              "C2644     7\n",
              "C2100     6\n",
              "C1068     6\n",
              "C1649     4\n",
              "C1312     4\n",
              "C1005     3\n",
              "C1175     3\n",
              "C1424     3\n",
              "C2156     3\n",
              "C2216     2\n",
              "C2520     1\n",
              "Name: 단지코드, dtype: int64"
            ]
          },
          "metadata": {
            "tags": []
          },
          "execution_count": 669
        }
      ]
    },
    {
      "cell_type": "code",
      "metadata": {
        "colab": {
          "base_uri": "https://localhost:8080/"
        },
        "id": "l-7Ot9h4VvY3",
        "outputId": "236a36ec-8f2b-49f7-fedc-f09ce8910693"
      },
      "source": [
        "subway_null_codes=train[train['도보 10분거리 내 지하철역 수(환승노선 수 반영)'].isnull()].단지코드.unique()\n",
        "train.loc[train.단지코드.isin(subway_null_codes), '도보 10분거리 내 지하철역 수(환승노선 수 반영)'].value_counts(dropna=False)"
      ],
      "execution_count": null,
      "outputs": [
        {
          "output_type": "execute_result",
          "data": {
            "text/plain": [
              "NaN    211\n",
              "Name: 도보 10분거리 내 지하철역 수(환승노선 수 반영), dtype: int64"
            ]
          },
          "metadata": {
            "tags": []
          },
          "execution_count": 670
        }
      ]
    },
    {
      "cell_type": "code",
      "metadata": {
        "colab": {
          "base_uri": "https://localhost:8080/"
        },
        "id": "Ioap0B8cVzS6",
        "outputId": "c1a52fec-653e-4136-9697-e87dbcc0ae20"
      },
      "source": [
        "test[test['도보 10분거리 내 지하철역 수(환승노선 수 반영)'].isnull()].단지코드.value_counts()"
      ],
      "execution_count": null,
      "outputs": [
        {
          "output_type": "execute_result",
          "data": {
            "text/plain": [
              "C2177    25\n",
              "C1472     5\n",
              "C1083     5\n",
              "C1327     4\n",
              "C1318     3\n",
              "Name: 단지코드, dtype: int64"
            ]
          },
          "metadata": {
            "tags": []
          },
          "execution_count": 671
        }
      ]
    },
    {
      "cell_type": "code",
      "metadata": {
        "colab": {
          "base_uri": "https://localhost:8080/"
        },
        "id": "VsO8p7WrV2bQ",
        "outputId": "080d5dd0-a452-44c4-f1f0-1ed1cfc91a31"
      },
      "source": [
        "subway_null_codes = test[test['도보 10분거리 내 지하철역 수(환승노선 수 반영)'].isnull()].단지코드.unique()\n",
        "test.loc[test.단지코드.isin(subway_null_codes), '도보 10분거리 내 지하철역 수(환승노선 수 반영)'].value_counts(dropna=False)"
      ],
      "execution_count": null,
      "outputs": [
        {
          "output_type": "execute_result",
          "data": {
            "text/plain": [
              "NaN    42\n",
              "Name: 도보 10분거리 내 지하철역 수(환승노선 수 반영), dtype: int64"
            ]
          },
          "metadata": {
            "tags": []
          },
          "execution_count": 672
        }
      ]
    },
    {
      "cell_type": "code",
      "metadata": {
        "colab": {
          "base_uri": "https://localhost:8080/"
        },
        "id": "B8UjHnTJnEqf",
        "outputId": "a03a2da5-73c3-40f0-99b8-112fce5cecbe"
      },
      "source": [
        "print('전체 단지 수: ', train['단지코드'].nunique())\n",
        "print('지하철 결측치 단지 수: ', train.loc[train['도보 10분거리 내 지하철역 수(환승노선 수 반영)'].isnull()]['단지코드'].nunique())\n",
        "print('지하철 결측치 단지: ', train.loc[train['도보 10분거리 내 지하철역 수(환승노선 수 반영)'].isnull()]['단지코드'].unique())\n",
        "print('지하철 결측치 단지 지역: ', train.loc[train['도보 10분거리 내 지하철역 수(환승노선 수 반영)'].isnull()]['지역'].unique())"
      ],
      "execution_count": null,
      "outputs": [
        {
          "output_type": "stream",
          "text": [
            "전체 단지 수:  423\n",
            "지하철 결측치 단지 수:  20\n",
            "지하철 결측치 단지:  ['C1312' 'C1874' 'C1424' 'C2100' 'C2520' 'C1616' 'C1704' 'C2258' 'C1068'\n",
            " 'C1983' 'C2216' 'C2644' 'C1005' 'C1004' 'C1875' 'C2156' 'C1175' 'C2583'\n",
            " 'C1649' 'C1350']\n",
            "지하철 결측치 단지 지역:  ['충청남도' '대전광역시' '경상남도']\n"
          ],
          "name": "stdout"
        }
      ]
    },
    {
      "cell_type": "code",
      "metadata": {
        "colab": {
          "base_uri": "https://localhost:8080/"
        },
        "id": "VHhGXB3tXYlj",
        "outputId": "6fab85f1-aad7-40fc-9c86-f94da5c446a2"
      },
      "source": [
        "print('전체 단지 수: ', test['단지코드'].nunique())\n",
        "print('지하철 결측치 단지 수: ', test.loc[test['도보 10분거리 내 지하철역 수(환승노선 수 반영)'].isnull()]['단지코드'].nunique())\n",
        "print('지하철 결측치 단지: ', test.loc[test['도보 10분거리 내 지하철역 수(환승노선 수 반영)'].isnull()]['단지코드'].unique())\n",
        "print('지하철 결측치 단지 지역: ', test.loc[test['도보 10분거리 내 지하철역 수(환승노선 수 반영)'].isnull()]['지역'].unique())"
      ],
      "execution_count": null,
      "outputs": [
        {
          "output_type": "stream",
          "text": [
            "전체 단지 수:  150\n",
            "지하철 결측치 단지 수:  5\n",
            "지하철 결측치 단지:  ['C1472' 'C1083' 'C2177' 'C1318' 'C1327']\n",
            "지하철 결측치 단지 지역:  ['충청남도' '대전광역시']\n"
          ],
          "name": "stdout"
        }
      ]
    },
    {
      "cell_type": "code",
      "metadata": {
        "colab": {
          "base_uri": "https://localhost:8080/"
        },
        "id": "rmbaeiPPYO6r",
        "outputId": "42f0ab3f-6e3a-46aa-f4c3-ca461ea62b39"
      },
      "source": [
        "train[train['도보 10분거리 내 버스정류장 수'].isnull()].단지코드.value_counts()"
      ],
      "execution_count": null,
      "outputs": [
        {
          "output_type": "execute_result",
          "data": {
            "text/plain": [
              "C1649    4\n",
              "Name: 단지코드, dtype: int64"
            ]
          },
          "metadata": {
            "tags": []
          },
          "execution_count": 675
        }
      ]
    },
    {
      "cell_type": "code",
      "metadata": {
        "colab": {
          "base_uri": "https://localhost:8080/"
        },
        "id": "d1Zo8vEI3lgs",
        "outputId": "8cb40583-1441-4863-f0b8-969d135b45fe"
      },
      "source": [
        "bus_null_codes = train[train['도보 10분거리 내 버스정류장 수'].isnull()].단지코드.unique()\n",
        "train.loc[train.단지코드.isin(bus_null_codes), '도보 10분거리 내 버스정류장 수'].value_counts(dropna=False)"
      ],
      "execution_count": null,
      "outputs": [
        {
          "output_type": "execute_result",
          "data": {
            "text/plain": [
              "NaN    4\n",
              "Name: 도보 10분거리 내 버스정류장 수, dtype: int64"
            ]
          },
          "metadata": {
            "tags": []
          },
          "execution_count": 676
        }
      ]
    },
    {
      "cell_type": "code",
      "metadata": {
        "colab": {
          "base_uri": "https://localhost:8080/"
        },
        "id": "F3Q1V0TjYb51",
        "outputId": "3ba9e9c3-92a1-48f7-d772-3e48e40d8392"
      },
      "source": [
        "test[test['도보 10분거리 내 버스정류장 수'].isnull()].단지코드.value_counts()"
      ],
      "execution_count": null,
      "outputs": [
        {
          "output_type": "execute_result",
          "data": {
            "text/plain": [
              "Series([], Name: 단지코드, dtype: int64)"
            ]
          },
          "metadata": {
            "tags": []
          },
          "execution_count": 677
        }
      ]
    },
    {
      "cell_type": "code",
      "metadata": {
        "colab": {
          "base_uri": "https://localhost:8080/"
        },
        "id": "YsNHGAT7YeDQ",
        "outputId": "5d4d0274-2445-4d0d-a84d-d8f067bde84e"
      },
      "source": [
        "bus_null_codes = test[test['도보 10분거리 내 버스정류장 수'].isnull()].단지코드.unique()\n",
        "test.loc[test.단지코드.isin(bus_null_codes), '도보 10분거리 내 버스정류장 수'].value_counts(dropna=False)"
      ],
      "execution_count": null,
      "outputs": [
        {
          "output_type": "execute_result",
          "data": {
            "text/plain": [
              "Series([], Name: 도보 10분거리 내 버스정류장 수, dtype: int64)"
            ]
          },
          "metadata": {
            "tags": []
          },
          "execution_count": 678
        }
      ]
    },
    {
      "cell_type": "code",
      "metadata": {
        "colab": {
          "base_uri": "https://localhost:8080/"
        },
        "id": "NGCxSbognVXC",
        "outputId": "6f31af8e-edf2-4c6e-d6d3-ea70462ca5f3"
      },
      "source": [
        "train.loc[train['도보 10분거리 내 버스정류장 수'].isnull()]['지역'].unique()"
      ],
      "execution_count": null,
      "outputs": [
        {
          "output_type": "execute_result",
          "data": {
            "text/plain": [
              "array(['경상남도'], dtype=object)"
            ]
          },
          "metadata": {
            "tags": []
          },
          "execution_count": 679
        }
      ]
    },
    {
      "cell_type": "code",
      "metadata": {
        "colab": {
          "base_uri": "https://localhost:8080/"
        },
        "id": "0FchJdUc_CbL",
        "outputId": "64386d2d-0abd-487e-f197-2eccd00ede1b"
      },
      "source": [
        "print('전체 단지 수: ', train['단지코드'].nunique())\n",
        "print('버스 결측치 단지 수: ', train.loc[train['도보 10분거리 내 버스정류장 수'].isnull()]['단지코드'].nunique())\n",
        "print('버스 결측치 단지: ', train.loc[train['도보 10분거리 내 버스정류장 수'].isnull()]['단지코드'].unique())\n",
        "print('버스 결측치 단지 지역: ', train.loc[train['도보 10분거리 내 버스정류장 수'].isnull()]['지역'].unique())"
      ],
      "execution_count": null,
      "outputs": [
        {
          "output_type": "stream",
          "text": [
            "전체 단지 수:  423\n",
            "버스 결측치 단지 수:  1\n",
            "버스 결측치 단지:  ['C1649']\n",
            "버스 결측치 단지 지역:  ['경상남도']\n"
          ],
          "name": "stdout"
        }
      ]
    },
    {
      "cell_type": "code",
      "metadata": {
        "colab": {
          "base_uri": "https://localhost:8080/"
        },
        "id": "2HzZFib__E8D",
        "outputId": "1bf02f7a-9b3f-4310-85de-c26228cadf3d"
      },
      "source": [
        "print('전체 단지 수: ', test['단지코드'].nunique())\n",
        "print('버스 결측치 단지 수: ', test.loc[test['도보 10분거리 내 버스정류장 수'].isnull()]['단지코드'].nunique())\n",
        "print('버스 결측치 단지: ', test.loc[test['도보 10분거리 내 버스정류장 수'].isnull()]['단지코드'].unique())\n",
        "print('버스 결측치 단지 지역: ', test.loc[test['도보 10분거리 내 버스정류장 수'].isnull()]['지역'].unique())"
      ],
      "execution_count": null,
      "outputs": [
        {
          "output_type": "stream",
          "text": [
            "전체 단지 수:  150\n",
            "버스 결측치 단지 수:  0\n",
            "버스 결측치 단지:  []\n",
            "버스 결측치 단지 지역:  []\n"
          ],
          "name": "stdout"
        }
      ]
    },
    {
      "cell_type": "markdown",
      "metadata": {
        "id": "58k5EgkiB5K1"
      },
      "source": [
        "NULL값 (자격유형) 탐색!"
      ]
    },
    {
      "cell_type": "code",
      "metadata": {
        "colab": {
          "base_uri": "https://localhost:8080/",
          "height": 161
        },
        "id": "I-Edb3VH09xp",
        "outputId": "af23dc00-9f37-41ff-9a64-ee4e2671dfc4"
      },
      "source": [
        "test[test.자격유형.isnull()]"
      ],
      "execution_count": null,
      "outputs": [
        {
          "output_type": "execute_result",
          "data": {
            "text/html": [
              "<div>\n",
              "<style scoped>\n",
              "    .dataframe tbody tr th:only-of-type {\n",
              "        vertical-align: middle;\n",
              "    }\n",
              "\n",
              "    .dataframe tbody tr th {\n",
              "        vertical-align: top;\n",
              "    }\n",
              "\n",
              "    .dataframe thead th {\n",
              "        text-align: right;\n",
              "    }\n",
              "</style>\n",
              "<table border=\"1\" class=\"dataframe\">\n",
              "  <thead>\n",
              "    <tr style=\"text-align: right;\">\n",
              "      <th></th>\n",
              "      <th>단지코드</th>\n",
              "      <th>총세대수</th>\n",
              "      <th>임대건물구분</th>\n",
              "      <th>지역</th>\n",
              "      <th>공급유형</th>\n",
              "      <th>전용면적</th>\n",
              "      <th>전용면적별세대수</th>\n",
              "      <th>공가수</th>\n",
              "      <th>자격유형</th>\n",
              "      <th>임대보증금</th>\n",
              "      <th>임대료</th>\n",
              "      <th>도보 10분거리 내 지하철역 수(환승노선 수 반영)</th>\n",
              "      <th>도보 10분거리 내 버스정류장 수</th>\n",
              "      <th>단지내주차면수</th>\n",
              "    </tr>\n",
              "  </thead>\n",
              "  <tbody>\n",
              "    <tr>\n",
              "      <th>196</th>\n",
              "      <td>C2411</td>\n",
              "      <td>962</td>\n",
              "      <td>아파트</td>\n",
              "      <td>경상남도</td>\n",
              "      <td>국민임대</td>\n",
              "      <td>46.90</td>\n",
              "      <td>240</td>\n",
              "      <td>25.0</td>\n",
              "      <td>NaN</td>\n",
              "      <td>71950000</td>\n",
              "      <td>37470</td>\n",
              "      <td>0.0</td>\n",
              "      <td>2.0</td>\n",
              "      <td>840.0</td>\n",
              "    </tr>\n",
              "    <tr>\n",
              "      <th>258</th>\n",
              "      <td>C2253</td>\n",
              "      <td>1161</td>\n",
              "      <td>아파트</td>\n",
              "      <td>강원도</td>\n",
              "      <td>영구임대</td>\n",
              "      <td>26.37</td>\n",
              "      <td>745</td>\n",
              "      <td>0.0</td>\n",
              "      <td>NaN</td>\n",
              "      <td>2249000</td>\n",
              "      <td>44770</td>\n",
              "      <td>0.0</td>\n",
              "      <td>2.0</td>\n",
              "      <td>173.0</td>\n",
              "    </tr>\n",
              "  </tbody>\n",
              "</table>\n",
              "</div>"
            ],
            "text/plain": [
              "      단지코드  총세대수  ... 도보 10분거리 내 버스정류장 수 단지내주차면수\n",
              "196  C2411   962  ...                2.0   840.0\n",
              "258  C2253  1161  ...                2.0   173.0\n",
              "\n",
              "[2 rows x 14 columns]"
            ]
          },
          "metadata": {
            "tags": []
          },
          "execution_count": 682
        }
      ]
    },
    {
      "cell_type": "code",
      "metadata": {
        "colab": {
          "base_uri": "https://localhost:8080/",
          "height": 161
        },
        "id": "DAVDyFrIB_lA",
        "outputId": "71fb8518-463f-4efb-f820-82b99ebe1c3c"
      },
      "source": [
        "test[test.자격유형.isnull()]"
      ],
      "execution_count": null,
      "outputs": [
        {
          "output_type": "execute_result",
          "data": {
            "text/html": [
              "<div>\n",
              "<style scoped>\n",
              "    .dataframe tbody tr th:only-of-type {\n",
              "        vertical-align: middle;\n",
              "    }\n",
              "\n",
              "    .dataframe tbody tr th {\n",
              "        vertical-align: top;\n",
              "    }\n",
              "\n",
              "    .dataframe thead th {\n",
              "        text-align: right;\n",
              "    }\n",
              "</style>\n",
              "<table border=\"1\" class=\"dataframe\">\n",
              "  <thead>\n",
              "    <tr style=\"text-align: right;\">\n",
              "      <th></th>\n",
              "      <th>단지코드</th>\n",
              "      <th>총세대수</th>\n",
              "      <th>임대건물구분</th>\n",
              "      <th>지역</th>\n",
              "      <th>공급유형</th>\n",
              "      <th>전용면적</th>\n",
              "      <th>전용면적별세대수</th>\n",
              "      <th>공가수</th>\n",
              "      <th>자격유형</th>\n",
              "      <th>임대보증금</th>\n",
              "      <th>임대료</th>\n",
              "      <th>도보 10분거리 내 지하철역 수(환승노선 수 반영)</th>\n",
              "      <th>도보 10분거리 내 버스정류장 수</th>\n",
              "      <th>단지내주차면수</th>\n",
              "    </tr>\n",
              "  </thead>\n",
              "  <tbody>\n",
              "    <tr>\n",
              "      <th>196</th>\n",
              "      <td>C2411</td>\n",
              "      <td>962</td>\n",
              "      <td>아파트</td>\n",
              "      <td>경상남도</td>\n",
              "      <td>국민임대</td>\n",
              "      <td>46.90</td>\n",
              "      <td>240</td>\n",
              "      <td>25.0</td>\n",
              "      <td>NaN</td>\n",
              "      <td>71950000</td>\n",
              "      <td>37470</td>\n",
              "      <td>0.0</td>\n",
              "      <td>2.0</td>\n",
              "      <td>840.0</td>\n",
              "    </tr>\n",
              "    <tr>\n",
              "      <th>258</th>\n",
              "      <td>C2253</td>\n",
              "      <td>1161</td>\n",
              "      <td>아파트</td>\n",
              "      <td>강원도</td>\n",
              "      <td>영구임대</td>\n",
              "      <td>26.37</td>\n",
              "      <td>745</td>\n",
              "      <td>0.0</td>\n",
              "      <td>NaN</td>\n",
              "      <td>2249000</td>\n",
              "      <td>44770</td>\n",
              "      <td>0.0</td>\n",
              "      <td>2.0</td>\n",
              "      <td>173.0</td>\n",
              "    </tr>\n",
              "  </tbody>\n",
              "</table>\n",
              "</div>"
            ],
            "text/plain": [
              "      단지코드  총세대수  ... 도보 10분거리 내 버스정류장 수 단지내주차면수\n",
              "196  C2411   962  ...                2.0   840.0\n",
              "258  C2253  1161  ...                2.0   173.0\n",
              "\n",
              "[2 rows x 14 columns]"
            ]
          },
          "metadata": {
            "tags": []
          },
          "execution_count": 683
        }
      ]
    },
    {
      "cell_type": "markdown",
      "metadata": {
        "id": "Ac5UplUyBxNX"
      },
      "source": [
        "임대료, 임대보증금 null값 처리 0으로!"
      ]
    },
    {
      "cell_type": "code",
      "metadata": {
        "id": "VQI5SFF-0p2T"
      },
      "source": [
        "train.loc[train['공급유형'] == '공공분양', '임대료'] = train['임대료'].fillna(0)\n",
        "train.loc[train['공급유형'] == '장기전세', '임대료'] = train['임대료'].fillna(0)\n",
        "train.loc[train['공급유형'] == '국민임대', '임대료'] = train['임대료'].fillna(0)\n",
        "train.loc[train['공급유형'] == '행복주택', '임대료'] = train['임대료'].fillna(0)\n",
        "\n",
        "train.loc[train['공급유형'] == '공공분양', '임대보증금'] = train['임대보증금'].fillna(0)\n",
        "train.loc[train['공급유형'] == '장기전세', '임대보증금'] = train['임대보증금'].fillna(0)\n",
        "train.loc[train['공급유형'] == '국민임대', '임대보증금'] = train['임대보증금'].fillna(0)\n",
        "train.loc[train['공급유형'] == '행복주택', '임대보증금'] = train['임대보증금'].fillna(0)"
      ],
      "execution_count": null,
      "outputs": []
    },
    {
      "cell_type": "code",
      "metadata": {
        "colab": {
          "base_uri": "https://localhost:8080/",
          "height": 356
        },
        "id": "lh1UnebzEIlY",
        "outputId": "c10acab7-024b-4d67-8211-a4496c7a0f5a"
      },
      "source": [
        "train.groupby(['공급유형'], as_index=False)['임대료'].mean()"
      ],
      "execution_count": null,
      "outputs": [
        {
          "output_type": "execute_result",
          "data": {
            "text/html": [
              "<div>\n",
              "<style scoped>\n",
              "    .dataframe tbody tr th:only-of-type {\n",
              "        vertical-align: middle;\n",
              "    }\n",
              "\n",
              "    .dataframe tbody tr th {\n",
              "        vertical-align: top;\n",
              "    }\n",
              "\n",
              "    .dataframe thead th {\n",
              "        text-align: right;\n",
              "    }\n",
              "</style>\n",
              "<table border=\"1\" class=\"dataframe\">\n",
              "  <thead>\n",
              "    <tr style=\"text-align: right;\">\n",
              "      <th></th>\n",
              "      <th>공급유형</th>\n",
              "      <th>임대료</th>\n",
              "    </tr>\n",
              "  </thead>\n",
              "  <tbody>\n",
              "    <tr>\n",
              "      <th>0</th>\n",
              "      <td>공공분양</td>\n",
              "      <td>0.000000</td>\n",
              "    </tr>\n",
              "    <tr>\n",
              "      <th>1</th>\n",
              "      <td>공공임대(10년)</td>\n",
              "      <td>521286.780488</td>\n",
              "    </tr>\n",
              "    <tr>\n",
              "      <th>2</th>\n",
              "      <td>공공임대(50년)</td>\n",
              "      <td>201579.677419</td>\n",
              "    </tr>\n",
              "    <tr>\n",
              "      <th>3</th>\n",
              "      <td>공공임대(5년)</td>\n",
              "      <td>400000.000000</td>\n",
              "    </tr>\n",
              "    <tr>\n",
              "      <th>4</th>\n",
              "      <td>공공임대(분납)</td>\n",
              "      <td>288816.666667</td>\n",
              "    </tr>\n",
              "    <tr>\n",
              "      <th>5</th>\n",
              "      <td>국민임대</td>\n",
              "      <td>172611.575654</td>\n",
              "    </tr>\n",
              "    <tr>\n",
              "      <th>6</th>\n",
              "      <td>영구임대</td>\n",
              "      <td>93913.750000</td>\n",
              "    </tr>\n",
              "    <tr>\n",
              "      <th>7</th>\n",
              "      <td>임대상가</td>\n",
              "      <td>NaN</td>\n",
              "    </tr>\n",
              "    <tr>\n",
              "      <th>8</th>\n",
              "      <td>장기전세</td>\n",
              "      <td>0.000000</td>\n",
              "    </tr>\n",
              "    <tr>\n",
              "      <th>9</th>\n",
              "      <td>행복주택</td>\n",
              "      <td>125734.788732</td>\n",
              "    </tr>\n",
              "  </tbody>\n",
              "</table>\n",
              "</div>"
            ],
            "text/plain": [
              "        공급유형            임대료\n",
              "0       공공분양       0.000000\n",
              "1  공공임대(10년)  521286.780488\n",
              "2  공공임대(50년)  201579.677419\n",
              "3   공공임대(5년)  400000.000000\n",
              "4   공공임대(분납)  288816.666667\n",
              "5       국민임대  172611.575654\n",
              "6       영구임대   93913.750000\n",
              "7       임대상가            NaN\n",
              "8       장기전세       0.000000\n",
              "9       행복주택  125734.788732"
            ]
          },
          "metadata": {
            "tags": []
          },
          "execution_count": 685
        }
      ]
    },
    {
      "cell_type": "code",
      "metadata": {
        "id": "uKSwajIPEorh"
      },
      "source": [
        "#임대 상가의 임대료 처리\n",
        "train.loc[train['지역'] == '부산광역시', '임대료'] = train['임대료'].fillna(train[train['지역'] == '부산광역시']['임대료'].mean())\n",
        "train.loc[train['지역'] == '대전광역시', '임대료'] = train['임대료'].fillna(train[train['지역'] == '대전광역시']['임대료'].mean())\n",
        "train.loc[train['지역'] == '경상남도', '임대료'] = train['임대료'].fillna(train[train['지역'] == '경상남도']['임대료'].mean())\n",
        "train.loc[train['지역'] == '충청남도', '임대료'] = train['임대료'].fillna(train[train['지역'] == '충청남도']['임대료'].mean())\n",
        "train.loc[train['지역'] == '강원도', '임대료'] = train['임대료'].fillna(train[train['지역'] == '강원도']['임대료'].mean())\n",
        "train.loc[train['지역'] == '제주특별자치도', '임대료'] = train['임대료'].fillna(train[train['지역'] == '제주특별자치도']['임대료'].mean())\n",
        "\n",
        "train.loc[train['지역'] == '부산광역시', '임대보증금'] = train['임대보증금'].fillna(train[train['지역'] == '부산광역시']['임대보증금'].mean())\n",
        "train.loc[train['지역'] == '대전광역시', '임대보증금'] = train['임대보증금'].fillna(train[train['지역'] == '대전광역시']['임대보증금'].mean())\n",
        "train.loc[train['지역'] == '경상남도', '임대보증금'] = train['임대보증금'].fillna(train[train['지역'] == '경상남도']['임대보증금'].mean())\n",
        "train.loc[train['지역'] == '충청남도', '임대보증금'] = train['임대보증금'].fillna(train[train['지역'] == '충청남도']['임대보증금'].mean())\n",
        "train.loc[train['지역'] == '강원도', '임대보증금'] = train['임대보증금'].fillna(train[train['지역'] == '강원도']['임대보증금'].mean())\n",
        "train.loc[train['지역'] == '제주특별자치도', '임대보증금'] = train['임대보증금'].fillna(train[train['지역'] == '제주특별자치도']['임대보증금'].mean())"
      ],
      "execution_count": null,
      "outputs": []
    },
    {
      "cell_type": "code",
      "metadata": {
        "colab": {
          "base_uri": "https://localhost:8080/",
          "height": 356
        },
        "id": "WmWbRhIzFJ5I",
        "outputId": "93290217-d91d-43f0-a44e-1a33dfb00c1d"
      },
      "source": [
        "train.groupby(['공급유형'], as_index = False)['임대료'].mean()"
      ],
      "execution_count": null,
      "outputs": [
        {
          "output_type": "execute_result",
          "data": {
            "text/html": [
              "<div>\n",
              "<style scoped>\n",
              "    .dataframe tbody tr th:only-of-type {\n",
              "        vertical-align: middle;\n",
              "    }\n",
              "\n",
              "    .dataframe tbody tr th {\n",
              "        vertical-align: top;\n",
              "    }\n",
              "\n",
              "    .dataframe thead th {\n",
              "        text-align: right;\n",
              "    }\n",
              "</style>\n",
              "<table border=\"1\" class=\"dataframe\">\n",
              "  <thead>\n",
              "    <tr style=\"text-align: right;\">\n",
              "      <th></th>\n",
              "      <th>공급유형</th>\n",
              "      <th>임대료</th>\n",
              "    </tr>\n",
              "  </thead>\n",
              "  <tbody>\n",
              "    <tr>\n",
              "      <th>0</th>\n",
              "      <td>공공분양</td>\n",
              "      <td>0.000000</td>\n",
              "    </tr>\n",
              "    <tr>\n",
              "      <th>1</th>\n",
              "      <td>공공임대(10년)</td>\n",
              "      <td>521286.780488</td>\n",
              "    </tr>\n",
              "    <tr>\n",
              "      <th>2</th>\n",
              "      <td>공공임대(50년)</td>\n",
              "      <td>201579.677419</td>\n",
              "    </tr>\n",
              "    <tr>\n",
              "      <th>3</th>\n",
              "      <td>공공임대(5년)</td>\n",
              "      <td>400000.000000</td>\n",
              "    </tr>\n",
              "    <tr>\n",
              "      <th>4</th>\n",
              "      <td>공공임대(분납)</td>\n",
              "      <td>288816.666667</td>\n",
              "    </tr>\n",
              "    <tr>\n",
              "      <th>5</th>\n",
              "      <td>국민임대</td>\n",
              "      <td>172611.575654</td>\n",
              "    </tr>\n",
              "    <tr>\n",
              "      <th>6</th>\n",
              "      <td>영구임대</td>\n",
              "      <td>93913.750000</td>\n",
              "    </tr>\n",
              "    <tr>\n",
              "      <th>7</th>\n",
              "      <td>임대상가</td>\n",
              "      <td>169629.773379</td>\n",
              "    </tr>\n",
              "    <tr>\n",
              "      <th>8</th>\n",
              "      <td>장기전세</td>\n",
              "      <td>0.000000</td>\n",
              "    </tr>\n",
              "    <tr>\n",
              "      <th>9</th>\n",
              "      <td>행복주택</td>\n",
              "      <td>125734.788732</td>\n",
              "    </tr>\n",
              "  </tbody>\n",
              "</table>\n",
              "</div>"
            ],
            "text/plain": [
              "        공급유형            임대료\n",
              "0       공공분양       0.000000\n",
              "1  공공임대(10년)  521286.780488\n",
              "2  공공임대(50년)  201579.677419\n",
              "3   공공임대(5년)  400000.000000\n",
              "4   공공임대(분납)  288816.666667\n",
              "5       국민임대  172611.575654\n",
              "6       영구임대   93913.750000\n",
              "7       임대상가  169629.773379\n",
              "8       장기전세       0.000000\n",
              "9       행복주택  125734.788732"
            ]
          },
          "metadata": {
            "tags": []
          },
          "execution_count": 687
        }
      ]
    },
    {
      "cell_type": "markdown",
      "metadata": {
        "id": "lcdg3oQn3nlG"
      },
      "source": [
        "지하철,버스 null 값 처리 0으로!"
      ]
    },
    {
      "cell_type": "code",
      "metadata": {
        "id": "bfIieZy23uQm"
      },
      "source": [
        "cols = ['도보 10분거리 내 지하철역 수(환승노선 수 반영)', '도보 10분거리 내 버스정류장 수']\n",
        "train[cols] = train[cols].fillna(0)\n",
        "test[cols] = test[cols].fillna(0)"
      ],
      "execution_count": null,
      "outputs": []
    },
    {
      "cell_type": "code",
      "metadata": {
        "colab": {
          "base_uri": "https://localhost:8080/"
        },
        "id": "xlZ4A9SwdcW6",
        "outputId": "84b83c76-1404-4f3b-ef76-440da594c40f"
      },
      "source": [
        "train.isna().sum()"
      ],
      "execution_count": null,
      "outputs": [
        {
          "output_type": "execute_result",
          "data": {
            "text/plain": [
              "단지코드                            0\n",
              "총세대수                            0\n",
              "임대건물구분                          0\n",
              "지역                              0\n",
              "공급유형                            0\n",
              "전용면적                            0\n",
              "전용면적별세대수                        0\n",
              "공가수                             0\n",
              "자격유형                            0\n",
              "임대보증금                           0\n",
              "임대료                             0\n",
              "도보 10분거리 내 지하철역 수(환승노선 수 반영)    0\n",
              "도보 10분거리 내 버스정류장 수              0\n",
              "단지내주차면수                         0\n",
              "등록차량수                           0\n",
              "dtype: int64"
            ]
          },
          "metadata": {
            "tags": []
          },
          "execution_count": 689
        }
      ]
    },
    {
      "cell_type": "code",
      "metadata": {
        "colab": {
          "base_uri": "https://localhost:8080/"
        },
        "id": "tvsWVxf-drJC",
        "outputId": "7c512070-5f36-464d-9b2a-3f1212b14651"
      },
      "source": [
        "test.isna().sum()"
      ],
      "execution_count": null,
      "outputs": [
        {
          "output_type": "execute_result",
          "data": {
            "text/plain": [
              "단지코드                              0\n",
              "총세대수                              0\n",
              "임대건물구분                            0\n",
              "지역                                0\n",
              "공급유형                              0\n",
              "전용면적                              0\n",
              "전용면적별세대수                          0\n",
              "공가수                               0\n",
              "자격유형                              2\n",
              "임대보증금                           186\n",
              "임대료                             186\n",
              "도보 10분거리 내 지하철역 수(환승노선 수 반영)      0\n",
              "도보 10분거리 내 버스정류장 수                0\n",
              "단지내주차면수                           0\n",
              "dtype: int64"
            ]
          },
          "metadata": {
            "tags": []
          },
          "execution_count": 690
        }
      ]
    },
    {
      "cell_type": "markdown",
      "metadata": {
        "id": "lk2HiywWWT3J"
      },
      "source": [
        "자격유형 null 처리"
      ]
    },
    {
      "cell_type": "code",
      "metadata": {
        "colab": {
          "base_uri": "https://localhost:8080/",
          "height": 302
        },
        "id": "iMB8SYOMCCIx",
        "outputId": "ed6c6808-7b7b-4a71-a8c6-7e1a5990fae2"
      },
      "source": [
        "test[test.단지코드=='C2411']"
      ],
      "execution_count": null,
      "outputs": [
        {
          "output_type": "execute_result",
          "data": {
            "text/html": [
              "<div>\n",
              "<style scoped>\n",
              "    .dataframe tbody tr th:only-of-type {\n",
              "        vertical-align: middle;\n",
              "    }\n",
              "\n",
              "    .dataframe tbody tr th {\n",
              "        vertical-align: top;\n",
              "    }\n",
              "\n",
              "    .dataframe thead th {\n",
              "        text-align: right;\n",
              "    }\n",
              "</style>\n",
              "<table border=\"1\" class=\"dataframe\">\n",
              "  <thead>\n",
              "    <tr style=\"text-align: right;\">\n",
              "      <th></th>\n",
              "      <th>단지코드</th>\n",
              "      <th>총세대수</th>\n",
              "      <th>임대건물구분</th>\n",
              "      <th>지역</th>\n",
              "      <th>공급유형</th>\n",
              "      <th>전용면적</th>\n",
              "      <th>전용면적별세대수</th>\n",
              "      <th>공가수</th>\n",
              "      <th>자격유형</th>\n",
              "      <th>임대보증금</th>\n",
              "      <th>임대료</th>\n",
              "      <th>도보 10분거리 내 지하철역 수(환승노선 수 반영)</th>\n",
              "      <th>도보 10분거리 내 버스정류장 수</th>\n",
              "      <th>단지내주차면수</th>\n",
              "    </tr>\n",
              "  </thead>\n",
              "  <tbody>\n",
              "    <tr>\n",
              "      <th>193</th>\n",
              "      <td>C2411</td>\n",
              "      <td>962</td>\n",
              "      <td>아파트</td>\n",
              "      <td>경상남도</td>\n",
              "      <td>국민임대</td>\n",
              "      <td>39.43</td>\n",
              "      <td>56</td>\n",
              "      <td>25.0</td>\n",
              "      <td>A</td>\n",
              "      <td>11992000</td>\n",
              "      <td>100720</td>\n",
              "      <td>0.0</td>\n",
              "      <td>2.0</td>\n",
              "      <td>840.0</td>\n",
              "    </tr>\n",
              "    <tr>\n",
              "      <th>194</th>\n",
              "      <td>C2411</td>\n",
              "      <td>962</td>\n",
              "      <td>아파트</td>\n",
              "      <td>경상남도</td>\n",
              "      <td>국민임대</td>\n",
              "      <td>39.72</td>\n",
              "      <td>336</td>\n",
              "      <td>25.0</td>\n",
              "      <td>A</td>\n",
              "      <td>11992000</td>\n",
              "      <td>100720</td>\n",
              "      <td>0.0</td>\n",
              "      <td>2.0</td>\n",
              "      <td>840.0</td>\n",
              "    </tr>\n",
              "    <tr>\n",
              "      <th>195</th>\n",
              "      <td>C2411</td>\n",
              "      <td>962</td>\n",
              "      <td>아파트</td>\n",
              "      <td>경상남도</td>\n",
              "      <td>국민임대</td>\n",
              "      <td>39.82</td>\n",
              "      <td>179</td>\n",
              "      <td>25.0</td>\n",
              "      <td>A</td>\n",
              "      <td>11992000</td>\n",
              "      <td>100720</td>\n",
              "      <td>0.0</td>\n",
              "      <td>2.0</td>\n",
              "      <td>840.0</td>\n",
              "    </tr>\n",
              "    <tr>\n",
              "      <th>196</th>\n",
              "      <td>C2411</td>\n",
              "      <td>962</td>\n",
              "      <td>아파트</td>\n",
              "      <td>경상남도</td>\n",
              "      <td>국민임대</td>\n",
              "      <td>46.90</td>\n",
              "      <td>240</td>\n",
              "      <td>25.0</td>\n",
              "      <td>NaN</td>\n",
              "      <td>71950000</td>\n",
              "      <td>37470</td>\n",
              "      <td>0.0</td>\n",
              "      <td>2.0</td>\n",
              "      <td>840.0</td>\n",
              "    </tr>\n",
              "    <tr>\n",
              "      <th>197</th>\n",
              "      <td>C2411</td>\n",
              "      <td>962</td>\n",
              "      <td>아파트</td>\n",
              "      <td>경상남도</td>\n",
              "      <td>국민임대</td>\n",
              "      <td>51.93</td>\n",
              "      <td>150</td>\n",
              "      <td>25.0</td>\n",
              "      <td>A</td>\n",
              "      <td>21586000</td>\n",
              "      <td>171480</td>\n",
              "      <td>0.0</td>\n",
              "      <td>2.0</td>\n",
              "      <td>840.0</td>\n",
              "    </tr>\n",
              "  </tbody>\n",
              "</table>\n",
              "</div>"
            ],
            "text/plain": [
              "      단지코드  총세대수  ... 도보 10분거리 내 버스정류장 수 단지내주차면수\n",
              "193  C2411   962  ...                2.0   840.0\n",
              "194  C2411   962  ...                2.0   840.0\n",
              "195  C2411   962  ...                2.0   840.0\n",
              "196  C2411   962  ...                2.0   840.0\n",
              "197  C2411   962  ...                2.0   840.0\n",
              "\n",
              "[5 rows x 14 columns]"
            ]
          },
          "metadata": {
            "tags": []
          },
          "execution_count": 691
        }
      ]
    },
    {
      "cell_type": "code",
      "metadata": {
        "colab": {
          "base_uri": "https://localhost:8080/",
          "height": 1000
        },
        "id": "ig6rO0T4CNSJ",
        "outputId": "d5bda04b-7cb2-4d9b-ae22-e63d9d4ebca0"
      },
      "source": [
        "test[test.단지코드=='C2253']"
      ],
      "execution_count": null,
      "outputs": [
        {
          "output_type": "execute_result",
          "data": {
            "text/html": [
              "<div>\n",
              "<style scoped>\n",
              "    .dataframe tbody tr th:only-of-type {\n",
              "        vertical-align: middle;\n",
              "    }\n",
              "\n",
              "    .dataframe tbody tr th {\n",
              "        vertical-align: top;\n",
              "    }\n",
              "\n",
              "    .dataframe thead th {\n",
              "        text-align: right;\n",
              "    }\n",
              "</style>\n",
              "<table border=\"1\" class=\"dataframe\">\n",
              "  <thead>\n",
              "    <tr style=\"text-align: right;\">\n",
              "      <th></th>\n",
              "      <th>단지코드</th>\n",
              "      <th>총세대수</th>\n",
              "      <th>임대건물구분</th>\n",
              "      <th>지역</th>\n",
              "      <th>공급유형</th>\n",
              "      <th>전용면적</th>\n",
              "      <th>전용면적별세대수</th>\n",
              "      <th>공가수</th>\n",
              "      <th>자격유형</th>\n",
              "      <th>임대보증금</th>\n",
              "      <th>임대료</th>\n",
              "      <th>도보 10분거리 내 지하철역 수(환승노선 수 반영)</th>\n",
              "      <th>도보 10분거리 내 버스정류장 수</th>\n",
              "      <th>단지내주차면수</th>\n",
              "    </tr>\n",
              "  </thead>\n",
              "  <tbody>\n",
              "    <tr>\n",
              "      <th>258</th>\n",
              "      <td>C2253</td>\n",
              "      <td>1161</td>\n",
              "      <td>아파트</td>\n",
              "      <td>강원도</td>\n",
              "      <td>영구임대</td>\n",
              "      <td>26.37</td>\n",
              "      <td>745</td>\n",
              "      <td>0.0</td>\n",
              "      <td>NaN</td>\n",
              "      <td>2249000</td>\n",
              "      <td>44770</td>\n",
              "      <td>0.0</td>\n",
              "      <td>2.0</td>\n",
              "      <td>173.0</td>\n",
              "    </tr>\n",
              "    <tr>\n",
              "      <th>259</th>\n",
              "      <td>C2253</td>\n",
              "      <td>1161</td>\n",
              "      <td>아파트</td>\n",
              "      <td>강원도</td>\n",
              "      <td>영구임대</td>\n",
              "      <td>31.32</td>\n",
              "      <td>239</td>\n",
              "      <td>0.0</td>\n",
              "      <td>C</td>\n",
              "      <td>3731000</td>\n",
              "      <td>83020</td>\n",
              "      <td>0.0</td>\n",
              "      <td>2.0</td>\n",
              "      <td>173.0</td>\n",
              "    </tr>\n",
              "    <tr>\n",
              "      <th>260</th>\n",
              "      <td>C2253</td>\n",
              "      <td>1161</td>\n",
              "      <td>아파트</td>\n",
              "      <td>강원도</td>\n",
              "      <td>영구임대</td>\n",
              "      <td>31.32</td>\n",
              "      <td>149</td>\n",
              "      <td>0.0</td>\n",
              "      <td>C</td>\n",
              "      <td>3731000</td>\n",
              "      <td>83020</td>\n",
              "      <td>0.0</td>\n",
              "      <td>2.0</td>\n",
              "      <td>173.0</td>\n",
              "    </tr>\n",
              "    <tr>\n",
              "      <th>261</th>\n",
              "      <td>C2253</td>\n",
              "      <td>1161</td>\n",
              "      <td>상가</td>\n",
              "      <td>강원도</td>\n",
              "      <td>임대상가</td>\n",
              "      <td>13.77</td>\n",
              "      <td>1</td>\n",
              "      <td>0.0</td>\n",
              "      <td>D</td>\n",
              "      <td>NaN</td>\n",
              "      <td>NaN</td>\n",
              "      <td>0.0</td>\n",
              "      <td>2.0</td>\n",
              "      <td>173.0</td>\n",
              "    </tr>\n",
              "    <tr>\n",
              "      <th>262</th>\n",
              "      <td>C2253</td>\n",
              "      <td>1161</td>\n",
              "      <td>상가</td>\n",
              "      <td>강원도</td>\n",
              "      <td>임대상가</td>\n",
              "      <td>22.89</td>\n",
              "      <td>1</td>\n",
              "      <td>0.0</td>\n",
              "      <td>D</td>\n",
              "      <td>NaN</td>\n",
              "      <td>NaN</td>\n",
              "      <td>0.0</td>\n",
              "      <td>2.0</td>\n",
              "      <td>173.0</td>\n",
              "    </tr>\n",
              "    <tr>\n",
              "      <th>263</th>\n",
              "      <td>C2253</td>\n",
              "      <td>1161</td>\n",
              "      <td>상가</td>\n",
              "      <td>강원도</td>\n",
              "      <td>임대상가</td>\n",
              "      <td>22.91</td>\n",
              "      <td>1</td>\n",
              "      <td>0.0</td>\n",
              "      <td>D</td>\n",
              "      <td>NaN</td>\n",
              "      <td>NaN</td>\n",
              "      <td>0.0</td>\n",
              "      <td>2.0</td>\n",
              "      <td>173.0</td>\n",
              "    </tr>\n",
              "    <tr>\n",
              "      <th>264</th>\n",
              "      <td>C2253</td>\n",
              "      <td>1161</td>\n",
              "      <td>상가</td>\n",
              "      <td>강원도</td>\n",
              "      <td>임대상가</td>\n",
              "      <td>23.79</td>\n",
              "      <td>1</td>\n",
              "      <td>0.0</td>\n",
              "      <td>D</td>\n",
              "      <td>NaN</td>\n",
              "      <td>NaN</td>\n",
              "      <td>0.0</td>\n",
              "      <td>2.0</td>\n",
              "      <td>173.0</td>\n",
              "    </tr>\n",
              "    <tr>\n",
              "      <th>265</th>\n",
              "      <td>C2253</td>\n",
              "      <td>1161</td>\n",
              "      <td>상가</td>\n",
              "      <td>강원도</td>\n",
              "      <td>임대상가</td>\n",
              "      <td>23.79</td>\n",
              "      <td>1</td>\n",
              "      <td>0.0</td>\n",
              "      <td>D</td>\n",
              "      <td>NaN</td>\n",
              "      <td>NaN</td>\n",
              "      <td>0.0</td>\n",
              "      <td>2.0</td>\n",
              "      <td>173.0</td>\n",
              "    </tr>\n",
              "    <tr>\n",
              "      <th>266</th>\n",
              "      <td>C2253</td>\n",
              "      <td>1161</td>\n",
              "      <td>상가</td>\n",
              "      <td>강원도</td>\n",
              "      <td>임대상가</td>\n",
              "      <td>23.86</td>\n",
              "      <td>1</td>\n",
              "      <td>0.0</td>\n",
              "      <td>D</td>\n",
              "      <td>NaN</td>\n",
              "      <td>NaN</td>\n",
              "      <td>0.0</td>\n",
              "      <td>2.0</td>\n",
              "      <td>173.0</td>\n",
              "    </tr>\n",
              "    <tr>\n",
              "      <th>267</th>\n",
              "      <td>C2253</td>\n",
              "      <td>1161</td>\n",
              "      <td>상가</td>\n",
              "      <td>강원도</td>\n",
              "      <td>임대상가</td>\n",
              "      <td>23.86</td>\n",
              "      <td>1</td>\n",
              "      <td>0.0</td>\n",
              "      <td>D</td>\n",
              "      <td>NaN</td>\n",
              "      <td>NaN</td>\n",
              "      <td>0.0</td>\n",
              "      <td>2.0</td>\n",
              "      <td>173.0</td>\n",
              "    </tr>\n",
              "    <tr>\n",
              "      <th>268</th>\n",
              "      <td>C2253</td>\n",
              "      <td>1161</td>\n",
              "      <td>상가</td>\n",
              "      <td>강원도</td>\n",
              "      <td>임대상가</td>\n",
              "      <td>24.19</td>\n",
              "      <td>1</td>\n",
              "      <td>0.0</td>\n",
              "      <td>D</td>\n",
              "      <td>NaN</td>\n",
              "      <td>NaN</td>\n",
              "      <td>0.0</td>\n",
              "      <td>2.0</td>\n",
              "      <td>173.0</td>\n",
              "    </tr>\n",
              "    <tr>\n",
              "      <th>269</th>\n",
              "      <td>C2253</td>\n",
              "      <td>1161</td>\n",
              "      <td>상가</td>\n",
              "      <td>강원도</td>\n",
              "      <td>임대상가</td>\n",
              "      <td>27.75</td>\n",
              "      <td>1</td>\n",
              "      <td>0.0</td>\n",
              "      <td>D</td>\n",
              "      <td>NaN</td>\n",
              "      <td>NaN</td>\n",
              "      <td>0.0</td>\n",
              "      <td>2.0</td>\n",
              "      <td>173.0</td>\n",
              "    </tr>\n",
              "    <tr>\n",
              "      <th>270</th>\n",
              "      <td>C2253</td>\n",
              "      <td>1161</td>\n",
              "      <td>상가</td>\n",
              "      <td>강원도</td>\n",
              "      <td>임대상가</td>\n",
              "      <td>27.75</td>\n",
              "      <td>1</td>\n",
              "      <td>0.0</td>\n",
              "      <td>D</td>\n",
              "      <td>NaN</td>\n",
              "      <td>NaN</td>\n",
              "      <td>0.0</td>\n",
              "      <td>2.0</td>\n",
              "      <td>173.0</td>\n",
              "    </tr>\n",
              "    <tr>\n",
              "      <th>271</th>\n",
              "      <td>C2253</td>\n",
              "      <td>1161</td>\n",
              "      <td>상가</td>\n",
              "      <td>강원도</td>\n",
              "      <td>임대상가</td>\n",
              "      <td>27.75</td>\n",
              "      <td>1</td>\n",
              "      <td>0.0</td>\n",
              "      <td>D</td>\n",
              "      <td>NaN</td>\n",
              "      <td>NaN</td>\n",
              "      <td>0.0</td>\n",
              "      <td>2.0</td>\n",
              "      <td>173.0</td>\n",
              "    </tr>\n",
              "    <tr>\n",
              "      <th>272</th>\n",
              "      <td>C2253</td>\n",
              "      <td>1161</td>\n",
              "      <td>상가</td>\n",
              "      <td>강원도</td>\n",
              "      <td>임대상가</td>\n",
              "      <td>27.75</td>\n",
              "      <td>1</td>\n",
              "      <td>0.0</td>\n",
              "      <td>D</td>\n",
              "      <td>NaN</td>\n",
              "      <td>NaN</td>\n",
              "      <td>0.0</td>\n",
              "      <td>2.0</td>\n",
              "      <td>173.0</td>\n",
              "    </tr>\n",
              "    <tr>\n",
              "      <th>273</th>\n",
              "      <td>C2253</td>\n",
              "      <td>1161</td>\n",
              "      <td>상가</td>\n",
              "      <td>강원도</td>\n",
              "      <td>임대상가</td>\n",
              "      <td>27.75</td>\n",
              "      <td>1</td>\n",
              "      <td>0.0</td>\n",
              "      <td>D</td>\n",
              "      <td>NaN</td>\n",
              "      <td>NaN</td>\n",
              "      <td>0.0</td>\n",
              "      <td>2.0</td>\n",
              "      <td>173.0</td>\n",
              "    </tr>\n",
              "    <tr>\n",
              "      <th>274</th>\n",
              "      <td>C2253</td>\n",
              "      <td>1161</td>\n",
              "      <td>상가</td>\n",
              "      <td>강원도</td>\n",
              "      <td>임대상가</td>\n",
              "      <td>27.75</td>\n",
              "      <td>1</td>\n",
              "      <td>0.0</td>\n",
              "      <td>D</td>\n",
              "      <td>NaN</td>\n",
              "      <td>NaN</td>\n",
              "      <td>0.0</td>\n",
              "      <td>2.0</td>\n",
              "      <td>173.0</td>\n",
              "    </tr>\n",
              "    <tr>\n",
              "      <th>275</th>\n",
              "      <td>C2253</td>\n",
              "      <td>1161</td>\n",
              "      <td>상가</td>\n",
              "      <td>강원도</td>\n",
              "      <td>임대상가</td>\n",
              "      <td>28.19</td>\n",
              "      <td>1</td>\n",
              "      <td>0.0</td>\n",
              "      <td>D</td>\n",
              "      <td>NaN</td>\n",
              "      <td>NaN</td>\n",
              "      <td>0.0</td>\n",
              "      <td>2.0</td>\n",
              "      <td>173.0</td>\n",
              "    </tr>\n",
              "    <tr>\n",
              "      <th>276</th>\n",
              "      <td>C2253</td>\n",
              "      <td>1161</td>\n",
              "      <td>상가</td>\n",
              "      <td>강원도</td>\n",
              "      <td>임대상가</td>\n",
              "      <td>28.69</td>\n",
              "      <td>1</td>\n",
              "      <td>0.0</td>\n",
              "      <td>D</td>\n",
              "      <td>NaN</td>\n",
              "      <td>NaN</td>\n",
              "      <td>0.0</td>\n",
              "      <td>2.0</td>\n",
              "      <td>173.0</td>\n",
              "    </tr>\n",
              "    <tr>\n",
              "      <th>277</th>\n",
              "      <td>C2253</td>\n",
              "      <td>1161</td>\n",
              "      <td>상가</td>\n",
              "      <td>강원도</td>\n",
              "      <td>임대상가</td>\n",
              "      <td>28.69</td>\n",
              "      <td>1</td>\n",
              "      <td>0.0</td>\n",
              "      <td>D</td>\n",
              "      <td>NaN</td>\n",
              "      <td>NaN</td>\n",
              "      <td>0.0</td>\n",
              "      <td>2.0</td>\n",
              "      <td>173.0</td>\n",
              "    </tr>\n",
              "    <tr>\n",
              "      <th>278</th>\n",
              "      <td>C2253</td>\n",
              "      <td>1161</td>\n",
              "      <td>상가</td>\n",
              "      <td>강원도</td>\n",
              "      <td>임대상가</td>\n",
              "      <td>28.69</td>\n",
              "      <td>1</td>\n",
              "      <td>0.0</td>\n",
              "      <td>D</td>\n",
              "      <td>NaN</td>\n",
              "      <td>NaN</td>\n",
              "      <td>0.0</td>\n",
              "      <td>2.0</td>\n",
              "      <td>173.0</td>\n",
              "    </tr>\n",
              "    <tr>\n",
              "      <th>279</th>\n",
              "      <td>C2253</td>\n",
              "      <td>1161</td>\n",
              "      <td>상가</td>\n",
              "      <td>강원도</td>\n",
              "      <td>임대상가</td>\n",
              "      <td>28.69</td>\n",
              "      <td>1</td>\n",
              "      <td>0.0</td>\n",
              "      <td>D</td>\n",
              "      <td>NaN</td>\n",
              "      <td>NaN</td>\n",
              "      <td>0.0</td>\n",
              "      <td>2.0</td>\n",
              "      <td>173.0</td>\n",
              "    </tr>\n",
              "    <tr>\n",
              "      <th>280</th>\n",
              "      <td>C2253</td>\n",
              "      <td>1161</td>\n",
              "      <td>상가</td>\n",
              "      <td>강원도</td>\n",
              "      <td>임대상가</td>\n",
              "      <td>28.69</td>\n",
              "      <td>1</td>\n",
              "      <td>0.0</td>\n",
              "      <td>D</td>\n",
              "      <td>NaN</td>\n",
              "      <td>NaN</td>\n",
              "      <td>0.0</td>\n",
              "      <td>2.0</td>\n",
              "      <td>173.0</td>\n",
              "    </tr>\n",
              "    <tr>\n",
              "      <th>281</th>\n",
              "      <td>C2253</td>\n",
              "      <td>1161</td>\n",
              "      <td>상가</td>\n",
              "      <td>강원도</td>\n",
              "      <td>임대상가</td>\n",
              "      <td>28.93</td>\n",
              "      <td>1</td>\n",
              "      <td>0.0</td>\n",
              "      <td>D</td>\n",
              "      <td>NaN</td>\n",
              "      <td>NaN</td>\n",
              "      <td>0.0</td>\n",
              "      <td>2.0</td>\n",
              "      <td>173.0</td>\n",
              "    </tr>\n",
              "    <tr>\n",
              "      <th>282</th>\n",
              "      <td>C2253</td>\n",
              "      <td>1161</td>\n",
              "      <td>상가</td>\n",
              "      <td>강원도</td>\n",
              "      <td>임대상가</td>\n",
              "      <td>28.93</td>\n",
              "      <td>1</td>\n",
              "      <td>0.0</td>\n",
              "      <td>D</td>\n",
              "      <td>NaN</td>\n",
              "      <td>NaN</td>\n",
              "      <td>0.0</td>\n",
              "      <td>2.0</td>\n",
              "      <td>173.0</td>\n",
              "    </tr>\n",
              "    <tr>\n",
              "      <th>283</th>\n",
              "      <td>C2253</td>\n",
              "      <td>1161</td>\n",
              "      <td>상가</td>\n",
              "      <td>강원도</td>\n",
              "      <td>임대상가</td>\n",
              "      <td>42.35</td>\n",
              "      <td>1</td>\n",
              "      <td>0.0</td>\n",
              "      <td>D</td>\n",
              "      <td>NaN</td>\n",
              "      <td>NaN</td>\n",
              "      <td>0.0</td>\n",
              "      <td>2.0</td>\n",
              "      <td>173.0</td>\n",
              "    </tr>\n",
              "    <tr>\n",
              "      <th>284</th>\n",
              "      <td>C2253</td>\n",
              "      <td>1161</td>\n",
              "      <td>상가</td>\n",
              "      <td>강원도</td>\n",
              "      <td>임대상가</td>\n",
              "      <td>42.40</td>\n",
              "      <td>1</td>\n",
              "      <td>0.0</td>\n",
              "      <td>D</td>\n",
              "      <td>NaN</td>\n",
              "      <td>NaN</td>\n",
              "      <td>0.0</td>\n",
              "      <td>2.0</td>\n",
              "      <td>173.0</td>\n",
              "    </tr>\n",
              "    <tr>\n",
              "      <th>285</th>\n",
              "      <td>C2253</td>\n",
              "      <td>1161</td>\n",
              "      <td>상가</td>\n",
              "      <td>강원도</td>\n",
              "      <td>임대상가</td>\n",
              "      <td>55.17</td>\n",
              "      <td>1</td>\n",
              "      <td>0.0</td>\n",
              "      <td>D</td>\n",
              "      <td>NaN</td>\n",
              "      <td>NaN</td>\n",
              "      <td>0.0</td>\n",
              "      <td>2.0</td>\n",
              "      <td>173.0</td>\n",
              "    </tr>\n",
              "    <tr>\n",
              "      <th>286</th>\n",
              "      <td>C2253</td>\n",
              "      <td>1161</td>\n",
              "      <td>상가</td>\n",
              "      <td>강원도</td>\n",
              "      <td>임대상가</td>\n",
              "      <td>55.50</td>\n",
              "      <td>1</td>\n",
              "      <td>0.0</td>\n",
              "      <td>D</td>\n",
              "      <td>NaN</td>\n",
              "      <td>NaN</td>\n",
              "      <td>0.0</td>\n",
              "      <td>2.0</td>\n",
              "      <td>173.0</td>\n",
              "    </tr>\n",
              "    <tr>\n",
              "      <th>287</th>\n",
              "      <td>C2253</td>\n",
              "      <td>1161</td>\n",
              "      <td>상가</td>\n",
              "      <td>강원도</td>\n",
              "      <td>임대상가</td>\n",
              "      <td>82.92</td>\n",
              "      <td>1</td>\n",
              "      <td>0.0</td>\n",
              "      <td>D</td>\n",
              "      <td>NaN</td>\n",
              "      <td>NaN</td>\n",
              "      <td>0.0</td>\n",
              "      <td>2.0</td>\n",
              "      <td>173.0</td>\n",
              "    </tr>\n",
              "    <tr>\n",
              "      <th>288</th>\n",
              "      <td>C2253</td>\n",
              "      <td>1161</td>\n",
              "      <td>상가</td>\n",
              "      <td>강원도</td>\n",
              "      <td>임대상가</td>\n",
              "      <td>248.56</td>\n",
              "      <td>1</td>\n",
              "      <td>0.0</td>\n",
              "      <td>D</td>\n",
              "      <td>NaN</td>\n",
              "      <td>NaN</td>\n",
              "      <td>0.0</td>\n",
              "      <td>2.0</td>\n",
              "      <td>173.0</td>\n",
              "    </tr>\n",
              "  </tbody>\n",
              "</table>\n",
              "</div>"
            ],
            "text/plain": [
              "      단지코드  총세대수  ... 도보 10분거리 내 버스정류장 수 단지내주차면수\n",
              "258  C2253  1161  ...                2.0   173.0\n",
              "259  C2253  1161  ...                2.0   173.0\n",
              "260  C2253  1161  ...                2.0   173.0\n",
              "261  C2253  1161  ...                2.0   173.0\n",
              "262  C2253  1161  ...                2.0   173.0\n",
              "263  C2253  1161  ...                2.0   173.0\n",
              "264  C2253  1161  ...                2.0   173.0\n",
              "265  C2253  1161  ...                2.0   173.0\n",
              "266  C2253  1161  ...                2.0   173.0\n",
              "267  C2253  1161  ...                2.0   173.0\n",
              "268  C2253  1161  ...                2.0   173.0\n",
              "269  C2253  1161  ...                2.0   173.0\n",
              "270  C2253  1161  ...                2.0   173.0\n",
              "271  C2253  1161  ...                2.0   173.0\n",
              "272  C2253  1161  ...                2.0   173.0\n",
              "273  C2253  1161  ...                2.0   173.0\n",
              "274  C2253  1161  ...                2.0   173.0\n",
              "275  C2253  1161  ...                2.0   173.0\n",
              "276  C2253  1161  ...                2.0   173.0\n",
              "277  C2253  1161  ...                2.0   173.0\n",
              "278  C2253  1161  ...                2.0   173.0\n",
              "279  C2253  1161  ...                2.0   173.0\n",
              "280  C2253  1161  ...                2.0   173.0\n",
              "281  C2253  1161  ...                2.0   173.0\n",
              "282  C2253  1161  ...                2.0   173.0\n",
              "283  C2253  1161  ...                2.0   173.0\n",
              "284  C2253  1161  ...                2.0   173.0\n",
              "285  C2253  1161  ...                2.0   173.0\n",
              "286  C2253  1161  ...                2.0   173.0\n",
              "287  C2253  1161  ...                2.0   173.0\n",
              "288  C2253  1161  ...                2.0   173.0\n",
              "\n",
              "[31 rows x 14 columns]"
            ]
          },
          "metadata": {
            "tags": []
          },
          "execution_count": 692
        }
      ]
    },
    {
      "cell_type": "markdown",
      "metadata": {
        "id": "_nwfqS5Pwqwl"
      },
      "source": [
        "TEST 자격유형 NULL값 처리"
      ]
    },
    {
      "cell_type": "code",
      "metadata": {
        "id": "1x8ksWvXCI83"
      },
      "source": [
        "test.loc[test.단지코드.isin(['C2411']) & test.자격유형.isnull(), '자격유형'] = 'A'"
      ],
      "execution_count": null,
      "outputs": []
    },
    {
      "cell_type": "code",
      "metadata": {
        "id": "AmdylXbLCRaU"
      },
      "source": [
        "test.loc[test.단지코드.isin(['C2253']) & test.자격유형.isnull(), '자격유형'] = 'C'"
      ],
      "execution_count": null,
      "outputs": []
    },
    {
      "cell_type": "markdown",
      "metadata": {
        "id": "KOxF0wGUFHMJ"
      },
      "source": [
        "면적 변경"
      ]
    },
    {
      "cell_type": "code",
      "metadata": {
        "id": "BNGidQTUFItz"
      },
      "source": [
        "train['전용면적'] = train['전용면적'] //10*10"
      ],
      "execution_count": null,
      "outputs": []
    },
    {
      "cell_type": "code",
      "metadata": {
        "id": "hgb9JC8WGntr"
      },
      "source": [
        "test['전용면적'] = test['전용면적'] //10*10"
      ],
      "execution_count": null,
      "outputs": []
    },
    {
      "cell_type": "code",
      "metadata": {
        "colab": {
          "base_uri": "https://localhost:8080/",
          "height": 599
        },
        "id": "ylZG4KvuMKqT",
        "outputId": "a36936fa-0e3e-4dea-8b99-ec00f9e34844"
      },
      "source": [
        "train"
      ],
      "execution_count": null,
      "outputs": [
        {
          "output_type": "execute_result",
          "data": {
            "text/html": [
              "<div>\n",
              "<style scoped>\n",
              "    .dataframe tbody tr th:only-of-type {\n",
              "        vertical-align: middle;\n",
              "    }\n",
              "\n",
              "    .dataframe tbody tr th {\n",
              "        vertical-align: top;\n",
              "    }\n",
              "\n",
              "    .dataframe thead th {\n",
              "        text-align: right;\n",
              "    }\n",
              "</style>\n",
              "<table border=\"1\" class=\"dataframe\">\n",
              "  <thead>\n",
              "    <tr style=\"text-align: right;\">\n",
              "      <th></th>\n",
              "      <th>단지코드</th>\n",
              "      <th>총세대수</th>\n",
              "      <th>임대건물구분</th>\n",
              "      <th>지역</th>\n",
              "      <th>공급유형</th>\n",
              "      <th>전용면적</th>\n",
              "      <th>전용면적별세대수</th>\n",
              "      <th>공가수</th>\n",
              "      <th>자격유형</th>\n",
              "      <th>임대보증금</th>\n",
              "      <th>임대료</th>\n",
              "      <th>도보 10분거리 내 지하철역 수(환승노선 수 반영)</th>\n",
              "      <th>도보 10분거리 내 버스정류장 수</th>\n",
              "      <th>단지내주차면수</th>\n",
              "      <th>등록차량수</th>\n",
              "    </tr>\n",
              "  </thead>\n",
              "  <tbody>\n",
              "    <tr>\n",
              "      <th>0</th>\n",
              "      <td>C2483</td>\n",
              "      <td>900</td>\n",
              "      <td>아파트</td>\n",
              "      <td>경상북도</td>\n",
              "      <td>국민임대</td>\n",
              "      <td>30.0</td>\n",
              "      <td>134</td>\n",
              "      <td>38.0</td>\n",
              "      <td>A</td>\n",
              "      <td>15667000.0</td>\n",
              "      <td>103680.0</td>\n",
              "      <td>0.0</td>\n",
              "      <td>3.0</td>\n",
              "      <td>1425.0</td>\n",
              "      <td>1015.0</td>\n",
              "    </tr>\n",
              "    <tr>\n",
              "      <th>1</th>\n",
              "      <td>C2483</td>\n",
              "      <td>900</td>\n",
              "      <td>아파트</td>\n",
              "      <td>경상북도</td>\n",
              "      <td>국민임대</td>\n",
              "      <td>30.0</td>\n",
              "      <td>15</td>\n",
              "      <td>38.0</td>\n",
              "      <td>A</td>\n",
              "      <td>15667000.0</td>\n",
              "      <td>103680.0</td>\n",
              "      <td>0.0</td>\n",
              "      <td>3.0</td>\n",
              "      <td>1425.0</td>\n",
              "      <td>1015.0</td>\n",
              "    </tr>\n",
              "    <tr>\n",
              "      <th>2</th>\n",
              "      <td>C2483</td>\n",
              "      <td>900</td>\n",
              "      <td>아파트</td>\n",
              "      <td>경상북도</td>\n",
              "      <td>국민임대</td>\n",
              "      <td>50.0</td>\n",
              "      <td>385</td>\n",
              "      <td>38.0</td>\n",
              "      <td>A</td>\n",
              "      <td>27304000.0</td>\n",
              "      <td>184330.0</td>\n",
              "      <td>0.0</td>\n",
              "      <td>3.0</td>\n",
              "      <td>1425.0</td>\n",
              "      <td>1015.0</td>\n",
              "    </tr>\n",
              "    <tr>\n",
              "      <th>3</th>\n",
              "      <td>C2483</td>\n",
              "      <td>900</td>\n",
              "      <td>아파트</td>\n",
              "      <td>경상북도</td>\n",
              "      <td>국민임대</td>\n",
              "      <td>50.0</td>\n",
              "      <td>15</td>\n",
              "      <td>38.0</td>\n",
              "      <td>A</td>\n",
              "      <td>27304000.0</td>\n",
              "      <td>184330.0</td>\n",
              "      <td>0.0</td>\n",
              "      <td>3.0</td>\n",
              "      <td>1425.0</td>\n",
              "      <td>1015.0</td>\n",
              "    </tr>\n",
              "    <tr>\n",
              "      <th>4</th>\n",
              "      <td>C2483</td>\n",
              "      <td>900</td>\n",
              "      <td>아파트</td>\n",
              "      <td>경상북도</td>\n",
              "      <td>국민임대</td>\n",
              "      <td>50.0</td>\n",
              "      <td>41</td>\n",
              "      <td>38.0</td>\n",
              "      <td>A</td>\n",
              "      <td>27304000.0</td>\n",
              "      <td>184330.0</td>\n",
              "      <td>0.0</td>\n",
              "      <td>3.0</td>\n",
              "      <td>1425.0</td>\n",
              "      <td>1015.0</td>\n",
              "    </tr>\n",
              "    <tr>\n",
              "      <th>...</th>\n",
              "      <td>...</td>\n",
              "      <td>...</td>\n",
              "      <td>...</td>\n",
              "      <td>...</td>\n",
              "      <td>...</td>\n",
              "      <td>...</td>\n",
              "      <td>...</td>\n",
              "      <td>...</td>\n",
              "      <td>...</td>\n",
              "      <td>...</td>\n",
              "      <td>...</td>\n",
              "      <td>...</td>\n",
              "      <td>...</td>\n",
              "      <td>...</td>\n",
              "      <td>...</td>\n",
              "    </tr>\n",
              "    <tr>\n",
              "      <th>2947</th>\n",
              "      <td>C2532</td>\n",
              "      <td>239</td>\n",
              "      <td>아파트</td>\n",
              "      <td>강원도</td>\n",
              "      <td>국민임대</td>\n",
              "      <td>40.0</td>\n",
              "      <td>19</td>\n",
              "      <td>7.0</td>\n",
              "      <td>A</td>\n",
              "      <td>11346000.0</td>\n",
              "      <td>116090.0</td>\n",
              "      <td>0.0</td>\n",
              "      <td>1.0</td>\n",
              "      <td>166.0</td>\n",
              "      <td>146.0</td>\n",
              "    </tr>\n",
              "    <tr>\n",
              "      <th>2948</th>\n",
              "      <td>C2532</td>\n",
              "      <td>239</td>\n",
              "      <td>아파트</td>\n",
              "      <td>강원도</td>\n",
              "      <td>국민임대</td>\n",
              "      <td>50.0</td>\n",
              "      <td>34</td>\n",
              "      <td>7.0</td>\n",
              "      <td>A</td>\n",
              "      <td>14005000.0</td>\n",
              "      <td>142310.0</td>\n",
              "      <td>0.0</td>\n",
              "      <td>1.0</td>\n",
              "      <td>166.0</td>\n",
              "      <td>146.0</td>\n",
              "    </tr>\n",
              "    <tr>\n",
              "      <th>2949</th>\n",
              "      <td>C2532</td>\n",
              "      <td>239</td>\n",
              "      <td>아파트</td>\n",
              "      <td>강원도</td>\n",
              "      <td>국민임대</td>\n",
              "      <td>50.0</td>\n",
              "      <td>34</td>\n",
              "      <td>7.0</td>\n",
              "      <td>A</td>\n",
              "      <td>14005000.0</td>\n",
              "      <td>142310.0</td>\n",
              "      <td>0.0</td>\n",
              "      <td>1.0</td>\n",
              "      <td>166.0</td>\n",
              "      <td>146.0</td>\n",
              "    </tr>\n",
              "    <tr>\n",
              "      <th>2950</th>\n",
              "      <td>C2532</td>\n",
              "      <td>239</td>\n",
              "      <td>아파트</td>\n",
              "      <td>강원도</td>\n",
              "      <td>국민임대</td>\n",
              "      <td>50.0</td>\n",
              "      <td>114</td>\n",
              "      <td>7.0</td>\n",
              "      <td>A</td>\n",
              "      <td>14005000.0</td>\n",
              "      <td>142310.0</td>\n",
              "      <td>0.0</td>\n",
              "      <td>1.0</td>\n",
              "      <td>166.0</td>\n",
              "      <td>146.0</td>\n",
              "    </tr>\n",
              "    <tr>\n",
              "      <th>2951</th>\n",
              "      <td>C2532</td>\n",
              "      <td>239</td>\n",
              "      <td>아파트</td>\n",
              "      <td>강원도</td>\n",
              "      <td>국민임대</td>\n",
              "      <td>50.0</td>\n",
              "      <td>19</td>\n",
              "      <td>7.0</td>\n",
              "      <td>A</td>\n",
              "      <td>14830000.0</td>\n",
              "      <td>151030.0</td>\n",
              "      <td>0.0</td>\n",
              "      <td>1.0</td>\n",
              "      <td>166.0</td>\n",
              "      <td>146.0</td>\n",
              "    </tr>\n",
              "  </tbody>\n",
              "</table>\n",
              "<p>2952 rows × 15 columns</p>\n",
              "</div>"
            ],
            "text/plain": [
              "       단지코드  총세대수 임대건물구분  ... 도보 10분거리 내 버스정류장 수 단지내주차면수   등록차량수\n",
              "0     C2483   900    아파트  ...                3.0  1425.0  1015.0\n",
              "1     C2483   900    아파트  ...                3.0  1425.0  1015.0\n",
              "2     C2483   900    아파트  ...                3.0  1425.0  1015.0\n",
              "3     C2483   900    아파트  ...                3.0  1425.0  1015.0\n",
              "4     C2483   900    아파트  ...                3.0  1425.0  1015.0\n",
              "...     ...   ...    ...  ...                ...     ...     ...\n",
              "2947  C2532   239    아파트  ...                1.0   166.0   146.0\n",
              "2948  C2532   239    아파트  ...                1.0   166.0   146.0\n",
              "2949  C2532   239    아파트  ...                1.0   166.0   146.0\n",
              "2950  C2532   239    아파트  ...                1.0   166.0   146.0\n",
              "2951  C2532   239    아파트  ...                1.0   166.0   146.0\n",
              "\n",
              "[2952 rows x 15 columns]"
            ]
          },
          "metadata": {
            "tags": []
          },
          "execution_count": 697
        }
      ]
    },
    {
      "cell_type": "code",
      "metadata": {
        "colab": {
          "base_uri": "https://localhost:8080/",
          "height": 599
        },
        "id": "HUgOgN1WMNf2",
        "outputId": "d667178c-f041-4063-ccba-dc6a84090ecf"
      },
      "source": [
        "train.drop(['총세대수'], axis=1)"
      ],
      "execution_count": null,
      "outputs": [
        {
          "output_type": "execute_result",
          "data": {
            "text/html": [
              "<div>\n",
              "<style scoped>\n",
              "    .dataframe tbody tr th:only-of-type {\n",
              "        vertical-align: middle;\n",
              "    }\n",
              "\n",
              "    .dataframe tbody tr th {\n",
              "        vertical-align: top;\n",
              "    }\n",
              "\n",
              "    .dataframe thead th {\n",
              "        text-align: right;\n",
              "    }\n",
              "</style>\n",
              "<table border=\"1\" class=\"dataframe\">\n",
              "  <thead>\n",
              "    <tr style=\"text-align: right;\">\n",
              "      <th></th>\n",
              "      <th>단지코드</th>\n",
              "      <th>임대건물구분</th>\n",
              "      <th>지역</th>\n",
              "      <th>공급유형</th>\n",
              "      <th>전용면적</th>\n",
              "      <th>전용면적별세대수</th>\n",
              "      <th>공가수</th>\n",
              "      <th>자격유형</th>\n",
              "      <th>임대보증금</th>\n",
              "      <th>임대료</th>\n",
              "      <th>도보 10분거리 내 지하철역 수(환승노선 수 반영)</th>\n",
              "      <th>도보 10분거리 내 버스정류장 수</th>\n",
              "      <th>단지내주차면수</th>\n",
              "      <th>등록차량수</th>\n",
              "    </tr>\n",
              "  </thead>\n",
              "  <tbody>\n",
              "    <tr>\n",
              "      <th>0</th>\n",
              "      <td>C2483</td>\n",
              "      <td>아파트</td>\n",
              "      <td>경상북도</td>\n",
              "      <td>국민임대</td>\n",
              "      <td>30.0</td>\n",
              "      <td>134</td>\n",
              "      <td>38.0</td>\n",
              "      <td>A</td>\n",
              "      <td>15667000.0</td>\n",
              "      <td>103680.0</td>\n",
              "      <td>0.0</td>\n",
              "      <td>3.0</td>\n",
              "      <td>1425.0</td>\n",
              "      <td>1015.0</td>\n",
              "    </tr>\n",
              "    <tr>\n",
              "      <th>1</th>\n",
              "      <td>C2483</td>\n",
              "      <td>아파트</td>\n",
              "      <td>경상북도</td>\n",
              "      <td>국민임대</td>\n",
              "      <td>30.0</td>\n",
              "      <td>15</td>\n",
              "      <td>38.0</td>\n",
              "      <td>A</td>\n",
              "      <td>15667000.0</td>\n",
              "      <td>103680.0</td>\n",
              "      <td>0.0</td>\n",
              "      <td>3.0</td>\n",
              "      <td>1425.0</td>\n",
              "      <td>1015.0</td>\n",
              "    </tr>\n",
              "    <tr>\n",
              "      <th>2</th>\n",
              "      <td>C2483</td>\n",
              "      <td>아파트</td>\n",
              "      <td>경상북도</td>\n",
              "      <td>국민임대</td>\n",
              "      <td>50.0</td>\n",
              "      <td>385</td>\n",
              "      <td>38.0</td>\n",
              "      <td>A</td>\n",
              "      <td>27304000.0</td>\n",
              "      <td>184330.0</td>\n",
              "      <td>0.0</td>\n",
              "      <td>3.0</td>\n",
              "      <td>1425.0</td>\n",
              "      <td>1015.0</td>\n",
              "    </tr>\n",
              "    <tr>\n",
              "      <th>3</th>\n",
              "      <td>C2483</td>\n",
              "      <td>아파트</td>\n",
              "      <td>경상북도</td>\n",
              "      <td>국민임대</td>\n",
              "      <td>50.0</td>\n",
              "      <td>15</td>\n",
              "      <td>38.0</td>\n",
              "      <td>A</td>\n",
              "      <td>27304000.0</td>\n",
              "      <td>184330.0</td>\n",
              "      <td>0.0</td>\n",
              "      <td>3.0</td>\n",
              "      <td>1425.0</td>\n",
              "      <td>1015.0</td>\n",
              "    </tr>\n",
              "    <tr>\n",
              "      <th>4</th>\n",
              "      <td>C2483</td>\n",
              "      <td>아파트</td>\n",
              "      <td>경상북도</td>\n",
              "      <td>국민임대</td>\n",
              "      <td>50.0</td>\n",
              "      <td>41</td>\n",
              "      <td>38.0</td>\n",
              "      <td>A</td>\n",
              "      <td>27304000.0</td>\n",
              "      <td>184330.0</td>\n",
              "      <td>0.0</td>\n",
              "      <td>3.0</td>\n",
              "      <td>1425.0</td>\n",
              "      <td>1015.0</td>\n",
              "    </tr>\n",
              "    <tr>\n",
              "      <th>...</th>\n",
              "      <td>...</td>\n",
              "      <td>...</td>\n",
              "      <td>...</td>\n",
              "      <td>...</td>\n",
              "      <td>...</td>\n",
              "      <td>...</td>\n",
              "      <td>...</td>\n",
              "      <td>...</td>\n",
              "      <td>...</td>\n",
              "      <td>...</td>\n",
              "      <td>...</td>\n",
              "      <td>...</td>\n",
              "      <td>...</td>\n",
              "      <td>...</td>\n",
              "    </tr>\n",
              "    <tr>\n",
              "      <th>2947</th>\n",
              "      <td>C2532</td>\n",
              "      <td>아파트</td>\n",
              "      <td>강원도</td>\n",
              "      <td>국민임대</td>\n",
              "      <td>40.0</td>\n",
              "      <td>19</td>\n",
              "      <td>7.0</td>\n",
              "      <td>A</td>\n",
              "      <td>11346000.0</td>\n",
              "      <td>116090.0</td>\n",
              "      <td>0.0</td>\n",
              "      <td>1.0</td>\n",
              "      <td>166.0</td>\n",
              "      <td>146.0</td>\n",
              "    </tr>\n",
              "    <tr>\n",
              "      <th>2948</th>\n",
              "      <td>C2532</td>\n",
              "      <td>아파트</td>\n",
              "      <td>강원도</td>\n",
              "      <td>국민임대</td>\n",
              "      <td>50.0</td>\n",
              "      <td>34</td>\n",
              "      <td>7.0</td>\n",
              "      <td>A</td>\n",
              "      <td>14005000.0</td>\n",
              "      <td>142310.0</td>\n",
              "      <td>0.0</td>\n",
              "      <td>1.0</td>\n",
              "      <td>166.0</td>\n",
              "      <td>146.0</td>\n",
              "    </tr>\n",
              "    <tr>\n",
              "      <th>2949</th>\n",
              "      <td>C2532</td>\n",
              "      <td>아파트</td>\n",
              "      <td>강원도</td>\n",
              "      <td>국민임대</td>\n",
              "      <td>50.0</td>\n",
              "      <td>34</td>\n",
              "      <td>7.0</td>\n",
              "      <td>A</td>\n",
              "      <td>14005000.0</td>\n",
              "      <td>142310.0</td>\n",
              "      <td>0.0</td>\n",
              "      <td>1.0</td>\n",
              "      <td>166.0</td>\n",
              "      <td>146.0</td>\n",
              "    </tr>\n",
              "    <tr>\n",
              "      <th>2950</th>\n",
              "      <td>C2532</td>\n",
              "      <td>아파트</td>\n",
              "      <td>강원도</td>\n",
              "      <td>국민임대</td>\n",
              "      <td>50.0</td>\n",
              "      <td>114</td>\n",
              "      <td>7.0</td>\n",
              "      <td>A</td>\n",
              "      <td>14005000.0</td>\n",
              "      <td>142310.0</td>\n",
              "      <td>0.0</td>\n",
              "      <td>1.0</td>\n",
              "      <td>166.0</td>\n",
              "      <td>146.0</td>\n",
              "    </tr>\n",
              "    <tr>\n",
              "      <th>2951</th>\n",
              "      <td>C2532</td>\n",
              "      <td>아파트</td>\n",
              "      <td>강원도</td>\n",
              "      <td>국민임대</td>\n",
              "      <td>50.0</td>\n",
              "      <td>19</td>\n",
              "      <td>7.0</td>\n",
              "      <td>A</td>\n",
              "      <td>14830000.0</td>\n",
              "      <td>151030.0</td>\n",
              "      <td>0.0</td>\n",
              "      <td>1.0</td>\n",
              "      <td>166.0</td>\n",
              "      <td>146.0</td>\n",
              "    </tr>\n",
              "  </tbody>\n",
              "</table>\n",
              "<p>2952 rows × 14 columns</p>\n",
              "</div>"
            ],
            "text/plain": [
              "       단지코드 임대건물구분    지역  ... 도보 10분거리 내 버스정류장 수  단지내주차면수   등록차량수\n",
              "0     C2483    아파트  경상북도  ...                3.0   1425.0  1015.0\n",
              "1     C2483    아파트  경상북도  ...                3.0   1425.0  1015.0\n",
              "2     C2483    아파트  경상북도  ...                3.0   1425.0  1015.0\n",
              "3     C2483    아파트  경상북도  ...                3.0   1425.0  1015.0\n",
              "4     C2483    아파트  경상북도  ...                3.0   1425.0  1015.0\n",
              "...     ...    ...   ...  ...                ...      ...     ...\n",
              "2947  C2532    아파트   강원도  ...                1.0    166.0   146.0\n",
              "2948  C2532    아파트   강원도  ...                1.0    166.0   146.0\n",
              "2949  C2532    아파트   강원도  ...                1.0    166.0   146.0\n",
              "2950  C2532    아파트   강원도  ...                1.0    166.0   146.0\n",
              "2951  C2532    아파트   강원도  ...                1.0    166.0   146.0\n",
              "\n",
              "[2952 rows x 14 columns]"
            ]
          },
          "metadata": {
            "tags": []
          },
          "execution_count": 698
        }
      ]
    },
    {
      "cell_type": "markdown",
      "metadata": {
        "id": "IspxYarDH-Cw"
      },
      "source": [
        "변수 차집합, 처리"
      ]
    },
    {
      "cell_type": "code",
      "metadata": {
        "colab": {
          "base_uri": "https://localhost:8080/"
        },
        "id": "_0vqaYNOH9sY",
        "outputId": "c4bc006a-1fba-4c56-b8b4-f26e62a80a07"
      },
      "source": [
        "columns = ['임대건물구분', '지역', '공급유형', '자격유형']\n",
        "for col in columns:\n",
        "    complement = list(set(train[col].unique()) - set(test[col].unique()))\n",
        "    print(f\"Train 데이터 기준 차집합 {col} : {complement}\")"
      ],
      "execution_count": null,
      "outputs": [
        {
          "output_type": "stream",
          "text": [
            "Train 데이터 기준 차집합 임대건물구분 : []\n",
            "Train 데이터 기준 차집합 지역 : ['서울특별시']\n",
            "Train 데이터 기준 차집합 공급유형 : ['공공임대(5년)', '장기전세', '공공분양']\n",
            "Train 데이터 기준 차집합 자격유형 : ['O', 'F', 'B']\n"
          ],
          "name": "stdout"
        }
      ]
    },
    {
      "cell_type": "code",
      "metadata": {
        "id": "AADoaWhjJGme"
      },
      "source": [
        "train = train.loc[train.지역 != '서울특별시']\n",
        "\n",
        "mask = train.공급유형 != '공공분양'\n",
        "mask &= train.공급유형 != '장기전세'\n",
        "mask &= train.공급유형 != '공공임대(5년)'\n",
        "\n",
        "train = train.loc[mask]"
      ],
      "execution_count": null,
      "outputs": []
    },
    {
      "cell_type": "code",
      "metadata": {
        "id": "UDG2qCbgJjah"
      },
      "source": [
        "    mask = train.자격유형 != 'F'\n",
        "    mask &= train.자격유형 != 'B'\n",
        "    mask &= train.자격유형 != 'O'\n",
        "    train = train.loc[mask]"
      ],
      "execution_count": null,
      "outputs": []
    },
    {
      "cell_type": "code",
      "metadata": {
        "colab": {
          "base_uri": "https://localhost:8080/"
        },
        "id": "vhG5ApdYWaJM",
        "outputId": "7e3a97fc-fde9-4b82-dad5-ef577e22ca5d"
      },
      "source": [
        "data = pd.concat([train, test])\n",
        "data.shape"
      ],
      "execution_count": null,
      "outputs": [
        {
          "output_type": "execute_result",
          "data": {
            "text/plain": [
              "(3875, 15)"
            ]
          },
          "metadata": {
            "tags": []
          },
          "execution_count": 702
        }
      ]
    },
    {
      "cell_type": "code",
      "metadata": {
        "colab": {
          "base_uri": "https://localhost:8080/"
        },
        "id": "o1u0zeTWWrw_",
        "outputId": "ef2e09bb-b3f4-4ac5-abc9-71d2e2cf00be"
      },
      "source": [
        "print(data.info())"
      ],
      "execution_count": null,
      "outputs": [
        {
          "output_type": "stream",
          "text": [
            "<class 'pandas.core.frame.DataFrame'>\n",
            "Int64Index: 3875 entries, 0 to 1021\n",
            "Data columns (total 15 columns):\n",
            " #   Column                        Non-Null Count  Dtype  \n",
            "---  ------                        --------------  -----  \n",
            " 0   단지코드                          3875 non-null   object \n",
            " 1   총세대수                          3875 non-null   int64  \n",
            " 2   임대건물구분                        3875 non-null   object \n",
            " 3   지역                            3875 non-null   object \n",
            " 4   공급유형                          3875 non-null   object \n",
            " 5   전용면적                          3875 non-null   float64\n",
            " 6   전용면적별세대수                      3875 non-null   int64  \n",
            " 7   공가수                           3875 non-null   float64\n",
            " 8   자격유형                          3875 non-null   object \n",
            " 9   임대보증금                         3689 non-null   object \n",
            " 10  임대료                           3689 non-null   object \n",
            " 11  도보 10분거리 내 지하철역 수(환승노선 수 반영)  3875 non-null   float64\n",
            " 12  도보 10분거리 내 버스정류장 수            3875 non-null   float64\n",
            " 13  단지내주차면수                       3875 non-null   float64\n",
            " 14  등록차량수                         2853 non-null   float64\n",
            "dtypes: float64(6), int64(2), object(7)\n",
            "memory usage: 484.4+ KB\n",
            "None\n"
          ],
          "name": "stdout"
        }
      ]
    },
    {
      "cell_type": "code",
      "metadata": {
        "colab": {
          "base_uri": "https://localhost:8080/",
          "height": 311
        },
        "id": "Yoel6Vl_XwVK",
        "outputId": "07e30789-a032-4c87-af4a-6c8470711efe"
      },
      "source": [
        "data.describe()"
      ],
      "execution_count": null,
      "outputs": [
        {
          "output_type": "execute_result",
          "data": {
            "text/html": [
              "<div>\n",
              "<style scoped>\n",
              "    .dataframe tbody tr th:only-of-type {\n",
              "        vertical-align: middle;\n",
              "    }\n",
              "\n",
              "    .dataframe tbody tr th {\n",
              "        vertical-align: top;\n",
              "    }\n",
              "\n",
              "    .dataframe thead th {\n",
              "        text-align: right;\n",
              "    }\n",
              "</style>\n",
              "<table border=\"1\" class=\"dataframe\">\n",
              "  <thead>\n",
              "    <tr style=\"text-align: right;\">\n",
              "      <th></th>\n",
              "      <th>총세대수</th>\n",
              "      <th>전용면적</th>\n",
              "      <th>전용면적별세대수</th>\n",
              "      <th>공가수</th>\n",
              "      <th>도보 10분거리 내 지하철역 수(환승노선 수 반영)</th>\n",
              "      <th>도보 10분거리 내 버스정류장 수</th>\n",
              "      <th>단지내주차면수</th>\n",
              "      <th>등록차량수</th>\n",
              "    </tr>\n",
              "  </thead>\n",
              "  <tbody>\n",
              "    <tr>\n",
              "      <th>count</th>\n",
              "      <td>3875.000000</td>\n",
              "      <td>3875.000000</td>\n",
              "      <td>3875.000000</td>\n",
              "      <td>3875.000000</td>\n",
              "      <td>3875.000000</td>\n",
              "      <td>3875.000000</td>\n",
              "      <td>3875.000000</td>\n",
              "      <td>2853.000000</td>\n",
              "    </tr>\n",
              "    <tr>\n",
              "      <th>mean</th>\n",
              "      <td>881.120258</td>\n",
              "      <td>38.356129</td>\n",
              "      <td>102.008774</td>\n",
              "      <td>13.713290</td>\n",
              "      <td>0.154065</td>\n",
              "      <td>3.939355</td>\n",
              "      <td>581.160258</td>\n",
              "      <td>548.132843</td>\n",
              "    </tr>\n",
              "    <tr>\n",
              "      <th>std</th>\n",
              "      <td>522.630169</td>\n",
              "      <td>33.448458</td>\n",
              "      <td>130.354669</td>\n",
              "      <td>10.952501</td>\n",
              "      <td>0.418044</td>\n",
              "      <td>3.623788</td>\n",
              "      <td>380.520972</td>\n",
              "      <td>424.651581</td>\n",
              "    </tr>\n",
              "    <tr>\n",
              "      <th>min</th>\n",
              "      <td>26.000000</td>\n",
              "      <td>0.000000</td>\n",
              "      <td>1.000000</td>\n",
              "      <td>0.000000</td>\n",
              "      <td>0.000000</td>\n",
              "      <td>0.000000</td>\n",
              "      <td>13.000000</td>\n",
              "      <td>13.000000</td>\n",
              "    </tr>\n",
              "    <tr>\n",
              "      <th>25%</th>\n",
              "      <td>504.000000</td>\n",
              "      <td>30.000000</td>\n",
              "      <td>14.000000</td>\n",
              "      <td>4.000000</td>\n",
              "      <td>0.000000</td>\n",
              "      <td>2.000000</td>\n",
              "      <td>277.000000</td>\n",
              "      <td>209.000000</td>\n",
              "    </tr>\n",
              "    <tr>\n",
              "      <th>50%</th>\n",
              "      <td>775.000000</td>\n",
              "      <td>30.000000</td>\n",
              "      <td>60.000000</td>\n",
              "      <td>13.000000</td>\n",
              "      <td>0.000000</td>\n",
              "      <td>3.000000</td>\n",
              "      <td>490.000000</td>\n",
              "      <td>460.000000</td>\n",
              "    </tr>\n",
              "    <tr>\n",
              "      <th>75%</th>\n",
              "      <td>1117.000000</td>\n",
              "      <td>50.000000</td>\n",
              "      <td>143.500000</td>\n",
              "      <td>21.000000</td>\n",
              "      <td>0.000000</td>\n",
              "      <td>4.000000</td>\n",
              "      <td>802.000000</td>\n",
              "      <td>763.000000</td>\n",
              "    </tr>\n",
              "    <tr>\n",
              "      <th>max</th>\n",
              "      <td>2572.000000</td>\n",
              "      <td>580.000000</td>\n",
              "      <td>1865.000000</td>\n",
              "      <td>55.000000</td>\n",
              "      <td>3.000000</td>\n",
              "      <td>50.000000</td>\n",
              "      <td>1798.000000</td>\n",
              "      <td>2550.000000</td>\n",
              "    </tr>\n",
              "  </tbody>\n",
              "</table>\n",
              "</div>"
            ],
            "text/plain": [
              "              총세대수         전용면적  ...      단지내주차면수        등록차량수\n",
              "count  3875.000000  3875.000000  ...  3875.000000  2853.000000\n",
              "mean    881.120258    38.356129  ...   581.160258   548.132843\n",
              "std     522.630169    33.448458  ...   380.520972   424.651581\n",
              "min      26.000000     0.000000  ...    13.000000    13.000000\n",
              "25%     504.000000    30.000000  ...   277.000000   209.000000\n",
              "50%     775.000000    30.000000  ...   490.000000   460.000000\n",
              "75%    1117.000000    50.000000  ...   802.000000   763.000000\n",
              "max    2572.000000   580.000000  ...  1798.000000  2550.000000\n",
              "\n",
              "[8 rows x 8 columns]"
            ]
          },
          "metadata": {
            "tags": []
          },
          "execution_count": 704
        }
      ]
    },
    {
      "cell_type": "markdown",
      "metadata": {
        "id": "evcec9DeGrH6"
      },
      "source": [
        "단지 하나에 하나의 값만 존재하는 컬럼들만 뽑아서 새로운 데이터 프레임 생성"
      ]
    },
    {
      "cell_type": "code",
      "metadata": {
        "id": "jOiZJuypjpON"
      },
      "source": [
        "unique_cols = ['총세대수', '지역', '공가수', \n",
        "               '도보 10분거리 내 지하철역 수(환승노선 수 반영)',\n",
        "               '도보 10분거리 내 버스정류장 수',\n",
        "               '단지내주차면수', '등록차량수']\n",
        "train_agg = train.set_index('단지코드')[unique_cols].drop_duplicates()\n",
        "test_agg = test.set_index('단지코드')[[col for col in unique_cols if col!='등록차량수']].drop_duplicates()"
      ],
      "execution_count": null,
      "outputs": []
    },
    {
      "cell_type": "code",
      "metadata": {
        "colab": {
          "base_uri": "https://localhost:8080/",
          "height": 446
        },
        "id": "0Fuy16PGjrWH",
        "outputId": "a51b7c71-1509-4a98-bf75-03b73e48a5ab"
      },
      "source": [
        "train_agg"
      ],
      "execution_count": null,
      "outputs": [
        {
          "output_type": "execute_result",
          "data": {
            "text/html": [
              "<div>\n",
              "<style scoped>\n",
              "    .dataframe tbody tr th:only-of-type {\n",
              "        vertical-align: middle;\n",
              "    }\n",
              "\n",
              "    .dataframe tbody tr th {\n",
              "        vertical-align: top;\n",
              "    }\n",
              "\n",
              "    .dataframe thead th {\n",
              "        text-align: right;\n",
              "    }\n",
              "</style>\n",
              "<table border=\"1\" class=\"dataframe\">\n",
              "  <thead>\n",
              "    <tr style=\"text-align: right;\">\n",
              "      <th></th>\n",
              "      <th>총세대수</th>\n",
              "      <th>지역</th>\n",
              "      <th>공가수</th>\n",
              "      <th>도보 10분거리 내 지하철역 수(환승노선 수 반영)</th>\n",
              "      <th>도보 10분거리 내 버스정류장 수</th>\n",
              "      <th>단지내주차면수</th>\n",
              "      <th>등록차량수</th>\n",
              "    </tr>\n",
              "    <tr>\n",
              "      <th>단지코드</th>\n",
              "      <th></th>\n",
              "      <th></th>\n",
              "      <th></th>\n",
              "      <th></th>\n",
              "      <th></th>\n",
              "      <th></th>\n",
              "      <th></th>\n",
              "    </tr>\n",
              "  </thead>\n",
              "  <tbody>\n",
              "    <tr>\n",
              "      <th>C2483</th>\n",
              "      <td>900</td>\n",
              "      <td>경상북도</td>\n",
              "      <td>38.0</td>\n",
              "      <td>0.0</td>\n",
              "      <td>3.0</td>\n",
              "      <td>1425.0</td>\n",
              "      <td>1015.0</td>\n",
              "    </tr>\n",
              "    <tr>\n",
              "      <th>C2515</th>\n",
              "      <td>545</td>\n",
              "      <td>경상남도</td>\n",
              "      <td>17.0</td>\n",
              "      <td>0.0</td>\n",
              "      <td>3.0</td>\n",
              "      <td>624.0</td>\n",
              "      <td>205.0</td>\n",
              "    </tr>\n",
              "    <tr>\n",
              "      <th>C1407</th>\n",
              "      <td>1216</td>\n",
              "      <td>대전광역시</td>\n",
              "      <td>13.0</td>\n",
              "      <td>1.0</td>\n",
              "      <td>1.0</td>\n",
              "      <td>1285.0</td>\n",
              "      <td>1064.0</td>\n",
              "    </tr>\n",
              "    <tr>\n",
              "      <th>C1470</th>\n",
              "      <td>696</td>\n",
              "      <td>전라북도</td>\n",
              "      <td>14.0</td>\n",
              "      <td>0.0</td>\n",
              "      <td>2.0</td>\n",
              "      <td>645.0</td>\n",
              "      <td>553.0</td>\n",
              "    </tr>\n",
              "    <tr>\n",
              "      <th>C1898</th>\n",
              "      <td>566</td>\n",
              "      <td>전라북도</td>\n",
              "      <td>9.0</td>\n",
              "      <td>0.0</td>\n",
              "      <td>6.0</td>\n",
              "      <td>517.0</td>\n",
              "      <td>415.0</td>\n",
              "    </tr>\n",
              "    <tr>\n",
              "      <th>...</th>\n",
              "      <td>...</td>\n",
              "      <td>...</td>\n",
              "      <td>...</td>\n",
              "      <td>...</td>\n",
              "      <td>...</td>\n",
              "      <td>...</td>\n",
              "      <td>...</td>\n",
              "    </tr>\n",
              "    <tr>\n",
              "      <th>C2586</th>\n",
              "      <td>90</td>\n",
              "      <td>제주특별자치도</td>\n",
              "      <td>7.0</td>\n",
              "      <td>0.0</td>\n",
              "      <td>3.0</td>\n",
              "      <td>66.0</td>\n",
              "      <td>57.0</td>\n",
              "    </tr>\n",
              "    <tr>\n",
              "      <th>C2035</th>\n",
              "      <td>492</td>\n",
              "      <td>강원도</td>\n",
              "      <td>24.0</td>\n",
              "      <td>0.0</td>\n",
              "      <td>1.0</td>\n",
              "      <td>521.0</td>\n",
              "      <td>246.0</td>\n",
              "    </tr>\n",
              "    <tr>\n",
              "      <th>C2020</th>\n",
              "      <td>40</td>\n",
              "      <td>부산광역시</td>\n",
              "      <td>7.0</td>\n",
              "      <td>1.0</td>\n",
              "      <td>2.0</td>\n",
              "      <td>25.0</td>\n",
              "      <td>19.0</td>\n",
              "    </tr>\n",
              "    <tr>\n",
              "      <th>C2437</th>\n",
              "      <td>90</td>\n",
              "      <td>충청북도</td>\n",
              "      <td>12.0</td>\n",
              "      <td>0.0</td>\n",
              "      <td>1.0</td>\n",
              "      <td>30.0</td>\n",
              "      <td>16.0</td>\n",
              "    </tr>\n",
              "    <tr>\n",
              "      <th>C2532</th>\n",
              "      <td>239</td>\n",
              "      <td>강원도</td>\n",
              "      <td>7.0</td>\n",
              "      <td>0.0</td>\n",
              "      <td>1.0</td>\n",
              "      <td>166.0</td>\n",
              "      <td>146.0</td>\n",
              "    </tr>\n",
              "  </tbody>\n",
              "</table>\n",
              "<p>411 rows × 7 columns</p>\n",
              "</div>"
            ],
            "text/plain": [
              "       총세대수       지역   공가수  ...  도보 10분거리 내 버스정류장 수  단지내주차면수   등록차량수\n",
              "단지코드                        ...                                     \n",
              "C2483   900     경상북도  38.0  ...                 3.0   1425.0  1015.0\n",
              "C2515   545     경상남도  17.0  ...                 3.0    624.0   205.0\n",
              "C1407  1216    대전광역시  13.0  ...                 1.0   1285.0  1064.0\n",
              "C1470   696     전라북도  14.0  ...                 2.0    645.0   553.0\n",
              "C1898   566     전라북도   9.0  ...                 6.0    517.0   415.0\n",
              "...     ...      ...   ...  ...                 ...      ...     ...\n",
              "C2586    90  제주특별자치도   7.0  ...                 3.0     66.0    57.0\n",
              "C2035   492      강원도  24.0  ...                 1.0    521.0   246.0\n",
              "C2020    40    부산광역시   7.0  ...                 2.0     25.0    19.0\n",
              "C2437    90     충청북도  12.0  ...                 1.0     30.0    16.0\n",
              "C2532   239      강원도   7.0  ...                 1.0    166.0   146.0\n",
              "\n",
              "[411 rows x 7 columns]"
            ]
          },
          "metadata": {
            "tags": []
          },
          "execution_count": 706
        }
      ]
    },
    {
      "cell_type": "code",
      "metadata": {
        "colab": {
          "base_uri": "https://localhost:8080/",
          "height": 480
        },
        "id": "5SzjUaaV4eEz",
        "outputId": "88a41e87-c00d-455d-dc61-65d9b59ce406"
      },
      "source": [
        "train.groupby(['단지코드']).nunique(dropna=False)"
      ],
      "execution_count": null,
      "outputs": [
        {
          "output_type": "execute_result",
          "data": {
            "text/html": [
              "<div>\n",
              "<style scoped>\n",
              "    .dataframe tbody tr th:only-of-type {\n",
              "        vertical-align: middle;\n",
              "    }\n",
              "\n",
              "    .dataframe tbody tr th {\n",
              "        vertical-align: top;\n",
              "    }\n",
              "\n",
              "    .dataframe thead th {\n",
              "        text-align: right;\n",
              "    }\n",
              "</style>\n",
              "<table border=\"1\" class=\"dataframe\">\n",
              "  <thead>\n",
              "    <tr style=\"text-align: right;\">\n",
              "      <th></th>\n",
              "      <th>총세대수</th>\n",
              "      <th>임대건물구분</th>\n",
              "      <th>지역</th>\n",
              "      <th>공급유형</th>\n",
              "      <th>전용면적</th>\n",
              "      <th>전용면적별세대수</th>\n",
              "      <th>공가수</th>\n",
              "      <th>자격유형</th>\n",
              "      <th>임대보증금</th>\n",
              "      <th>임대료</th>\n",
              "      <th>도보 10분거리 내 지하철역 수(환승노선 수 반영)</th>\n",
              "      <th>도보 10분거리 내 버스정류장 수</th>\n",
              "      <th>단지내주차면수</th>\n",
              "      <th>등록차량수</th>\n",
              "    </tr>\n",
              "    <tr>\n",
              "      <th>단지코드</th>\n",
              "      <th></th>\n",
              "      <th></th>\n",
              "      <th></th>\n",
              "      <th></th>\n",
              "      <th></th>\n",
              "      <th></th>\n",
              "      <th></th>\n",
              "      <th></th>\n",
              "      <th></th>\n",
              "      <th></th>\n",
              "      <th></th>\n",
              "      <th></th>\n",
              "      <th></th>\n",
              "      <th></th>\n",
              "    </tr>\n",
              "  </thead>\n",
              "  <tbody>\n",
              "    <tr>\n",
              "      <th>C1000</th>\n",
              "      <td>1</td>\n",
              "      <td>1</td>\n",
              "      <td>1</td>\n",
              "      <td>1</td>\n",
              "      <td>3</td>\n",
              "      <td>6</td>\n",
              "      <td>1</td>\n",
              "      <td>1</td>\n",
              "      <td>3</td>\n",
              "      <td>3</td>\n",
              "      <td>1</td>\n",
              "      <td>1</td>\n",
              "      <td>1</td>\n",
              "      <td>1</td>\n",
              "    </tr>\n",
              "    <tr>\n",
              "      <th>C1004</th>\n",
              "      <td>1</td>\n",
              "      <td>2</td>\n",
              "      <td>1</td>\n",
              "      <td>2</td>\n",
              "      <td>5</td>\n",
              "      <td>3</td>\n",
              "      <td>1</td>\n",
              "      <td>2</td>\n",
              "      <td>3</td>\n",
              "      <td>3</td>\n",
              "      <td>1</td>\n",
              "      <td>1</td>\n",
              "      <td>1</td>\n",
              "      <td>1</td>\n",
              "    </tr>\n",
              "    <tr>\n",
              "      <th>C1005</th>\n",
              "      <td>1</td>\n",
              "      <td>1</td>\n",
              "      <td>1</td>\n",
              "      <td>1</td>\n",
              "      <td>1</td>\n",
              "      <td>3</td>\n",
              "      <td>1</td>\n",
              "      <td>1</td>\n",
              "      <td>3</td>\n",
              "      <td>3</td>\n",
              "      <td>1</td>\n",
              "      <td>1</td>\n",
              "      <td>1</td>\n",
              "      <td>1</td>\n",
              "    </tr>\n",
              "    <tr>\n",
              "      <th>C1013</th>\n",
              "      <td>1</td>\n",
              "      <td>1</td>\n",
              "      <td>1</td>\n",
              "      <td>1</td>\n",
              "      <td>3</td>\n",
              "      <td>5</td>\n",
              "      <td>1</td>\n",
              "      <td>1</td>\n",
              "      <td>3</td>\n",
              "      <td>3</td>\n",
              "      <td>1</td>\n",
              "      <td>1</td>\n",
              "      <td>1</td>\n",
              "      <td>1</td>\n",
              "    </tr>\n",
              "    <tr>\n",
              "      <th>C1014</th>\n",
              "      <td>1</td>\n",
              "      <td>1</td>\n",
              "      <td>1</td>\n",
              "      <td>1</td>\n",
              "      <td>3</td>\n",
              "      <td>7</td>\n",
              "      <td>1</td>\n",
              "      <td>1</td>\n",
              "      <td>4</td>\n",
              "      <td>4</td>\n",
              "      <td>1</td>\n",
              "      <td>1</td>\n",
              "      <td>1</td>\n",
              "      <td>1</td>\n",
              "    </tr>\n",
              "    <tr>\n",
              "      <th>...</th>\n",
              "      <td>...</td>\n",
              "      <td>...</td>\n",
              "      <td>...</td>\n",
              "      <td>...</td>\n",
              "      <td>...</td>\n",
              "      <td>...</td>\n",
              "      <td>...</td>\n",
              "      <td>...</td>\n",
              "      <td>...</td>\n",
              "      <td>...</td>\n",
              "      <td>...</td>\n",
              "      <td>...</td>\n",
              "      <td>...</td>\n",
              "      <td>...</td>\n",
              "    </tr>\n",
              "    <tr>\n",
              "      <th>C2663</th>\n",
              "      <td>1</td>\n",
              "      <td>1</td>\n",
              "      <td>1</td>\n",
              "      <td>1</td>\n",
              "      <td>4</td>\n",
              "      <td>6</td>\n",
              "      <td>1</td>\n",
              "      <td>1</td>\n",
              "      <td>4</td>\n",
              "      <td>4</td>\n",
              "      <td>1</td>\n",
              "      <td>1</td>\n",
              "      <td>1</td>\n",
              "      <td>1</td>\n",
              "    </tr>\n",
              "    <tr>\n",
              "      <th>C2666</th>\n",
              "      <td>1</td>\n",
              "      <td>1</td>\n",
              "      <td>1</td>\n",
              "      <td>1</td>\n",
              "      <td>2</td>\n",
              "      <td>6</td>\n",
              "      <td>1</td>\n",
              "      <td>1</td>\n",
              "      <td>2</td>\n",
              "      <td>2</td>\n",
              "      <td>1</td>\n",
              "      <td>1</td>\n",
              "      <td>1</td>\n",
              "      <td>1</td>\n",
              "    </tr>\n",
              "    <tr>\n",
              "      <th>C2670</th>\n",
              "      <td>1</td>\n",
              "      <td>1</td>\n",
              "      <td>1</td>\n",
              "      <td>1</td>\n",
              "      <td>2</td>\n",
              "      <td>3</td>\n",
              "      <td>1</td>\n",
              "      <td>1</td>\n",
              "      <td>3</td>\n",
              "      <td>3</td>\n",
              "      <td>1</td>\n",
              "      <td>1</td>\n",
              "      <td>1</td>\n",
              "      <td>1</td>\n",
              "    </tr>\n",
              "    <tr>\n",
              "      <th>C2680</th>\n",
              "      <td>1</td>\n",
              "      <td>1</td>\n",
              "      <td>1</td>\n",
              "      <td>1</td>\n",
              "      <td>2</td>\n",
              "      <td>3</td>\n",
              "      <td>1</td>\n",
              "      <td>1</td>\n",
              "      <td>2</td>\n",
              "      <td>2</td>\n",
              "      <td>1</td>\n",
              "      <td>1</td>\n",
              "      <td>1</td>\n",
              "      <td>1</td>\n",
              "    </tr>\n",
              "    <tr>\n",
              "      <th>C2692</th>\n",
              "      <td>1</td>\n",
              "      <td>1</td>\n",
              "      <td>1</td>\n",
              "      <td>1</td>\n",
              "      <td>3</td>\n",
              "      <td>4</td>\n",
              "      <td>1</td>\n",
              "      <td>1</td>\n",
              "      <td>3</td>\n",
              "      <td>3</td>\n",
              "      <td>1</td>\n",
              "      <td>1</td>\n",
              "      <td>1</td>\n",
              "      <td>1</td>\n",
              "    </tr>\n",
              "  </tbody>\n",
              "</table>\n",
              "<p>411 rows × 14 columns</p>\n",
              "</div>"
            ],
            "text/plain": [
              "       총세대수  임대건물구분  지역  ...  도보 10분거리 내 버스정류장 수  단지내주차면수  등록차량수\n",
              "단지코드                     ...                                    \n",
              "C1000     1       1   1  ...                   1        1      1\n",
              "C1004     1       2   1  ...                   1        1      1\n",
              "C1005     1       1   1  ...                   1        1      1\n",
              "C1013     1       1   1  ...                   1        1      1\n",
              "C1014     1       1   1  ...                   1        1      1\n",
              "...     ...     ...  ..  ...                 ...      ...    ...\n",
              "C2663     1       1   1  ...                   1        1      1\n",
              "C2666     1       1   1  ...                   1        1      1\n",
              "C2670     1       1   1  ...                   1        1      1\n",
              "C2680     1       1   1  ...                   1        1      1\n",
              "C2692     1       1   1  ...                   1        1      1\n",
              "\n",
              "[411 rows x 14 columns]"
            ]
          },
          "metadata": {
            "tags": []
          },
          "execution_count": 707
        }
      ]
    },
    {
      "cell_type": "code",
      "metadata": {
        "colab": {
          "base_uri": "https://localhost:8080/"
        },
        "id": "LGzKo5fs4hHg",
        "outputId": "30392747-bd25-4e2b-f629-ab39ea60501d"
      },
      "source": [
        "train.groupby(['단지코드']).nunique(dropna=False).sum(axis=0)"
      ],
      "execution_count": null,
      "outputs": [
        {
          "output_type": "execute_result",
          "data": {
            "text/plain": [
              "총세대수                             411\n",
              "임대건물구분                           444\n",
              "지역                               411\n",
              "공급유형                             470\n",
              "전용면적                            1078\n",
              "전용면적별세대수                        2137\n",
              "공가수                              411\n",
              "자격유형                             493\n",
              "임대보증금                           1224\n",
              "임대료                             1240\n",
              "도보 10분거리 내 지하철역 수(환승노선 수 반영)     411\n",
              "도보 10분거리 내 버스정류장 수               411\n",
              "단지내주차면수                          411\n",
              "등록차량수                            411\n",
              "dtype: int64"
            ]
          },
          "metadata": {
            "tags": []
          },
          "execution_count": 708
        }
      ]
    },
    {
      "cell_type": "code",
      "metadata": {
        "colab": {
          "base_uri": "https://localhost:8080/",
          "height": 480
        },
        "id": "qySyMS7GHS1q",
        "outputId": "5962e821-a33f-4764-8078-8fbb0b993414"
      },
      "source": [
        "test.groupby(['단지코드']).nunique(dropna=False)"
      ],
      "execution_count": null,
      "outputs": [
        {
          "output_type": "execute_result",
          "data": {
            "text/html": [
              "<div>\n",
              "<style scoped>\n",
              "    .dataframe tbody tr th:only-of-type {\n",
              "        vertical-align: middle;\n",
              "    }\n",
              "\n",
              "    .dataframe tbody tr th {\n",
              "        vertical-align: top;\n",
              "    }\n",
              "\n",
              "    .dataframe thead th {\n",
              "        text-align: right;\n",
              "    }\n",
              "</style>\n",
              "<table border=\"1\" class=\"dataframe\">\n",
              "  <thead>\n",
              "    <tr style=\"text-align: right;\">\n",
              "      <th></th>\n",
              "      <th>총세대수</th>\n",
              "      <th>임대건물구분</th>\n",
              "      <th>지역</th>\n",
              "      <th>공급유형</th>\n",
              "      <th>전용면적</th>\n",
              "      <th>전용면적별세대수</th>\n",
              "      <th>공가수</th>\n",
              "      <th>자격유형</th>\n",
              "      <th>임대보증금</th>\n",
              "      <th>임대료</th>\n",
              "      <th>도보 10분거리 내 지하철역 수(환승노선 수 반영)</th>\n",
              "      <th>도보 10분거리 내 버스정류장 수</th>\n",
              "      <th>단지내주차면수</th>\n",
              "    </tr>\n",
              "    <tr>\n",
              "      <th>단지코드</th>\n",
              "      <th></th>\n",
              "      <th></th>\n",
              "      <th></th>\n",
              "      <th></th>\n",
              "      <th></th>\n",
              "      <th></th>\n",
              "      <th></th>\n",
              "      <th></th>\n",
              "      <th></th>\n",
              "      <th></th>\n",
              "      <th></th>\n",
              "      <th></th>\n",
              "      <th></th>\n",
              "    </tr>\n",
              "  </thead>\n",
              "  <tbody>\n",
              "    <tr>\n",
              "      <th>C1003</th>\n",
              "      <td>1</td>\n",
              "      <td>1</td>\n",
              "      <td>1</td>\n",
              "      <td>1</td>\n",
              "      <td>4</td>\n",
              "      <td>8</td>\n",
              "      <td>1</td>\n",
              "      <td>1</td>\n",
              "      <td>5</td>\n",
              "      <td>5</td>\n",
              "      <td>1</td>\n",
              "      <td>1</td>\n",
              "      <td>1</td>\n",
              "    </tr>\n",
              "    <tr>\n",
              "      <th>C1006</th>\n",
              "      <td>1</td>\n",
              "      <td>2</td>\n",
              "      <td>1</td>\n",
              "      <td>2</td>\n",
              "      <td>5</td>\n",
              "      <td>7</td>\n",
              "      <td>1</td>\n",
              "      <td>2</td>\n",
              "      <td>3</td>\n",
              "      <td>3</td>\n",
              "      <td>1</td>\n",
              "      <td>1</td>\n",
              "      <td>1</td>\n",
              "    </tr>\n",
              "    <tr>\n",
              "      <th>C1016</th>\n",
              "      <td>1</td>\n",
              "      <td>1</td>\n",
              "      <td>1</td>\n",
              "      <td>1</td>\n",
              "      <td>3</td>\n",
              "      <td>4</td>\n",
              "      <td>1</td>\n",
              "      <td>1</td>\n",
              "      <td>3</td>\n",
              "      <td>3</td>\n",
              "      <td>1</td>\n",
              "      <td>1</td>\n",
              "      <td>1</td>\n",
              "    </tr>\n",
              "    <tr>\n",
              "      <th>C1019</th>\n",
              "      <td>1</td>\n",
              "      <td>1</td>\n",
              "      <td>1</td>\n",
              "      <td>1</td>\n",
              "      <td>2</td>\n",
              "      <td>4</td>\n",
              "      <td>1</td>\n",
              "      <td>1</td>\n",
              "      <td>2</td>\n",
              "      <td>2</td>\n",
              "      <td>1</td>\n",
              "      <td>1</td>\n",
              "      <td>1</td>\n",
              "    </tr>\n",
              "    <tr>\n",
              "      <th>C1030</th>\n",
              "      <td>1</td>\n",
              "      <td>1</td>\n",
              "      <td>1</td>\n",
              "      <td>1</td>\n",
              "      <td>3</td>\n",
              "      <td>3</td>\n",
              "      <td>1</td>\n",
              "      <td>1</td>\n",
              "      <td>3</td>\n",
              "      <td>3</td>\n",
              "      <td>1</td>\n",
              "      <td>1</td>\n",
              "      <td>1</td>\n",
              "    </tr>\n",
              "    <tr>\n",
              "      <th>...</th>\n",
              "      <td>...</td>\n",
              "      <td>...</td>\n",
              "      <td>...</td>\n",
              "      <td>...</td>\n",
              "      <td>...</td>\n",
              "      <td>...</td>\n",
              "      <td>...</td>\n",
              "      <td>...</td>\n",
              "      <td>...</td>\n",
              "      <td>...</td>\n",
              "      <td>...</td>\n",
              "      <td>...</td>\n",
              "      <td>...</td>\n",
              "    </tr>\n",
              "    <tr>\n",
              "      <th>C2653</th>\n",
              "      <td>1</td>\n",
              "      <td>1</td>\n",
              "      <td>1</td>\n",
              "      <td>1</td>\n",
              "      <td>1</td>\n",
              "      <td>4</td>\n",
              "      <td>1</td>\n",
              "      <td>1</td>\n",
              "      <td>2</td>\n",
              "      <td>2</td>\n",
              "      <td>1</td>\n",
              "      <td>1</td>\n",
              "      <td>1</td>\n",
              "    </tr>\n",
              "    <tr>\n",
              "      <th>C2675</th>\n",
              "      <td>1</td>\n",
              "      <td>1</td>\n",
              "      <td>1</td>\n",
              "      <td>1</td>\n",
              "      <td>3</td>\n",
              "      <td>8</td>\n",
              "      <td>1</td>\n",
              "      <td>1</td>\n",
              "      <td>3</td>\n",
              "      <td>3</td>\n",
              "      <td>1</td>\n",
              "      <td>1</td>\n",
              "      <td>1</td>\n",
              "    </tr>\n",
              "    <tr>\n",
              "      <th>C2676</th>\n",
              "      <td>1</td>\n",
              "      <td>2</td>\n",
              "      <td>1</td>\n",
              "      <td>2</td>\n",
              "      <td>8</td>\n",
              "      <td>4</td>\n",
              "      <td>1</td>\n",
              "      <td>2</td>\n",
              "      <td>3</td>\n",
              "      <td>3</td>\n",
              "      <td>1</td>\n",
              "      <td>1</td>\n",
              "      <td>1</td>\n",
              "    </tr>\n",
              "    <tr>\n",
              "      <th>C2688</th>\n",
              "      <td>1</td>\n",
              "      <td>1</td>\n",
              "      <td>1</td>\n",
              "      <td>2</td>\n",
              "      <td>3</td>\n",
              "      <td>5</td>\n",
              "      <td>1</td>\n",
              "      <td>2</td>\n",
              "      <td>5</td>\n",
              "      <td>5</td>\n",
              "      <td>1</td>\n",
              "      <td>1</td>\n",
              "      <td>1</td>\n",
              "    </tr>\n",
              "    <tr>\n",
              "      <th>C2691</th>\n",
              "      <td>1</td>\n",
              "      <td>1</td>\n",
              "      <td>1</td>\n",
              "      <td>1</td>\n",
              "      <td>2</td>\n",
              "      <td>3</td>\n",
              "      <td>1</td>\n",
              "      <td>1</td>\n",
              "      <td>2</td>\n",
              "      <td>2</td>\n",
              "      <td>1</td>\n",
              "      <td>1</td>\n",
              "      <td>1</td>\n",
              "    </tr>\n",
              "  </tbody>\n",
              "</table>\n",
              "<p>150 rows × 13 columns</p>\n",
              "</div>"
            ],
            "text/plain": [
              "       총세대수  임대건물구분  ...  도보 10분거리 내 버스정류장 수  단지내주차면수\n",
              "단지코드                 ...                             \n",
              "C1003     1       1  ...                   1        1\n",
              "C1006     1       2  ...                   1        1\n",
              "C1016     1       1  ...                   1        1\n",
              "C1019     1       1  ...                   1        1\n",
              "C1030     1       1  ...                   1        1\n",
              "...     ...     ...  ...                 ...      ...\n",
              "C2653     1       1  ...                   1        1\n",
              "C2675     1       1  ...                   1        1\n",
              "C2676     1       2  ...                   1        1\n",
              "C2688     1       1  ...                   1        1\n",
              "C2691     1       1  ...                   1        1\n",
              "\n",
              "[150 rows x 13 columns]"
            ]
          },
          "metadata": {
            "tags": []
          },
          "execution_count": 709
        }
      ]
    },
    {
      "cell_type": "code",
      "metadata": {
        "colab": {
          "base_uri": "https://localhost:8080/"
        },
        "id": "W_Z-GjydHQ9X",
        "outputId": "c7db88f7-248c-442e-cc49-295a480be6a3"
      },
      "source": [
        "test.groupby(['단지코드']).nunique(dropna=False).sum(axis=0)"
      ],
      "execution_count": null,
      "outputs": [
        {
          "output_type": "execute_result",
          "data": {
            "text/plain": [
              "총세대수                            150\n",
              "임대건물구분                          157\n",
              "지역                              150\n",
              "공급유형                            167\n",
              "전용면적                            399\n",
              "전용면적별세대수                        797\n",
              "공가수                             150\n",
              "자격유형                            178\n",
              "임대보증금                           459\n",
              "임대료                             461\n",
              "도보 10분거리 내 지하철역 수(환승노선 수 반영)    150\n",
              "도보 10분거리 내 버스정류장 수              150\n",
              "단지내주차면수                         150\n",
              "dtype: int64"
            ]
          },
          "metadata": {
            "tags": []
          },
          "execution_count": 710
        }
      ]
    },
    {
      "cell_type": "code",
      "metadata": {
        "id": "e753XXfZQ4X9"
      },
      "source": [
        "# fig = px.scatter(df_all, x=\"총세대수\", y=\"단지내주차면수\",  color=\"type\", trendline=\"ols\", hover_data=['단지코드'], marginal_x=\"box\",marginal_y=\"box\",)\n",
        "# fig.update_layout(width=600,\n",
        "#                   height=600,\n",
        "#                   hovermode='closest')\n",
        "# fig.show()"
      ],
      "execution_count": null,
      "outputs": []
    },
    {
      "cell_type": "code",
      "metadata": {
        "id": "AzBaQyb9Q_lO"
      },
      "source": [
        "# fig = px.scatter(df_all, x=\"전용면적\", y=\"단지내주차면수\",  color=\"type\", trendline=\"ols\", hover_data=['단지코드'], marginal_x=\"box\",marginal_y=\"box\",)\n",
        "# fig.update_layout(width=600,\n",
        "#                   height=600,\n",
        "#                   hovermode='closest')\n",
        "# fig.show()"
      ],
      "execution_count": null,
      "outputs": []
    },
    {
      "cell_type": "code",
      "metadata": {
        "id": "MF_jcJcFRBFU"
      },
      "source": [
        "# fig = px.scatter(df_all, x=\"공가수\", y=\"단지내주차면수\",  color=\"type\", trendline=\"ols\", hover_data=['단지코드'], marginal_x=\"box\",marginal_y=\"box\",)\n",
        "# fig.update_layout(width=600,\n",
        "#                   height=600,\n",
        "#                   hovermode='closest')\n",
        "# fig.show()"
      ],
      "execution_count": null,
      "outputs": []
    },
    {
      "cell_type": "code",
      "metadata": {
        "id": "yVuG-m0TRCy8"
      },
      "source": [
        "# fig = px.scatter(df_all, x=\"도보 10분거리 내 버스정류장 수\", y=\"단지내주차면수\",  color=\"type\", trendline=\"ols\", hover_data=['단지코드'], marginal_x=\"box\",marginal_y=\"box\",)\n",
        "# fig.update_layout(width=600,\n",
        "#                   height=600,\n",
        "#                   hovermode='closest')\n",
        "# fig.show()"
      ],
      "execution_count": null,
      "outputs": []
    },
    {
      "cell_type": "code",
      "metadata": {
        "id": "9yoAzum6RKaS"
      },
      "source": [
        "# fig = px.scatter(df_all, x=\"도보 10분거리 내 지하철역 수(환승노선 수 반영)\", y=\"단지내주차면수\",  color=\"type\", trendline=\"ols\", hover_data=['단지코드'], marginal_x=\"box\",marginal_y=\"box\",)\n",
        "# fig.update_layout(width=600,\n",
        "#                   height=600,\n",
        "#                   hovermode='closest')\n",
        "# fig.show()"
      ],
      "execution_count": null,
      "outputs": []
    },
    {
      "cell_type": "code",
      "metadata": {
        "colab": {
          "base_uri": "https://localhost:8080/"
        },
        "id": "e18UkgIfUEq9",
        "outputId": "0a4903a6-d3f5-487a-d8f9-4e1314b20bbe"
      },
      "source": [
        "corr = train.drop(['단지코드'],1,).corr()[\"등록차량수\"].abs().sort_values(ascending=False)\n",
        "corr"
      ],
      "execution_count": null,
      "outputs": [
        {
          "output_type": "execute_result",
          "data": {
            "text/plain": [
              "등록차량수                           1.000000\n",
              "단지내주차면수                         0.853826\n",
              "임대료                             0.409688\n",
              "총세대수                            0.327998\n",
              "임대보증금                           0.317207\n",
              "전용면적별세대수                        0.266611\n",
              "공가수                             0.150375\n",
              "도보 10분거리 내 버스정류장 수              0.102569\n",
              "전용면적                            0.083832\n",
              "도보 10분거리 내 지하철역 수(환승노선 수 반영)    0.083431\n",
              "Name: 등록차량수, dtype: float64"
            ]
          },
          "metadata": {
            "tags": []
          },
          "execution_count": 716
        }
      ]
    },
    {
      "cell_type": "markdown",
      "metadata": {
        "id": "NVK3M8BHj2dt"
      },
      "source": [
        "총세대수, 지역, 공가수, 지하철역 수, 버스정류장 수, 단지내 주차면수, 등록차량수 unique!!"
      ]
    },
    {
      "cell_type": "code",
      "metadata": {
        "id": "KahLUNt-ZWBh"
      },
      "source": [
        "data['주차면수대비등록차량비율'] = data['등록차량수']/data['단지내주차면수']\n",
        "data['주차면수대비총세대수비율'] = data['총세대수']/data['단지내주차면수']\n",
        "data['거주율'] = 1- (data['공가수']/data['총세대수'])\n",
        "data['거주율99%이상'] = data['거주율'].apply(lambda x: 1 if x>=0.95 else 0)"
      ],
      "execution_count": null,
      "outputs": []
    },
    {
      "cell_type": "markdown",
      "metadata": {
        "id": "ntwhzslZx2Te"
      },
      "source": [
        "임대건물구분 상가 아파트\n",
        "\n",
        "상가 당 주차수요와 일반 주차수요 구분"
      ]
    },
    {
      "cell_type": "code",
      "metadata": {
        "id": "495j3pleOEnc"
      },
      "source": [
        "def reshape_cat_features(data, cast_col, value_col):\n",
        "    res = data.drop_duplicates(['단지코드', cast_col]).assign(counter=1).pivot(index='단지코드', columns=cast_col, values=value_col).fillna(0)\n",
        "    res.columns.name = None\n",
        "    res = res.rename(columns={col:cast_col+'_'+col for col in res.columns})\n",
        "    return res"
      ],
      "execution_count": null,
      "outputs": []
    },
    {
      "cell_type": "code",
      "metadata": {
        "colab": {
          "base_uri": "https://localhost:8080/",
          "height": 480
        },
        "id": "xuofom5_OK1A",
        "outputId": "232c861c-8658-47bb-c962-787f6fb3a25e"
      },
      "source": [
        "reshape_cat_features(data=train, cast_col='지역', value_col='counter')"
      ],
      "execution_count": null,
      "outputs": [
        {
          "output_type": "execute_result",
          "data": {
            "text/html": [
              "<div>\n",
              "<style scoped>\n",
              "    .dataframe tbody tr th:only-of-type {\n",
              "        vertical-align: middle;\n",
              "    }\n",
              "\n",
              "    .dataframe tbody tr th {\n",
              "        vertical-align: top;\n",
              "    }\n",
              "\n",
              "    .dataframe thead th {\n",
              "        text-align: right;\n",
              "    }\n",
              "</style>\n",
              "<table border=\"1\" class=\"dataframe\">\n",
              "  <thead>\n",
              "    <tr style=\"text-align: right;\">\n",
              "      <th></th>\n",
              "      <th>지역_강원도</th>\n",
              "      <th>지역_경기도</th>\n",
              "      <th>지역_경상남도</th>\n",
              "      <th>지역_경상북도</th>\n",
              "      <th>지역_광주광역시</th>\n",
              "      <th>지역_대구광역시</th>\n",
              "      <th>지역_대전광역시</th>\n",
              "      <th>지역_부산광역시</th>\n",
              "      <th>지역_세종특별자치시</th>\n",
              "      <th>지역_울산광역시</th>\n",
              "      <th>지역_전라남도</th>\n",
              "      <th>지역_전라북도</th>\n",
              "      <th>지역_제주특별자치도</th>\n",
              "      <th>지역_충청남도</th>\n",
              "      <th>지역_충청북도</th>\n",
              "    </tr>\n",
              "    <tr>\n",
              "      <th>단지코드</th>\n",
              "      <th></th>\n",
              "      <th></th>\n",
              "      <th></th>\n",
              "      <th></th>\n",
              "      <th></th>\n",
              "      <th></th>\n",
              "      <th></th>\n",
              "      <th></th>\n",
              "      <th></th>\n",
              "      <th></th>\n",
              "      <th></th>\n",
              "      <th></th>\n",
              "      <th></th>\n",
              "      <th></th>\n",
              "      <th></th>\n",
              "    </tr>\n",
              "  </thead>\n",
              "  <tbody>\n",
              "    <tr>\n",
              "      <th>C1000</th>\n",
              "      <td>0.0</td>\n",
              "      <td>0.0</td>\n",
              "      <td>0.0</td>\n",
              "      <td>0.0</td>\n",
              "      <td>0.0</td>\n",
              "      <td>0.0</td>\n",
              "      <td>0.0</td>\n",
              "      <td>0.0</td>\n",
              "      <td>0.0</td>\n",
              "      <td>0.0</td>\n",
              "      <td>0.0</td>\n",
              "      <td>0.0</td>\n",
              "      <td>0.0</td>\n",
              "      <td>0.0</td>\n",
              "      <td>1.0</td>\n",
              "    </tr>\n",
              "    <tr>\n",
              "      <th>C1004</th>\n",
              "      <td>0.0</td>\n",
              "      <td>0.0</td>\n",
              "      <td>0.0</td>\n",
              "      <td>0.0</td>\n",
              "      <td>0.0</td>\n",
              "      <td>0.0</td>\n",
              "      <td>0.0</td>\n",
              "      <td>0.0</td>\n",
              "      <td>0.0</td>\n",
              "      <td>0.0</td>\n",
              "      <td>0.0</td>\n",
              "      <td>0.0</td>\n",
              "      <td>0.0</td>\n",
              "      <td>1.0</td>\n",
              "      <td>0.0</td>\n",
              "    </tr>\n",
              "    <tr>\n",
              "      <th>C1005</th>\n",
              "      <td>0.0</td>\n",
              "      <td>0.0</td>\n",
              "      <td>0.0</td>\n",
              "      <td>0.0</td>\n",
              "      <td>0.0</td>\n",
              "      <td>0.0</td>\n",
              "      <td>0.0</td>\n",
              "      <td>0.0</td>\n",
              "      <td>0.0</td>\n",
              "      <td>0.0</td>\n",
              "      <td>0.0</td>\n",
              "      <td>0.0</td>\n",
              "      <td>0.0</td>\n",
              "      <td>1.0</td>\n",
              "      <td>0.0</td>\n",
              "    </tr>\n",
              "    <tr>\n",
              "      <th>C1013</th>\n",
              "      <td>0.0</td>\n",
              "      <td>0.0</td>\n",
              "      <td>0.0</td>\n",
              "      <td>0.0</td>\n",
              "      <td>1.0</td>\n",
              "      <td>0.0</td>\n",
              "      <td>0.0</td>\n",
              "      <td>0.0</td>\n",
              "      <td>0.0</td>\n",
              "      <td>0.0</td>\n",
              "      <td>0.0</td>\n",
              "      <td>0.0</td>\n",
              "      <td>0.0</td>\n",
              "      <td>0.0</td>\n",
              "      <td>0.0</td>\n",
              "    </tr>\n",
              "    <tr>\n",
              "      <th>C1014</th>\n",
              "      <td>0.0</td>\n",
              "      <td>0.0</td>\n",
              "      <td>0.0</td>\n",
              "      <td>0.0</td>\n",
              "      <td>0.0</td>\n",
              "      <td>0.0</td>\n",
              "      <td>0.0</td>\n",
              "      <td>0.0</td>\n",
              "      <td>0.0</td>\n",
              "      <td>0.0</td>\n",
              "      <td>0.0</td>\n",
              "      <td>1.0</td>\n",
              "      <td>0.0</td>\n",
              "      <td>0.0</td>\n",
              "      <td>0.0</td>\n",
              "    </tr>\n",
              "    <tr>\n",
              "      <th>...</th>\n",
              "      <td>...</td>\n",
              "      <td>...</td>\n",
              "      <td>...</td>\n",
              "      <td>...</td>\n",
              "      <td>...</td>\n",
              "      <td>...</td>\n",
              "      <td>...</td>\n",
              "      <td>...</td>\n",
              "      <td>...</td>\n",
              "      <td>...</td>\n",
              "      <td>...</td>\n",
              "      <td>...</td>\n",
              "      <td>...</td>\n",
              "      <td>...</td>\n",
              "      <td>...</td>\n",
              "    </tr>\n",
              "    <tr>\n",
              "      <th>C2663</th>\n",
              "      <td>0.0</td>\n",
              "      <td>1.0</td>\n",
              "      <td>0.0</td>\n",
              "      <td>0.0</td>\n",
              "      <td>0.0</td>\n",
              "      <td>0.0</td>\n",
              "      <td>0.0</td>\n",
              "      <td>0.0</td>\n",
              "      <td>0.0</td>\n",
              "      <td>0.0</td>\n",
              "      <td>0.0</td>\n",
              "      <td>0.0</td>\n",
              "      <td>0.0</td>\n",
              "      <td>0.0</td>\n",
              "      <td>0.0</td>\n",
              "    </tr>\n",
              "    <tr>\n",
              "      <th>C2666</th>\n",
              "      <td>0.0</td>\n",
              "      <td>0.0</td>\n",
              "      <td>0.0</td>\n",
              "      <td>0.0</td>\n",
              "      <td>0.0</td>\n",
              "      <td>0.0</td>\n",
              "      <td>0.0</td>\n",
              "      <td>1.0</td>\n",
              "      <td>0.0</td>\n",
              "      <td>0.0</td>\n",
              "      <td>0.0</td>\n",
              "      <td>0.0</td>\n",
              "      <td>0.0</td>\n",
              "      <td>0.0</td>\n",
              "      <td>0.0</td>\n",
              "    </tr>\n",
              "    <tr>\n",
              "      <th>C2670</th>\n",
              "      <td>0.0</td>\n",
              "      <td>0.0</td>\n",
              "      <td>0.0</td>\n",
              "      <td>0.0</td>\n",
              "      <td>0.0</td>\n",
              "      <td>0.0</td>\n",
              "      <td>0.0</td>\n",
              "      <td>0.0</td>\n",
              "      <td>0.0</td>\n",
              "      <td>0.0</td>\n",
              "      <td>0.0</td>\n",
              "      <td>1.0</td>\n",
              "      <td>0.0</td>\n",
              "      <td>0.0</td>\n",
              "      <td>0.0</td>\n",
              "    </tr>\n",
              "    <tr>\n",
              "      <th>C2680</th>\n",
              "      <td>0.0</td>\n",
              "      <td>0.0</td>\n",
              "      <td>1.0</td>\n",
              "      <td>0.0</td>\n",
              "      <td>0.0</td>\n",
              "      <td>0.0</td>\n",
              "      <td>0.0</td>\n",
              "      <td>0.0</td>\n",
              "      <td>0.0</td>\n",
              "      <td>0.0</td>\n",
              "      <td>0.0</td>\n",
              "      <td>0.0</td>\n",
              "      <td>0.0</td>\n",
              "      <td>0.0</td>\n",
              "      <td>0.0</td>\n",
              "    </tr>\n",
              "    <tr>\n",
              "      <th>C2692</th>\n",
              "      <td>0.0</td>\n",
              "      <td>0.0</td>\n",
              "      <td>0.0</td>\n",
              "      <td>1.0</td>\n",
              "      <td>0.0</td>\n",
              "      <td>0.0</td>\n",
              "      <td>0.0</td>\n",
              "      <td>0.0</td>\n",
              "      <td>0.0</td>\n",
              "      <td>0.0</td>\n",
              "      <td>0.0</td>\n",
              "      <td>0.0</td>\n",
              "      <td>0.0</td>\n",
              "      <td>0.0</td>\n",
              "      <td>0.0</td>\n",
              "    </tr>\n",
              "  </tbody>\n",
              "</table>\n",
              "<p>411 rows × 15 columns</p>\n",
              "</div>"
            ],
            "text/plain": [
              "       지역_강원도  지역_경기도  지역_경상남도  지역_경상북도  ...  지역_전라북도  지역_제주특별자치도  지역_충청남도  지역_충청북도\n",
              "단지코드                                     ...                                       \n",
              "C1000     0.0     0.0      0.0      0.0  ...      0.0         0.0      0.0      1.0\n",
              "C1004     0.0     0.0      0.0      0.0  ...      0.0         0.0      1.0      0.0\n",
              "C1005     0.0     0.0      0.0      0.0  ...      0.0         0.0      1.0      0.0\n",
              "C1013     0.0     0.0      0.0      0.0  ...      0.0         0.0      0.0      0.0\n",
              "C1014     0.0     0.0      0.0      0.0  ...      1.0         0.0      0.0      0.0\n",
              "...       ...     ...      ...      ...  ...      ...         ...      ...      ...\n",
              "C2663     0.0     1.0      0.0      0.0  ...      0.0         0.0      0.0      0.0\n",
              "C2666     0.0     0.0      0.0      0.0  ...      0.0         0.0      0.0      0.0\n",
              "C2670     0.0     0.0      0.0      0.0  ...      1.0         0.0      0.0      0.0\n",
              "C2680     0.0     0.0      1.0      0.0  ...      0.0         0.0      0.0      0.0\n",
              "C2692     0.0     0.0      0.0      1.0  ...      0.0         0.0      0.0      0.0\n",
              "\n",
              "[411 rows x 15 columns]"
            ]
          },
          "metadata": {
            "tags": []
          },
          "execution_count": 719
        }
      ]
    },
    {
      "cell_type": "code",
      "metadata": {
        "colab": {
          "base_uri": "https://localhost:8080/",
          "height": 446
        },
        "id": "r7CK_EiwxU9x",
        "outputId": "4d88ea0a-3f05-44d6-f940-6b4721ff1529"
      },
      "source": [
        "reshape_cat_features(data=train, cast_col='임대건물구분', value_col='counter')"
      ],
      "execution_count": null,
      "outputs": [
        {
          "output_type": "execute_result",
          "data": {
            "text/html": [
              "<div>\n",
              "<style scoped>\n",
              "    .dataframe tbody tr th:only-of-type {\n",
              "        vertical-align: middle;\n",
              "    }\n",
              "\n",
              "    .dataframe tbody tr th {\n",
              "        vertical-align: top;\n",
              "    }\n",
              "\n",
              "    .dataframe thead th {\n",
              "        text-align: right;\n",
              "    }\n",
              "</style>\n",
              "<table border=\"1\" class=\"dataframe\">\n",
              "  <thead>\n",
              "    <tr style=\"text-align: right;\">\n",
              "      <th></th>\n",
              "      <th>임대건물구분_상가</th>\n",
              "      <th>임대건물구분_아파트</th>\n",
              "    </tr>\n",
              "    <tr>\n",
              "      <th>단지코드</th>\n",
              "      <th></th>\n",
              "      <th></th>\n",
              "    </tr>\n",
              "  </thead>\n",
              "  <tbody>\n",
              "    <tr>\n",
              "      <th>C1000</th>\n",
              "      <td>0.0</td>\n",
              "      <td>1.0</td>\n",
              "    </tr>\n",
              "    <tr>\n",
              "      <th>C1004</th>\n",
              "      <td>1.0</td>\n",
              "      <td>1.0</td>\n",
              "    </tr>\n",
              "    <tr>\n",
              "      <th>C1005</th>\n",
              "      <td>0.0</td>\n",
              "      <td>1.0</td>\n",
              "    </tr>\n",
              "    <tr>\n",
              "      <th>C1013</th>\n",
              "      <td>0.0</td>\n",
              "      <td>1.0</td>\n",
              "    </tr>\n",
              "    <tr>\n",
              "      <th>C1014</th>\n",
              "      <td>0.0</td>\n",
              "      <td>1.0</td>\n",
              "    </tr>\n",
              "    <tr>\n",
              "      <th>...</th>\n",
              "      <td>...</td>\n",
              "      <td>...</td>\n",
              "    </tr>\n",
              "    <tr>\n",
              "      <th>C2663</th>\n",
              "      <td>0.0</td>\n",
              "      <td>1.0</td>\n",
              "    </tr>\n",
              "    <tr>\n",
              "      <th>C2666</th>\n",
              "      <td>0.0</td>\n",
              "      <td>1.0</td>\n",
              "    </tr>\n",
              "    <tr>\n",
              "      <th>C2670</th>\n",
              "      <td>0.0</td>\n",
              "      <td>1.0</td>\n",
              "    </tr>\n",
              "    <tr>\n",
              "      <th>C2680</th>\n",
              "      <td>0.0</td>\n",
              "      <td>1.0</td>\n",
              "    </tr>\n",
              "    <tr>\n",
              "      <th>C2692</th>\n",
              "      <td>0.0</td>\n",
              "      <td>1.0</td>\n",
              "    </tr>\n",
              "  </tbody>\n",
              "</table>\n",
              "<p>411 rows × 2 columns</p>\n",
              "</div>"
            ],
            "text/plain": [
              "       임대건물구분_상가  임대건물구분_아파트\n",
              "단지코드                        \n",
              "C1000        0.0         1.0\n",
              "C1004        1.0         1.0\n",
              "C1005        0.0         1.0\n",
              "C1013        0.0         1.0\n",
              "C1014        0.0         1.0\n",
              "...          ...         ...\n",
              "C2663        0.0         1.0\n",
              "C2666        0.0         1.0\n",
              "C2670        0.0         1.0\n",
              "C2680        0.0         1.0\n",
              "C2692        0.0         1.0\n",
              "\n",
              "[411 rows x 2 columns]"
            ]
          },
          "metadata": {
            "tags": []
          },
          "execution_count": 720
        }
      ]
    },
    {
      "cell_type": "code",
      "metadata": {
        "colab": {
          "base_uri": "https://localhost:8080/",
          "height": 446
        },
        "id": "KO5cSgRSxYgj",
        "outputId": "5eb35e83-b516-4c23-951a-5c7029206739"
      },
      "source": [
        "reshape_cat_features(data=test, cast_col='임대건물구분', value_col='counter')"
      ],
      "execution_count": null,
      "outputs": [
        {
          "output_type": "execute_result",
          "data": {
            "text/html": [
              "<div>\n",
              "<style scoped>\n",
              "    .dataframe tbody tr th:only-of-type {\n",
              "        vertical-align: middle;\n",
              "    }\n",
              "\n",
              "    .dataframe tbody tr th {\n",
              "        vertical-align: top;\n",
              "    }\n",
              "\n",
              "    .dataframe thead th {\n",
              "        text-align: right;\n",
              "    }\n",
              "</style>\n",
              "<table border=\"1\" class=\"dataframe\">\n",
              "  <thead>\n",
              "    <tr style=\"text-align: right;\">\n",
              "      <th></th>\n",
              "      <th>임대건물구분_상가</th>\n",
              "      <th>임대건물구분_아파트</th>\n",
              "    </tr>\n",
              "    <tr>\n",
              "      <th>단지코드</th>\n",
              "      <th></th>\n",
              "      <th></th>\n",
              "    </tr>\n",
              "  </thead>\n",
              "  <tbody>\n",
              "    <tr>\n",
              "      <th>C1003</th>\n",
              "      <td>0.0</td>\n",
              "      <td>1.0</td>\n",
              "    </tr>\n",
              "    <tr>\n",
              "      <th>C1006</th>\n",
              "      <td>1.0</td>\n",
              "      <td>1.0</td>\n",
              "    </tr>\n",
              "    <tr>\n",
              "      <th>C1016</th>\n",
              "      <td>0.0</td>\n",
              "      <td>1.0</td>\n",
              "    </tr>\n",
              "    <tr>\n",
              "      <th>C1019</th>\n",
              "      <td>0.0</td>\n",
              "      <td>1.0</td>\n",
              "    </tr>\n",
              "    <tr>\n",
              "      <th>C1030</th>\n",
              "      <td>0.0</td>\n",
              "      <td>1.0</td>\n",
              "    </tr>\n",
              "    <tr>\n",
              "      <th>...</th>\n",
              "      <td>...</td>\n",
              "      <td>...</td>\n",
              "    </tr>\n",
              "    <tr>\n",
              "      <th>C2653</th>\n",
              "      <td>0.0</td>\n",
              "      <td>1.0</td>\n",
              "    </tr>\n",
              "    <tr>\n",
              "      <th>C2675</th>\n",
              "      <td>0.0</td>\n",
              "      <td>1.0</td>\n",
              "    </tr>\n",
              "    <tr>\n",
              "      <th>C2676</th>\n",
              "      <td>1.0</td>\n",
              "      <td>1.0</td>\n",
              "    </tr>\n",
              "    <tr>\n",
              "      <th>C2688</th>\n",
              "      <td>0.0</td>\n",
              "      <td>1.0</td>\n",
              "    </tr>\n",
              "    <tr>\n",
              "      <th>C2691</th>\n",
              "      <td>0.0</td>\n",
              "      <td>1.0</td>\n",
              "    </tr>\n",
              "  </tbody>\n",
              "</table>\n",
              "<p>150 rows × 2 columns</p>\n",
              "</div>"
            ],
            "text/plain": [
              "       임대건물구분_상가  임대건물구분_아파트\n",
              "단지코드                        \n",
              "C1003        0.0         1.0\n",
              "C1006        1.0         1.0\n",
              "C1016        0.0         1.0\n",
              "C1019        0.0         1.0\n",
              "C1030        0.0         1.0\n",
              "...          ...         ...\n",
              "C2653        0.0         1.0\n",
              "C2675        0.0         1.0\n",
              "C2676        1.0         1.0\n",
              "C2688        0.0         1.0\n",
              "C2691        0.0         1.0\n",
              "\n",
              "[150 rows x 2 columns]"
            ]
          },
          "metadata": {
            "tags": []
          },
          "execution_count": 721
        }
      ]
    },
    {
      "cell_type": "code",
      "metadata": {
        "colab": {
          "base_uri": "https://localhost:8080/"
        },
        "id": "-qLlfGJJogc9",
        "outputId": "548db788-1dfe-464d-b14f-22426c69e962"
      },
      "source": [
        "print('전체 단지 수: ', train['단지코드'].nunique())\n",
        "print('상가 보유 단지 수: ', train.loc[train['임대건물구분'] == '상가']['단지코드'].nunique())\n",
        "print('상가 보유 단지: ', train.loc[train['임대건물구분'] == '상가']['단지코드'].unique())\n",
        "print('상가 보유 단지 지역: ', train.loc[train['임대건물구분'] == '상가']['지역'].unique())"
      ],
      "execution_count": null,
      "outputs": [
        {
          "output_type": "stream",
          "text": [
            "전체 단지 수:  411\n",
            "상가 보유 단지 수:  33\n",
            "상가 보유 단지:  ['C1925' 'C1874' 'C2416' 'C2621' 'C1616' 'C1704' 'C2258' 'C2038' 'C1859'\n",
            " 'C1722' 'C2190' 'C1476' 'C1983' 'C2135' 'C2034' 'C1109' 'C2289' 'C2597'\n",
            " 'C2310' 'C2132' 'C1439' 'C1899' 'C1056' 'C2644' 'C1206' 'C1775' 'C1790'\n",
            " 'C2109' 'C1698' 'C1004' 'C1875' 'C2212' 'C2571']\n",
            "상가 보유 단지 지역:  ['강원도' '충청남도' '경상남도' '대전광역시' '부산광역시' '제주특별자치도']\n"
          ],
          "name": "stdout"
        }
      ]
    },
    {
      "cell_type": "code",
      "metadata": {
        "colab": {
          "base_uri": "https://localhost:8080/"
        },
        "id": "_-Ik8IZHBzO8",
        "outputId": "5ac40635-95d7-4eb1-ed42-be852e694d0b"
      },
      "source": [
        "print('전체 단지 수: ', train['단지코드'].nunique())\n",
        "print('상가 보유 단지 수: ', train.loc[train['임대건물구분'] == '아파트']['단지코드'].nunique())\n",
        "print('상가 보유 단지: ', train.loc[train['임대건물구분'] == '아파트']['단지코드'].unique())\n",
        "print('상가 보유 단지 지역: ', train.loc[train['임대건물구분'] == '아파트']['지역'].unique())"
      ],
      "execution_count": null,
      "outputs": [
        {
          "output_type": "stream",
          "text": [
            "전체 단지 수:  411\n",
            "상가 보유 단지 수:  411\n",
            "상가 보유 단지:  ['C2483' 'C2515' 'C1407' 'C1470' 'C1898' 'C1244' 'C1171' 'C2073' 'C2513'\n",
            " 'C1936' 'C2049' 'C2202' 'C1925' 'C2576' 'C1312' 'C1874' 'C2650' 'C2416'\n",
            " 'C2013' 'C1424' 'C2100' 'C2621' 'C2520' 'C2319' 'C1616' 'C1704' 'C2258'\n",
            " 'C1032' 'C2038' 'C1859' 'C1722' 'C1850' 'C2190' 'C1476' 'C1077' 'C1068'\n",
            " 'C1983' 'C2135' 'C2034' 'C1109' 'C1497' 'C2289' 'C2597' 'C2310' 'C1672'\n",
            " 'C2132' 'C1439' 'C1613' 'C2216' 'C1899' 'C1056' 'C2644' 'C1206' 'C2481'\n",
            " 'C1718' 'C1655' 'C1430' 'C1775' 'C1519' 'C2221' 'C1790' 'C2109' 'C1698'\n",
            " 'C1866' 'C1005' 'C1004' 'C1875' 'C2156' 'C2212' 'C2401' 'C2571' 'C1175'\n",
            " 'C1833' 'C2445' 'C1885' 'C2368' 'C2016' 'C2371' 'C2536' 'C2538' 'C1014'\n",
            " 'C1592' 'C1867' 'C2326' 'C1015' 'C1620' 'C1049' 'C2000' 'C2097' 'C1668'\n",
            " 'C1689' 'C1234' 'C2514' 'C1368' 'C1057' 'C2336' 'C1026' 'C2256' 'C1900'\n",
            " 'C2666' 'C2361' 'C1642' 'C1013' 'C2232' 'C1973' 'C2458' 'C2574' 'C2133'\n",
            " 'C2096' 'C2010' 'C1879' 'C1131' 'C1468' 'C1213' 'C1173' 'C2492' 'C2032'\n",
            " 'C2094' 'C1880' 'C2089' 'C1744' 'C2046' 'C2071' 'C2635' 'C2390' 'C2561'\n",
            " 'C1663' 'C2490' 'C1585' 'C2276' 'C1155' 'C1693' 'C1889' 'C2518' 'C1962'\n",
            " 'C1666' 'C1988' 'C1537' 'C1329' 'C1762' 'C2008' 'C1319' 'C1141' 'C1929'\n",
            " 'C1681' 'C1184' 'C2383' 'C1579' 'C2173' 'C1911' 'C1638' 'C2412' 'C1871'\n",
            " 'C1309' 'C1527' 'C2208' 'C1940' 'C2596' 'C2227' 'C2563' 'C2358' 'C1492'\n",
            " 'C1601' 'C1687' 'C1236' 'C1487' 'C1379' 'C1386' 'C1656' 'C2526' 'C1022'\n",
            " 'C1896' 'C1269' 'C1916' 'C2070' 'C1967' 'C2021' 'C1143' 'C2188' 'C2651'\n",
            " 'C1036' 'C2657' 'C2527' 'C1502' 'C2262' 'C1084' 'C2530' 'C1046' 'C1761'\n",
            " 'C1102' 'C2420' 'C1122' 'C2042' 'C1375' 'C1410' 'C1641' 'C1706' 'C1307'\n",
            " 'C2601' 'C1085' 'C2385' 'C1059' 'C2162' 'C1819' 'C2325' 'C2394' 'C1133'\n",
            " 'C1281' 'C1194' 'C2308' 'C2036' 'C1394' 'C1180' 'C2503' 'C1907' 'C2181'\n",
            " 'C1768' 'C1783' 'C2192' 'C2346' 'C2680' 'C2631' 'C2141' 'C1569' 'C2099'\n",
            " 'C2287' 'C2055' 'C1428' 'C2522' 'C2560' 'C2068' 'C2603' 'C1965' 'C1660'\n",
            " 'C2378' 'C1268' 'C1994' 'C1837' 'C1000' 'C1465' 'C1448' 'C2670' 'C1365'\n",
            " 'C1177' 'C1360' 'C2488' 'C1406' 'C1566' 'C1227' 'C2460' 'C2486' 'C2106'\n",
            " 'C1572' 'C1773' 'C1677' 'C1823' 'C2692' 'C2505' 'C2587' 'C2127' 'C1316'\n",
            " 'C1674' 'C1713' 'C1845' 'C2082' 'C1328' 'C2357' 'C2565' 'C1804' 'C2255'\n",
            " 'C1343' 'C1987' 'C2479' 'C1310' 'C1738' 'C1863' 'C1426' 'C2659' 'C2489'\n",
            " 'C2211' 'C2314' 'C1861' 'C2389' 'C1490' 'C1788' 'C1740' 'C2620' 'C1286'\n",
            " 'C1089' 'C2237' 'C1341' 'C1338' 'C2405' 'C1969' 'C2274' 'C1699' 'C2251'\n",
            " 'C1340' 'C2373' 'C1455' 'C1095' 'C2137' 'C1985' 'C2583' 'C2663' 'C2450'\n",
            " 'C2329' 'C1834' 'C1649' 'C1848' 'C1743' 'C1350' 'C1402' 'C1103' 'C1129'\n",
            " 'C1027' 'C2377' 'C2431' 'C2661' 'C1263' 'C1136' 'C2605' 'C2393' 'C1673'\n",
            " 'C1017' 'C2539' 'C1933' 'C2316' 'C2051' 'C2414' 'C1301' 'C1700' 'C1636'\n",
            " 'C2612' 'C1757' 'C2507' 'C1163' 'C2627' 'C2040' 'C2609' 'C2001' 'C1065'\n",
            " 'C1363' 'C2579' 'C1048' 'C1210' 'C1320' 'C1941' 'C1326' 'C1685' 'C2618'\n",
            " 'C1451' 'C2143' 'C1968' 'C1258' 'C2453' 'C1659' 'C1724' 'C1802' 'C1939'\n",
            " 'C1284' 'C2595' 'C2351' 'C2506' 'C1697' 'C2259' 'C1786' 'C1357' 'C2570'\n",
            " 'C1565' 'C1910' 'C2359' 'C2139' 'C1979' 'C1803' 'C2508' 'C2531' 'C1695'\n",
            " 'C2556' 'C2086' 'C1544' 'C2154' 'C2496' 'C1756' 'C2362' 'C2568' 'C2245'\n",
            " 'C2059' 'C2549' 'C1584' 'C2298' 'C2225' 'C1218' 'C2328' 'C1045' 'C1207'\n",
            " 'C1970' 'C1732' 'C2433' 'C1894' 'C1156' 'C2142' 'C2153' 'C2186' 'C1176'\n",
            " 'C2446' 'C2586' 'C2035' 'C2020' 'C2437' 'C2532']\n",
            "상가 보유 단지 지역:  ['경상북도' '경상남도' '대전광역시' '전라북도' '경기도' '강원도' '광주광역시' '충청남도' '부산광역시' '제주특별자치도'\n",
            " '울산광역시' '충청북도' '전라남도' '대구광역시' '세종특별자치시']\n"
          ],
          "name": "stdout"
        }
      ]
    },
    {
      "cell_type": "code",
      "metadata": {
        "colab": {
          "base_uri": "https://localhost:8080/"
        },
        "id": "TLdAmF6z8dNM",
        "outputId": "15397e5e-b174-42bd-e6ed-bebf398fe508"
      },
      "source": [
        "set(train.공급유형)"
      ],
      "execution_count": null,
      "outputs": [
        {
          "output_type": "execute_result",
          "data": {
            "text/plain": [
              "{'공공임대(10년)', '공공임대(50년)', '공공임대(분납)', '국민임대', '영구임대', '임대상가', '행복주택'}"
            ]
          },
          "metadata": {
            "tags": []
          },
          "execution_count": 724
        }
      ]
    },
    {
      "cell_type": "markdown",
      "metadata": {
        "id": "qGE_8T5Q9flw"
      },
      "source": [
        "-----------잘된걸 볼수있다---------------"
      ]
    },
    {
      "cell_type": "markdown",
      "metadata": {
        "id": "AS-SRLHX-GFP"
      },
      "source": [
        "특정자격 유형이 많으면 그 단지는 등록차량수가 적을 것이다.\n",
        "예를들어, 소득수준이 낮은 자격유형의 세대가 많으면 주차수요가 적을 가능성이 높을 것으로 예상해볼 수 있다."
      ]
    },
    {
      "cell_type": "code",
      "metadata": {
        "id": "snUOxazW0Y7x"
      },
      "source": [
        "# sns.barplot(data=train.groupby(['자격유형']).sum().sort_values(by=['전용면적별세대수'], ascending=False),\n",
        "#             x=train.groupby(['자격유형']).sum().sort_values(by=['전용면적별세대수'], ascending=False).index, y='전용면적별세대수')\n",
        "# plt.title('자격유형별 총세대수 총합')\n",
        "# plt.xticks(rotation=90)\n",
        "# plt.show()"
      ],
      "execution_count": null,
      "outputs": []
    },
    {
      "cell_type": "markdown",
      "metadata": {
        "id": "rfofPFC9CT2D"
      },
      "source": [
        "중복확인!!"
      ]
    },
    {
      "cell_type": "code",
      "metadata": {
        "colab": {
          "base_uri": "https://localhost:8080/"
        },
        "id": "nwz0iHWfDmPl",
        "outputId": "50c67dbd-8f99-449d-dec8-dc5b2acca685"
      },
      "source": [
        "train.shape, train.drop_duplicates().shape # 중복 존재"
      ],
      "execution_count": null,
      "outputs": [
        {
          "output_type": "execute_result",
          "data": {
            "text/plain": [
              "((2853, 15), (2348, 15))"
            ]
          },
          "metadata": {
            "tags": []
          },
          "execution_count": 726
        }
      ]
    },
    {
      "cell_type": "code",
      "metadata": {
        "colab": {
          "base_uri": "https://localhost:8080/"
        },
        "id": "3Z_aLaTADpZU",
        "outputId": "07da3fa6-0be9-4445-b389-838420def375"
      },
      "source": [
        "test.shape, test.drop_duplicates().shape # 중복 존재"
      ],
      "execution_count": null,
      "outputs": [
        {
          "output_type": "execute_result",
          "data": {
            "text/plain": [
              "((1022, 14), (866, 14))"
            ]
          },
          "metadata": {
            "tags": []
          },
          "execution_count": 727
        }
      ]
    },
    {
      "cell_type": "code",
      "metadata": {
        "id": "Eh76c6LYDrZa"
      },
      "source": [
        "###중복데이터는 제거한다\n",
        "train = train.drop_duplicates()\n",
        "test = test.drop_duplicates()"
      ],
      "execution_count": null,
      "outputs": []
    },
    {
      "cell_type": "code",
      "metadata": {
        "colab": {
          "base_uri": "https://localhost:8080/"
        },
        "id": "GzFDBA_GDsqh",
        "outputId": "e9839976-cd81-4726-ffeb-1803cb6c5555"
      },
      "source": [
        "train.shape, test.shape"
      ],
      "execution_count": null,
      "outputs": [
        {
          "output_type": "execute_result",
          "data": {
            "text/plain": [
              "((2348, 15), (866, 14))"
            ]
          },
          "metadata": {
            "tags": []
          },
          "execution_count": 729
        }
      ]
    },
    {
      "cell_type": "markdown",
      "metadata": {
        "id": "TRIMe5zED8J_"
      },
      "source": [
        "카테고리화!!!!!!!1"
      ]
    },
    {
      "cell_type": "code",
      "metadata": {
        "id": "611YkheaFhNG"
      },
      "source": [
        "# train.loc[:,'임대용총전용면적'] = train.loc[:,'전용면적'] * train.loc[:,'전용면적별세대수']\n",
        "# train.loc[:,\"임대건물구분\"] = train.loc[:,\"임대건물구분\"].astype('category').cat.codes\n",
        "# train.loc[:,'지역'] = train.loc[:,'지역'].astype('category').cat.codes\n",
        "# train.loc[:,'공급유형'] = train.loc[:,'공급유형'].astype('category').cat.codes\n",
        "# train.loc[:,'자격유형'] = train.loc[:,'자격유형'].astype('category').cat.codes\n",
        "# train['key'] = train['임대건물구분'].astype(str).str.cat(train['공급유형'].astype(str), sep='-').str.cat(train['자격유형'].astype(str), sep='-')"
      ],
      "execution_count": null,
      "outputs": []
    },
    {
      "cell_type": "code",
      "metadata": {
        "id": "A21XWmRLFzmG"
      },
      "source": [
        "# test.loc[:,'임대용총전용면적'] = test.loc[:,'전용면적'] * test.loc[:,'전용면적별세대수']\n",
        "# test.loc[:,\"임대건물구분\"] = test.loc[:,\"임대건물구분\"].astype('category').cat.codes\n",
        "# test.loc[:,'지역'] = test.loc[:,'지역'].astype('category').cat.codes\n",
        "# test.loc[:,'공급유형'] = test.loc[:,'공급유형'].astype('category').cat.codes\n",
        "# test.loc[:,'자격유형'] = test.loc[:,'자격유형'].astype('category').cat.codes\n",
        "# test['key'] = test['임대건물구분'].astype(str).str.cat(test['공급유형'].astype(str), sep='-').str.cat(test['자격유형'].astype(str), sep='-')"
      ],
      "execution_count": null,
      "outputs": []
    },
    {
      "cell_type": "markdown",
      "metadata": {
        "id": "gqkNLGNTwlGv"
      },
      "source": [
        "총세대수는 상가 세대수까지 합친 숫자입니다."
      ]
    },
    {
      "cell_type": "markdown",
      "metadata": {
        "id": "FLVm5bWwwx6R"
      },
      "source": [
        "상가가 누락되어 부족한 것도 아닙니다. 그냥 안 맞습니다.\n",
        "제공된 데이터는 해당 단지의 모든 정보를 담고 있는 것은 아닌 것 같습니다.\n",
        "누락된 세대수를 어떻게 해결할지 고민을 해봐야할 것 같습니다."
      ]
    },
    {
      "cell_type": "code",
      "metadata": {
        "colab": {
          "base_uri": "https://localhost:8080/",
          "height": 282
        },
        "id": "nXoycdoHa6hA",
        "outputId": "1a781e95-b1ed-4c60-f4f8-76380d953133"
      },
      "source": [
        "(train_danji['단지내주차면수'] / train_danji['총세대수']).plot(kind='hist', bins=50)"
      ],
      "execution_count": null,
      "outputs": [
        {
          "output_type": "execute_result",
          "data": {
            "text/plain": [
              "<matplotlib.axes._subplots.AxesSubplot at 0x7f20374b4f90>"
            ]
          },
          "metadata": {
            "tags": []
          },
          "execution_count": 732
        },
        {
          "output_type": "display_data",
          "data": {
            "image/png": "[encoded data removed]",
            "text/plain": [
              "<Figure size 432x288 with 1 Axes>"
            ]
          },
          "metadata": {
            "tags": [],
            "needs_background": "light"
          }
        }
      ]
    },
    {
      "cell_type": "code",
      "metadata": {
        "colab": {
          "base_uri": "https://localhost:8080/",
          "height": 282
        },
        "id": "P9piDroYcBWD",
        "outputId": "a75945e9-312b-41ee-993e-c23ab714d3d9"
      },
      "source": [
        "(train_danji['등록차량수'] / train_danji['총세대수']).plot(kind='hist', bins=50)"
      ],
      "execution_count": null,
      "outputs": [
        {
          "output_type": "execute_result",
          "data": {
            "text/plain": [
              "<matplotlib.axes._subplots.AxesSubplot at 0x7f2036fdf410>"
            ]
          },
          "metadata": {
            "tags": []
          },
          "execution_count": 733
        },
        {
          "output_type": "display_data",
          "data": {
            "image/png": "[encoded data removed]",
            "text/plain": [
              "<Figure size 432x288 with 1 Axes>"
            ]
          },
          "metadata": {
            "tags": [],
            "needs_background": "light"
          }
        }
      ]
    },
    {
      "cell_type": "code",
      "metadata": {
        "colab": {
          "base_uri": "https://localhost:8080/",
          "height": 282
        },
        "id": "gfYUiXV_cdS4",
        "outputId": "4f3c97fd-5cfb-470c-e4e3-f1aa50e2faff"
      },
      "source": [
        "(train_danji['등록차량수'] / train_danji['단지내주차면수']).plot(kind='hist', bins=50)"
      ],
      "execution_count": null,
      "outputs": [
        {
          "output_type": "execute_result",
          "data": {
            "text/plain": [
              "<matplotlib.axes._subplots.AxesSubplot at 0x7f2036e96e50>"
            ]
          },
          "metadata": {
            "tags": []
          },
          "execution_count": 734
        },
        {
          "output_type": "display_data",
          "data": {
            "image/png": "[encoded data removed]",
            "text/plain": [
              "<Figure size 432x288 with 1 Axes>"
            ]
          },
          "metadata": {
            "tags": [],
            "needs_background": "light"
          }
        }
      ]
    },
    {
      "cell_type": "code",
      "metadata": {
        "colab": {
          "base_uri": "https://localhost:8080/",
          "height": 282
        },
        "id": "G71JaY9o0pQd",
        "outputId": "e21d7ec1-5882-4d21-8d15-b1c4f898e2cb"
      },
      "source": [
        "(train_danji['단지내주차면수'] / train_danji['총세대수']).plot(kind='hist', bins=50)"
      ],
      "execution_count": null,
      "outputs": [
        {
          "output_type": "execute_result",
          "data": {
            "text/plain": [
              "<matplotlib.axes._subplots.AxesSubplot at 0x7f2036dcfc50>"
            ]
          },
          "metadata": {
            "tags": []
          },
          "execution_count": 735
        },
        {
          "output_type": "display_data",
          "data": {
            "image/png": "[encoded data removed]",
            "text/plain": [
              "<Figure size 432x288 with 1 Axes>"
            ]
          },
          "metadata": {
            "tags": [],
            "needs_background": "light"
          }
        }
      ]
    },
    {
      "cell_type": "markdown",
      "metadata": {
        "id": "mN-ivRX70qrn"
      },
      "source": [
        "단지내 주차면수/ 총세대수는 1을 평균으로 정규분포\n",
        "0에 가까운 단지들 존재, 4가 넘는 것도 있음"
      ]
    },
    {
      "cell_type": "code",
      "metadata": {
        "colab": {
          "base_uri": "https://localhost:8080/",
          "height": 282
        },
        "id": "PJhqODNp08ic",
        "outputId": "f7dc1797-b103-4459-f644-146119b6bd3a"
      },
      "source": [
        "(train_danji['등록차량수'] / train_danji['총세대수']).plot(kind='hist', bins=50)"
      ],
      "execution_count": null,
      "outputs": [
        {
          "output_type": "execute_result",
          "data": {
            "text/plain": [
              "<matplotlib.axes._subplots.AxesSubplot at 0x7f2036cd8d10>"
            ]
          },
          "metadata": {
            "tags": []
          },
          "execution_count": 736
        },
        {
          "output_type": "display_data",
          "data": {
            "image/png": "[encoded data removed]",
            "text/plain": [
              "<Figure size 432x288 with 1 Axes>"
            ]
          },
          "metadata": {
            "tags": [],
            "needs_background": "light"
          }
        }
      ]
    },
    {
      "cell_type": "markdown",
      "metadata": {
        "id": "4eCD--D9Nnsj"
      },
      "source": [
        "결과 파일 생성"
      ]
    },
    {
      "cell_type": "markdown",
      "metadata": {
        "id": "Wb1FmYK4fBjW"
      },
      "source": [
        "지역 매핑"
      ]
    },
    {
      "cell_type": "code",
      "metadata": {
        "id": "WPBrytE8eCf0"
      },
      "source": [
        "local_map = {}\n",
        "for i, loc in enumerate(train_agg['지역'].unique()):\n",
        "    local_map[loc] = i"
      ],
      "execution_count": null,
      "outputs": []
    },
    {
      "cell_type": "code",
      "metadata": {
        "id": "NI81cl3CeDbY"
      },
      "source": [
        "train_agg['지역'] = train_agg['지역'].map(local_map)\n",
        "test_agg['지역'] = test_agg['지역'].map(local_map)"
      ],
      "execution_count": null,
      "outputs": []
    },
    {
      "cell_type": "code",
      "metadata": {
        "id": "YqoyZ3y4d-73"
      },
      "source": [
        "x_train = train_agg.iloc[:, 1:-1]\n",
        "y_train = train_agg.iloc[:,-1]\n",
        "x_test = test_agg.iloc[:,1:]"
      ],
      "execution_count": null,
      "outputs": []
    },
    {
      "cell_type": "code",
      "metadata": {
        "id": "RWbWkjyXeQvD"
      },
      "source": [
        "model = RandomForestRegressor(n_jobs=-1, random_state=42)"
      ],
      "execution_count": null,
      "outputs": []
    },
    {
      "cell_type": "code",
      "metadata": {
        "colab": {
          "base_uri": "https://localhost:8080/"
        },
        "id": "b9O5H6BoeSC6",
        "outputId": "3c543a6b-69ee-4cf2-b5c2-5de430c2fac7"
      },
      "source": [
        "model.fit(x_train, y_train)"
      ],
      "execution_count": null,
      "outputs": [
        {
          "output_type": "execute_result",
          "data": {
            "text/plain": [
              "RandomForestRegressor(bootstrap=True, ccp_alpha=0.0, criterion='mse',\n",
              "                      max_depth=None, max_features='auto', max_leaf_nodes=None,\n",
              "                      max_samples=None, min_impurity_decrease=0.0,\n",
              "                      min_impurity_split=None, min_samples_leaf=1,\n",
              "                      min_samples_split=2, min_weight_fraction_leaf=0.0,\n",
              "                      n_estimators=100, n_jobs=-1, oob_score=False,\n",
              "                      random_state=42, verbose=0, warm_start=False)"
            ]
          },
          "metadata": {
            "tags": []
          },
          "execution_count": 741
        }
      ]
    },
    {
      "cell_type": "code",
      "metadata": {
        "id": "tRew2vDReTxW"
      },
      "source": [
        "pred = model.predict(x_test)"
      ],
      "execution_count": null,
      "outputs": []
    },
    {
      "cell_type": "code",
      "metadata": {
        "id": "UhrLu2KeecJq"
      },
      "source": [
        "submission['num'] = pred"
      ],
      "execution_count": null,
      "outputs": []
    },
    {
      "cell_type": "code",
      "metadata": {
        "colab": {
          "base_uri": "https://localhost:8080/"
        },
        "id": "C_yVnCVAefFG",
        "outputId": "05b3391a-0c05-4031-d10c-5db8b9c9e383"
      },
      "source": [
        "pred"
      ],
      "execution_count": null,
      "outputs": [
        {
          "output_type": "execute_result",
          "data": {
            "text/plain": [
              "array([ 694.41 , 1364.99 ,  587.79 ,  543.94 , 1055.27 , 1728.92 ,\n",
              "        890.68 ,  440.41 ,  382.326,  291.04 ,  542.42 ,  343.16 ,\n",
              "        267.88 ,  306.69 ,  379.47 ,  286.75 ,  424.57 ,  450.56 ,\n",
              "        211.23 ,  855.81 ,  322.18 ,  438.124,  405.08 ,  528.12 ,\n",
              "        396.51 ,  171.16 ,  151.9  ,  480.48 ,  489.62 ,  423.11 ,\n",
              "        906.97 ,  120.32 ,  480.72 ,  335.81 ,   83.24 ,  273.41 ,\n",
              "        507.36 ,  608.6  ,  848.14 ,  294.3  ,  463.67 ,  423.07 ,\n",
              "        447.41 ,  404.71 ,  822.64 , 1178.59 ,  514.94 ,  698.81 ,\n",
              "        389.34 ,  422.126,  779.17 ,  307.14 ,  986.76 ,  679.5  ,\n",
              "        503.13 ,  296.89 ,  449.48 ,  300.55 ,  398.23 ,  105.65 ,\n",
              "        375.165,  515.84 ,  969.03 ,  370.16 ,  113.46 ,  428.91 ,\n",
              "        585.87 ,  870.49 ,  694.27 ,  507.79 ,  812.26 ,  323.18 ,\n",
              "        624.27 ,  755.32 ,  957.1  ,  278.572,  727.5  , 1172.87 ,\n",
              "        520.81 , 1045.56 ,  769.64 , 1037.53 ,  304.62 ,  320.11 ,\n",
              "        331.92 ,  272.71 ,  260.96 ,  428.9  ,  254.74 , 1083.06 ,\n",
              "        803.98 ,  674.97 ,  356.02 ,  610.62 , 1006.7  , 1008.8  ,\n",
              "        567.81 , 1110.36 ,  622.11 ,  905.94 ,  583.77 ,  428.86 ,\n",
              "        689.4  ,  357.05 ,  753.24 ,  537.33 , 1151.73 ,  740.24 ,\n",
              "       1086.56 ,  325.22 ,  523.78 ,  907.97 , 1104.98 , 1000.39 ,\n",
              "        960.93 ,   95.68 ,  166.78 ,  530.6  ,  726.9  , 1261.01 ,\n",
              "        615.49 ,  945.86 ,  671.12 ,  456.03 ,  768.1  ,  284.67 ,\n",
              "        512.99 ,  690.63 ,   94.29 ,   21.36 ,   87.63 ,  476.63 ,\n",
              "        648.63 ,  261.52 ,  245.32 ,  217.86 ,  442.63 ,  452.05 ,\n",
              "        484.6  ,  134.77 ,  709.55 ,   61.68 ,  126.19 ,  308.03 ,\n",
              "        395.59 ,  274.98 ,  496.61 ,   30.14 ,  395.41 ,  231.89 ])"
            ]
          },
          "metadata": {
            "tags": []
          },
          "execution_count": 744
        }
      ]
    },
    {
      "cell_type": "code",
      "metadata": {
        "colab": {
          "base_uri": "https://localhost:8080/"
        },
        "id": "ki73FWrgTLuH",
        "outputId": "712fb4d2-1053-4c10-e0d7-876f36a0d64e"
      },
      "source": [
        "!pip install catboost"
      ],
      "execution_count": null,
      "outputs": [
        {
          "output_type": "stream",
          "text": [
            "Requirement already satisfied: catboost in /usr/local/lib/python3.7/dist-packages (0.26)\n",
            "Requirement already satisfied: plotly in /usr/local/lib/python3.7/dist-packages (from catboost) (4.4.1)\n",
            "Requirement already satisfied: scipy in /usr/local/lib/python3.7/dist-packages (from catboost) (1.4.1)\n",
            "Requirement already satisfied: six in /usr/local/lib/python3.7/dist-packages (from catboost) (1.15.0)\n",
            "Requirement already satisfied: pandas>=0.24.0 in /usr/local/lib/python3.7/dist-packages (from catboost) (1.1.5)\n",
            "Requirement already satisfied: matplotlib in /usr/local/lib/python3.7/dist-packages (from catboost) (3.2.2)\n",
            "Requirement already satisfied: graphviz in /usr/local/lib/python3.7/dist-packages (from catboost) (0.10.1)\n",
            "Requirement already satisfied: numpy>=1.16.0 in /usr/local/lib/python3.7/dist-packages (from catboost) (1.19.5)\n",
            "Requirement already satisfied: retrying>=1.3.3 in /usr/local/lib/python3.7/dist-packages (from plotly->catboost) (1.3.3)\n",
            "Requirement already satisfied: pytz>=2017.2 in /usr/local/lib/python3.7/dist-packages (from pandas>=0.24.0->catboost) (2018.9)\n",
            "Requirement already satisfied: python-dateutil>=2.7.3 in /usr/local/lib/python3.7/dist-packages (from pandas>=0.24.0->catboost) (2.8.1)\n",
            "Requirement already satisfied: cycler>=0.10 in /usr/local/lib/python3.7/dist-packages (from matplotlib->catboost) (0.10.0)\n",
            "Requirement already satisfied: kiwisolver>=1.0.1 in /usr/local/lib/python3.7/dist-packages (from matplotlib->catboost) (1.3.1)\n",
            "Requirement already satisfied: pyparsing!=2.0.4,!=2.1.2,!=2.1.6,>=2.0.1 in /usr/local/lib/python3.7/dist-packages (from matplotlib->catboost) (2.4.7)\n"
          ],
          "name": "stdout"
        }
      ]
    },
    {
      "cell_type": "code",
      "metadata": {
        "id": "fsV8a1yUTI3l"
      },
      "source": [
        "cat_features = ['지역']\n",
        "target_col = '등록차량수'"
      ],
      "execution_count": null,
      "outputs": []
    },
    {
      "cell_type": "code",
      "metadata": {
        "colab": {
          "base_uri": "https://localhost:8080/"
        },
        "id": "waQayormTK5U",
        "outputId": "54121a0a-930b-43a6-b51b-df3690a181a6"
      },
      "source": [
        "from catboost import CatBoostRegressor\n",
        "catb = CatBoostRegressor(\n",
        "         cat_features=cat_features,\n",
        "         loss_function='MAE',\n",
        "         n_estimators=500, \n",
        "         learning_rate=0.05, \n",
        "         random_state=42\n",
        "    )\n",
        "    \n",
        "catb.fit(train_agg.drop(columns=[target_col]), train_agg[target_col], verbose=100)"
      ],
      "execution_count": null,
      "outputs": [
        {
          "output_type": "stream",
          "text": [
            "0:\tlearn: 278.9992689\ttotal: 2.06ms\tremaining: 1.03s\n",
            "100:\tlearn: 108.2865529\ttotal: 137ms\tremaining: 543ms\n",
            "200:\tlearn: 82.2404688\ttotal: 296ms\tremaining: 440ms\n",
            "300:\tlearn: 69.3113325\ttotal: 451ms\tremaining: 298ms\n",
            "400:\tlearn: 60.6657732\ttotal: 596ms\tremaining: 147ms\n",
            "499:\tlearn: 55.0805453\ttotal: 752ms\tremaining: 0us\n"
          ],
          "name": "stdout"
        },
        {
          "output_type": "execute_result",
          "data": {
            "text/plain": [
              "<catboost.core.CatBoostRegressor at 0x7f2036b6fc10>"
            ]
          },
          "metadata": {
            "tags": []
          },
          "execution_count": 747
        }
      ]
    },
    {
      "cell_type": "code",
      "metadata": {
        "colab": {
          "base_uri": "https://localhost:8080/",
          "height": 202
        },
        "id": "6fTMMSDPTSGf",
        "outputId": "6f6dd9d0-948f-4335-adda-582aeb4b3b05"
      },
      "source": [
        "submission.head()"
      ],
      "execution_count": null,
      "outputs": [
        {
          "output_type": "execute_result",
          "data": {
            "text/html": [
              "<div>\n",
              "<style scoped>\n",
              "    .dataframe tbody tr th:only-of-type {\n",
              "        vertical-align: middle;\n",
              "    }\n",
              "\n",
              "    .dataframe tbody tr th {\n",
              "        vertical-align: top;\n",
              "    }\n",
              "\n",
              "    .dataframe thead th {\n",
              "        text-align: right;\n",
              "    }\n",
              "</style>\n",
              "<table border=\"1\" class=\"dataframe\">\n",
              "  <thead>\n",
              "    <tr style=\"text-align: right;\">\n",
              "      <th></th>\n",
              "      <th>code</th>\n",
              "      <th>num</th>\n",
              "    </tr>\n",
              "  </thead>\n",
              "  <tbody>\n",
              "    <tr>\n",
              "      <th>0</th>\n",
              "      <td>C1072</td>\n",
              "      <td>694.41</td>\n",
              "    </tr>\n",
              "    <tr>\n",
              "      <th>1</th>\n",
              "      <td>C1128</td>\n",
              "      <td>1364.99</td>\n",
              "    </tr>\n",
              "    <tr>\n",
              "      <th>2</th>\n",
              "      <td>C1456</td>\n",
              "      <td>587.79</td>\n",
              "    </tr>\n",
              "    <tr>\n",
              "      <th>3</th>\n",
              "      <td>C1840</td>\n",
              "      <td>543.94</td>\n",
              "    </tr>\n",
              "    <tr>\n",
              "      <th>4</th>\n",
              "      <td>C1332</td>\n",
              "      <td>1055.27</td>\n",
              "    </tr>\n",
              "  </tbody>\n",
              "</table>\n",
              "</div>"
            ],
            "text/plain": [
              "    code      num\n",
              "0  C1072   694.41\n",
              "1  C1128  1364.99\n",
              "2  C1456   587.79\n",
              "3  C1840   543.94\n",
              "4  C1332  1055.27"
            ]
          },
          "metadata": {
            "tags": []
          },
          "execution_count": 748
        }
      ]
    },
    {
      "cell_type": "code",
      "metadata": {
        "id": "5J_sIK2nTWQT"
      },
      "source": [
        "submission['num'] = catb.predict(test_agg)"
      ],
      "execution_count": null,
      "outputs": []
    },
    {
      "cell_type": "code",
      "metadata": {
        "colab": {
          "base_uri": "https://localhost:8080/",
          "height": 415
        },
        "id": "Pzab9-oHjJgr",
        "outputId": "46abba23-9fdf-42da-d751-cde2c7f8a7e9"
      },
      "source": [
        "submission"
      ],
      "execution_count": null,
      "outputs": [
        {
          "output_type": "execute_result",
          "data": {
            "text/html": [
              "<div>\n",
              "<style scoped>\n",
              "    .dataframe tbody tr th:only-of-type {\n",
              "        vertical-align: middle;\n",
              "    }\n",
              "\n",
              "    .dataframe tbody tr th {\n",
              "        vertical-align: top;\n",
              "    }\n",
              "\n",
              "    .dataframe thead th {\n",
              "        text-align: right;\n",
              "    }\n",
              "</style>\n",
              "<table border=\"1\" class=\"dataframe\">\n",
              "  <thead>\n",
              "    <tr style=\"text-align: right;\">\n",
              "      <th></th>\n",
              "      <th>code</th>\n",
              "      <th>num</th>\n",
              "    </tr>\n",
              "  </thead>\n",
              "  <tbody>\n",
              "    <tr>\n",
              "      <th>0</th>\n",
              "      <td>C1072</td>\n",
              "      <td>747.065965</td>\n",
              "    </tr>\n",
              "    <tr>\n",
              "      <th>1</th>\n",
              "      <td>C1128</td>\n",
              "      <td>1301.485774</td>\n",
              "    </tr>\n",
              "    <tr>\n",
              "      <th>2</th>\n",
              "      <td>C1456</td>\n",
              "      <td>614.672165</td>\n",
              "    </tr>\n",
              "    <tr>\n",
              "      <th>3</th>\n",
              "      <td>C1840</td>\n",
              "      <td>526.069630</td>\n",
              "    </tr>\n",
              "    <tr>\n",
              "      <th>4</th>\n",
              "      <td>C1332</td>\n",
              "      <td>1177.238420</td>\n",
              "    </tr>\n",
              "    <tr>\n",
              "      <th>...</th>\n",
              "      <td>...</td>\n",
              "      <td>...</td>\n",
              "    </tr>\n",
              "    <tr>\n",
              "      <th>145</th>\n",
              "      <td>C2456</td>\n",
              "      <td>285.081868</td>\n",
              "    </tr>\n",
              "    <tr>\n",
              "      <th>146</th>\n",
              "      <td>C1266</td>\n",
              "      <td>482.028478</td>\n",
              "    </tr>\n",
              "    <tr>\n",
              "      <th>147</th>\n",
              "      <td>C2152</td>\n",
              "      <td>49.183929</td>\n",
              "    </tr>\n",
              "    <tr>\n",
              "      <th>148</th>\n",
              "      <td>C1267</td>\n",
              "      <td>371.716544</td>\n",
              "    </tr>\n",
              "    <tr>\n",
              "      <th>149</th>\n",
              "      <td>C2189</td>\n",
              "      <td>194.381822</td>\n",
              "    </tr>\n",
              "  </tbody>\n",
              "</table>\n",
              "<p>150 rows × 2 columns</p>\n",
              "</div>"
            ],
            "text/plain": [
              "      code          num\n",
              "0    C1072   747.065965\n",
              "1    C1128  1301.485774\n",
              "2    C1456   614.672165\n",
              "3    C1840   526.069630\n",
              "4    C1332  1177.238420\n",
              "..     ...          ...\n",
              "145  C2456   285.081868\n",
              "146  C1266   482.028478\n",
              "147  C2152    49.183929\n",
              "148  C1267   371.716544\n",
              "149  C2189   194.381822\n",
              "\n",
              "[150 rows x 2 columns]"
            ]
          },
          "metadata": {
            "tags": []
          },
          "execution_count": 750
        }
      ]
    },
    {
      "cell_type": "code",
      "metadata": {
        "id": "oNrFOFAsVXfo"
      },
      "source": [
        "submission.to_csv(os.path.join(workspace_path, 'submission___2.csv'),index = False)"
      ],
      "execution_count": null,
      "outputs": []
    }
  ]
}